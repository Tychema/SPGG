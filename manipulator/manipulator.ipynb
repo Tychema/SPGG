{
 "cells": [
  {
   "cell_type": "code",
   "execution_count": 7,
   "id": "e5e68a6d-5947-46ab-b6d7-75d8d7626fce",
   "metadata": {
    "pycharm": {
     "name": "#%%\n"
    }
   },
   "outputs": [
    {
     "data": {
      "image/png": "[encoded data removed]",
      "text/plain": [
       "<Figure size 432x288 with 1 Axes>"
      ]
     },
     "metadata": {
      "needs_background": "light"
     },
     "output_type": "display_data"
    },
    {
     "name": "stdout",
     "output_type": "stream",
     "text": [
      "策略 0 平均收益 nan 0.0\n",
      "策略 1 平均收益 nan 0.0\n",
      "策略 2 平均收益 0.0 0.0\n",
      "{(2.5, 0.0, 1, 1, 1, 1): (0.0, 0.0, 1.0, 0.0, 0.0, None, None, 0.0, None, None, 0.0, None, None, None)}\n",
      "(0.001225, 0.0, 0.998775, 367.5, 0.0091875, -1.9489795918367347, None, 0.011589196766038397)\n",
      "#\n",
      "CPU times: user 610 ms, sys: 0 ns, total: 610 ms\n",
      "Wall time: 577 ms\n"
     ]
    }
   ],
   "source": [
    "%%time\n",
    "import numpy as np\n",
    "from io import BytesIO\n",
    "import matplotlib.pyplot as plt\n",
    "import matplotlib as mpl\n",
    "import random\n",
    "import pandas as pd\n",
    "import math\n",
    "\n",
    "from matplotlib.colors import LinearSegmentedColormap\n",
    "\n",
    "# 定义两个线性分段的颜色映射\n",
    "colors = [(48, 83, 133), (218, 160, 90), (253, 243, 197)]  # R -> G -> B\n",
    "colors = [(color[0] / 255, color[1] / 255, color[2] / 255) for color in colors]\n",
    "cmap_mma = LinearSegmentedColormap.from_list(\"mma\", colors, N=256)\n",
    "\n",
    "# 定义另一个颜色映射\n",
    "colors = [\"#eeeeee\", \"#111111\", \"#787ac0\", ]\n",
    "cmap = mpl.colors.ListedColormap(colors, N=3)\n",
    "\n",
    "# 定义一个函数，用于计算邻居之间的重叠情况\n",
    "overlap5 = lambda A: A + np.roll(A, -1, 0) + np.roll(A, 1, 0) + np.roll(A, -1, 1) + np.roll(A, 1, 1)\n",
    "# 定义一个函数，用于过滤出数组中的正值\n",
    "positive_filter = lambda A: (A > 0) * A\n",
    "\n",
    "# 定义空间公共物品博弈类\n",
    "class SPGG:\n",
    "\n",
    "    def __init__(self, r=3, c=1, cost=0.5, rcr=1, fcr=1, K=0.1, L=50, iterations=1000, num_of_strategies=4, population_type=0, S_in_one=None, gajiucai=0, **params):\n",
    "        # 设置随机种子\n",
    "        np.random.seed()\n",
    "        # 将所有参数放入字典中\n",
    "        all_params = dict(locals(), **params)\n",
    "        # 删除不需要的参数\n",
    "        del all_params['self'], all_params['params']\n",
    "        # 将参数存储在实例中\n",
    "        self.params = all_params\n",
    "        for key in self.params:\n",
    "            setattr(self, key, self.params[key])\n",
    "        # 计算合作者的收益\n",
    "        self.fine = fcr * cost\n",
    "        # 计算背叛者的收益\n",
    "        self.reward = rcr * cost\n",
    "        # 初始化缓存\n",
    "        self.cache = {}\n",
    "        # 初始化单一策略矩阵\n",
    "        self._Sn = S_in_one\n",
    "        # 创建种群\n",
    "        self.create_population()\n",
    "\n",
    "    # 创建种群\n",
    "    def create_population(self):\n",
    "        # 获取L的值\n",
    "        L = self.L\n",
    "        # 获取单一策略矩阵\n",
    "        S_in_one = self._Sn\n",
    "        # 如果没有指定单一策略矩阵，则随机生成\n",
    "        if S_in_one == None:\n",
    "            if self.population_type == 0:\n",
    "                S_in_one = np.random.randint(0, 3, size=L*L).reshape([L, L])\n",
    "                self._Sn = S_in_one\n",
    "            elif self.population_type == 1:\n",
    "                S_in_one = np.random.randint(0, 2, size=L*L).reshape([L, L])\n",
    "                S_in_one[S_in_one == 1] = 2\n",
    "                self._Sn = S_in_one\n",
    "        # 初始化多策略矩阵\n",
    "        self._S = []\n",
    "        for j in range(self.num_of_strategies):\n",
    "            S = (S_in_one == j) * 1\n",
    "            self._S.append(S)\n",
    "        return self._S\n",
    "\n",
    "    # 计算哈希值\n",
    "    def fun_args_id(self, *args):\n",
    "        return hash(args)\n",
    "\n",
    "    # 计算策略矩阵（包括偏移）\n",
    "    def S(self, group_offset=(0, 0), member_offset=(0, 0)):\n",
    "        key = self.fun_args_id(\"S\", group_offset, member_offset)\n",
    "        if key in self.cache:\n",
    "            return self.cache[key]\n",
    "\n",
    "        result = self._S\n",
    "        if group_offset != (0, 0):\n",
    "            result = [np.roll(s, *group_offset) for s in result]\n",
    "        if member_offset != (0, 0):\n",
    "            result = [np.roll(s, *member_offset) for s in result]\n",
    "\n",
    "        self.cache[key] = result\n",
    "        return result\n",
    "\n",
    "    # 计算邻居\n",
    "    def N(self, group_offset=(0, 0), member_offset=(0, 0)):\n",
    "        key = self.fun_args_id(\"N\", group_offset)\n",
    "        if key in self.cache:\n",
    "            return self.cache[key]\n",
    "        # N只和在哪个组有关，而和组中位置无关\n",
    "        S = self.S(group_offset=group_offset)\n",
    "        result = [overlap5(s) for s in S]\n",
    "        self.cache[key] = result\n",
    "        return result\n",
    "\n",
    "    def P_g_m(self, group_offset=(0, 0), member_offset=(0, 0)):\n",
    "        # 计算用于缓存的键\n",
    "        key = self.fun_args_id(\"P_g_m\", group_offset, member_offset)\n",
    "        # 如果已经计算过，直接返回缓存结果\n",
    "        if key in self.cache:\n",
    "            return self.cache[key]\n",
    "\n",
    "        # 获取当前位置的邻居信息和策略信息\n",
    "        N = self.N(group_offset, member_offset)\n",
    "        S = self.S(group_offset, member_offset)\n",
    "        # 获取参数值\n",
    "        r, c, fine, reward, cost = self.r, self.c, self.fine, self.reward, self.cost\n",
    "        n = 5\n",
    "        N1, N2, N3 = N[0], N[1], N[2]\n",
    "        S1, S2, S3 = S[0], S[1], S[2]\n",
    "\n",
    "        # 计算收益\n",
    "        GAJIUCAI = self.gajiucai\n",
    "        P = (r * c * (N1) / n - c + reward * N3 / (((N1 == 0) * 1) + ((N1 != 0) * N1)) * (1 - ((N2 > 0) * 1)) * (((N1 < 4) * 1) * 1 + ((N1 >= 4) * 1) * GAJIUCAI) ) * S1  + \\\n",
    "            (r * c * (N1) / n - fine * N3 / (((N2 == 0) * 1) + ((N2 != 0) * N2)) * ((N1 > 0) * 1)) * S2 + \\\n",
    "            (r * c * (N1) / n - cost * ((N1 > 0) * 1) * (((N1 < 4) * 1) * 1 + ((N1 >= 4) * 1) * GAJIUCAI) ) * S3\n",
    "\n",
    "        # 缓存计算结果\n",
    "        self.cache[key] = P\n",
    "        return P\n",
    "\n",
    "\n",
    "    def P_AT_g_m(self, group_offset=(0, 0), member_offset=(0, 0)):\n",
    "        N = self.N(group_offset, member_offset)\n",
    "        S = self.S()\n",
    "        N1, N2 = N[0], N[1]\n",
    "        S1, S2 = S[0], S[1]\n",
    "\n",
    "        P = self.P_g_m(group_offset, member_offset)\n",
    "\n",
    "        return P\n",
    "\n",
    "    def run(self, log=False, records={}, func_on_iterate=None, update=True, it_records=None):\n",
    "        L, K = self.L, self.K\n",
    "        S = self._S\n",
    "        S1, S2, S3 = S[0], S[1], S[2]\n",
    "\n",
    "\n",
    "\n",
    "        for i in range(1, self.iterations + 1):\n",
    "            self.cache = {}\n",
    "\n",
    "            S_in_one = self._Sn\n",
    "\n",
    "            n = 5\n",
    "            P = self.P_AT_g_m() + self.P_AT_g_m((1, 0), (-1, 0)) + self.P_AT_g_m((-1, 0), (1, 0)) + self.P_AT_g_m((1, 1), (-1, 1)) + self.P_AT_g_m((-1, 1), (1, 1))\n",
    "            self.P = P\n",
    "\n",
    "            if func_on_iterate:\n",
    "                func_on_iterate(locals())\n",
    "\n",
    "            if it_records != None:\n",
    "                S = self.S()\n",
    "                S1, S2, S3 = S[0], S[1], S[2]\n",
    "                record = (np.sum(S1) / (L * L), np.sum(S2) / (L * L), np.sum(S3) / (L * L), \\\n",
    "                    P.sum(), \\\n",
    "                    np.average(P), \\\n",
    "                    np.average(P[S1 == 1]) if np.sum(S1) > 0 else None, \\\n",
    "                    np.average(P[S2 == 1]) if np.sum(S2) > 0 else None, \\\n",
    "                    np.average(P[S3 == 1]) if np.sum(S3) > 0 else None)\n",
    "\n",
    "                it_records.append(record)\n",
    "\n",
    "\n",
    "\n",
    "            if np.sum(S1) == 0:\n",
    "                break\n",
    "\n",
    "\n",
    "            if i == self.iterations:\n",
    "                break\n",
    "\n",
    "            if update:\n",
    "\n",
    "                W_w = 1 / (1 + np.exp((P - np.roll(P, 1, 1)) / K))\n",
    "                W_e = 1 / (1 + np.exp((P - np.roll(P, -1, 1)) / K))\n",
    "                W_n = 1 / (1 + np.exp((P - np.roll(P, 1, 0)) / K))\n",
    "                W_s = 1 / (1 + np.exp((P - np.roll(P, -1, 0)) / K))\n",
    "                RandomNeighbour = np.random.randint(0, n - 1, size=L*L).reshape([L, L])\n",
    "                Random01 = np.random.uniform(0, 1, size=L*L).reshape([L, L])\n",
    "\n",
    "\n",
    "                S_in_one = (RandomNeighbour == 0) * ((Random01 <= W_w) * np.roll(S_in_one, 1, 1) + (Random01 > W_w) * S_in_one) +\\\n",
    "                (RandomNeighbour == 1) * ((Random01 <= W_e) * np.roll(S_in_one, -1, 1) + (Random01 > W_e) * S_in_one) + \\\n",
    "                (RandomNeighbour == 2) * ((Random01 <= W_n) * np.roll(S_in_one, 1, 0) + (Random01 > W_n) * S_in_one) + \\\n",
    "                (RandomNeighbour == 3) * ((Random01 <= W_s) * np.roll(S_in_one, -1, 0) + (Random01 > W_s) * S_in_one)\n",
    "                self._S = []\n",
    "                for j in range(self.num_of_strategies):\n",
    "                    S = (S_in_one == j) * 1\n",
    "                    self._S.append(S)\n",
    "\n",
    "                self._Sn = S_in_one\n",
    "        self.cache = {}\n",
    "        N = self.N()\n",
    "        S = self.S()\n",
    "        N1, N2, N3 = N[0], N[1], N[2]\n",
    "        S1, S2, S3 = S[0], S[1], S[2]\n",
    "        P1_mask = (1 - (N1 == 4 * 1)) * S1\n",
    "        P2_mask = (1 - (N2 == 4 * 1)) * S2\n",
    "        P3_mask = (1 - (N3 == 4 * 1)) * S3\n",
    "\n",
    "        P1_masked = P[P1_mask == 1]\n",
    "        P2_masked = P[P2_mask == 1]\n",
    "        P3_masked = P[P3_mask == 1]\n",
    "\n",
    "        P_border = np.average(P1_masked) if np.sum(P1_mask) > 0 else None, \\\n",
    "                   np.average(P2_masked) if np.sum(P2_mask) > 0 else None, \\\n",
    "                   np.average(P3_masked) if np.sum(P3_mask) > 0 else None\n",
    "\n",
    "        P1_mask = (((N1 == 4 * 1) * S1))\n",
    "        P2_mask = (((N2 == 4 * 1) * S2))\n",
    "        P3_mask = (((N3 == 4 * 1) * S3))\n",
    "\n",
    "        P1_masked = P[P1_mask == 1]\n",
    "        P2_masked = P[P2_mask == 1]\n",
    "        P3_masked = P[P3_mask == 1]\n",
    "\n",
    "        P_inland = np.average(P1_masked) if np.sum(P1_mask) > 0 else None, \\\n",
    "                   np.average(P2_masked) if np.sum(P2_mask) > 0 else None, \\\n",
    "                   np.average(P3_masked) if np.sum(P3_mask) > 0 else None\n",
    "\n",
    "        record = ((np.sum(S1) / (L * L), np.sum(S2) / (L * L), np.sum(S3) / (L * L),\n",
    "                   P.sum(),\n",
    "                   np.average(P),\n",
    "                   np.average(P[S_in_one == 0]) if np.sum(S1) > 0 else None,\n",
    "                   np.average(P[S_in_one == 1]) if np.sum(S2) > 0 else None,\n",
    "                   np.average(P[S_in_one == 2]) if np.sum(S3) > 0 else None,\n",
    "                   *P_border, *P_inland))\n",
    "        records_ = records\n",
    "        records_[(self.r, self.cost, self.rcr, self.fcr, self.population_type, self.gajiucai)] = record\n",
    "        records = records_\n",
    "\n",
    "        return record\n",
    "\n",
    "# spgg = SPGG(r=3, c=1, T=0.0, Tp=0.037, cost=0.2, fine=0.3, K=0.1, iterations=500, L=50)\n",
    "# spgg.run(log=True)\n",
    "#SPGG(r=3, c=1, T=0.09, Tp=0.0, cost=0.3, fine=0.3, K=0.1, iterations=1000, L=50).run(log=True)\n",
    "\n",
    "from IPython.display import clear_output, Image, display, HTML\n",
    "import time\n",
    "\n",
    "# colors = [\"#fd2525\", \"#2585fd\", \"#ffffff\", \"#fd8525\", \"#000000\", \"#25cc25\", \"#25cccc\"]\n",
    "# cmap = mpl.colors.ListedColormap(colors, N=6)\n",
    "\n",
    "\n",
    "\n",
    "def log(locals_dict):\n",
    "    clear_output(wait=True)\n",
    "    S_in_one = locals_dict['S_in_one']\n",
    "    P = locals_dict['P']\n",
    "\n",
    "\n",
    "    plt.imshow(S_in_one, cmap=cmap, vmin=0, vmax=2, interpolation='None')\n",
    "    # plt.gcf().set_dpi(200)\n",
    "    #plt.imshow(S_in_one, cmap=cmap, resample=False, interpolation=None)\n",
    "    plt.axis('off')\n",
    "    #plt.savefig('snapshot.png', bbox_inches=\"tight\", pad_inches=0, dpi=66)\n",
    "    plt.show()\n",
    "\n",
    "    for i in range(num_of_strategies):\n",
    "        print(\"策略\", i, \"平均收益\", np.average(P[S_in_one == i]), np.max(P[S_in_one == i], initial=0))\n",
    "    # print(locals_dict['P'][0:15, 0:15] * (S_in_one[0:15, 0:15] == 0 * 1))\n",
    "    # print(locals_dict['P'][0:15, 0:15] * (S_in_one[0:15, 0:15] == 1 * 1))\n",
    "\n",
    "\n",
    "    #print(np.sum(locals_dict['P']), 100 * 100 * (5 * r - 5))\n",
    "\n",
    "    #print(locals_dict['i'])\n",
    "\n",
    "def log2(locals_dict):\n",
    "    pass\n",
    "\n",
    "r = 2.5\n",
    "cost = 0.\n",
    "try:\n",
    "    it_records = []\n",
    "    spgg = SPGG(r=r, c=1, cost=cost, rcr=1, fcr=1, iterations=1000, L=200, num_of_strategies=3, gajiucai=1, K=0.1, population_type=1)\n",
    "    records_ = {}\n",
    "    record = spgg.run(log=False, func_on_iterate=log, records=records_, it_records=it_records)\n",
    "    # print(record)\n",
    "    print(records_)\n",
    "    print(it_records[5])\n",
    "except KeyboardInterrupt as e:\n",
    "    print(e)\n",
    "finally:\n",
    "    print('#')\n",
    "pass"
   ]
  },
  {
   "cell_type": "code",
   "execution_count": 25,
   "id": "cff14825-0cda-4c18-b1cf-3a136a66cab3",
   "metadata": {
    "pycharm": {
     "name": "#%%\n"
    }
   },
   "outputs": [
    {
     "data": {
      "text/plain": [
       "(0.0, 0.0, 0.0)"
      ]
     },
     "execution_count": 25,
     "metadata": {},
     "output_type": "execute_result"
    }
   ],
   "source": [
    "spgg.P.sum(), spgg.P[spgg._Sn == 0].sum(), spgg.P[spgg._Sn == 2].sum()"
   ]
  },
  {
   "cell_type": "code",
   "execution_count": 16,
   "id": "92a3497d-c0d3-49f8-8caa-a113dcafc258",
   "metadata": {
    "pycharm": {
     "name": "#%%\n"
    }
   },
   "outputs": [
    {
     "data": {
      "text/plain": [
       "5.376974839087185"
      ]
     },
     "execution_count": 16,
     "metadata": {},
     "output_type": "execute_result"
    }
   ],
   "source": [
    "spgg.P[spgg._Sn == 0].sum() / (spgg._Sn == 0).sum()"
   ]
  },
  {
   "cell_type": "code",
   "execution_count": 17,
   "id": "ac8a5759-fcae-4ec5-a6a7-1d5fc0cb7acb",
   "metadata": {
    "pycharm": {
     "name": "#%%\n"
    }
   },
   "outputs": [
    {
     "data": {
      "text/plain": [
       "4.586915297092288"
      ]
     },
     "execution_count": 17,
     "metadata": {},
     "output_type": "execute_result"
    }
   ],
   "source": [
    "spgg.P[spgg._Sn == 2].sum() / (spgg._Sn == 2).sum()"
   ]
  },
  {
   "cell_type": "code",
   "execution_count": 19,
   "id": "d577cfdc-dda2-4d74-bebe-9ed8522e18ab",
   "metadata": {
    "pycharm": {
     "name": "#%%\n"
    }
   },
   "outputs": [
    {
     "data": {
      "text/plain": [
       "10000"
      ]
     },
     "execution_count": 19,
     "metadata": {},
     "output_type": "execute_result"
    }
   ],
   "source": [
    "(spgg._Sn == 0).sum() + (spgg._Sn == 2).sum()"
   ]
  },
  {
   "cell_type": "code",
   "execution_count": null,
   "id": "025dc11c-9b64-49e3-9e66-08387f13e9f4",
   "metadata": {
    "pycharm": {
     "name": "#%%\n"
    }
   },
   "outputs": [],
   "source": [
    "def save_snapshots(locals_dict):\n",
    "    i = locals_dict['i']\n",
    "    if i % (10 ** math.floor(math.log(i + 1, 10))) == 0:\n",
    "        S_in_one = locals_dict['S_in_one']\n",
    "        P = locals_dict['P']\n",
    "        plt.figure(figsize=(10, 10), dpi=70)\n",
    "        plt.imshow(S_in_one, cmap=cmap, vmin=0, vmax=2, interpolation='None')\n",
    "        plt.axis('off')\n",
    "        plt.savefig('snapshots/r_2.5_cost_0.35_%06d.png' % i, bbox_inches=\"tight\", pad_inches=0, dpi=66)\n",
    "cost = 0.35\n",
    "spgg = SPGG(r=2.5, c=1, cost=cost, reward=1*cost, fine=1*cost, iterations=500, L=200, num_of_strategies=3, gajiucai=1, K=0.1, population_type=0)\n",
    "record = spgg.run(log=False, func_on_iterate=save_snapshots)\n",
    "\n",
    "def save_snapshots(locals_dict):\n",
    "    i = locals_dict['i']\n",
    "    if i % (10 ** math.floor(math.log(i + 1, 10))) == 0:\n",
    "        S_in_one = locals_dict['S_in_one']\n",
    "        P = locals_dict['P']\n",
    "        plt.figure(figsize=(10, 10), dpi=70)\n",
    "        plt.imshow(S_in_one, cmap=cmap, vmin=0, vmax=2, interpolation='None')\n",
    "        plt.axis('off')\n",
    "        plt.savefig('snapshots/r_2.5_cost_0.4_%06d.png' % i, bbox_inches=\"tight\", pad_inches=0, dpi=66)\n",
    "cost = 0.4\n",
    "spgg = SPGG(r=2.5, c=1, cost=cost, reward=1*cost, fine=1*cost, iterations=500, L=200, num_of_strategies=3, gajiucai=1, K=0.1, population_type=0)\n",
    "record = spgg.run(log=False, func_on_iterate=save_snapshots)"
   ]
  },
  {
   "cell_type": "code",
   "execution_count": null,
   "id": "2582f16f-7f7d-47e4-a5b9-166fecd8c53d",
   "metadata": {
    "pycharm": {
     "name": "#%%\n"
    }
   },
   "outputs": [],
   "source": []
  },
  {
   "cell_type": "code",
   "execution_count": null,
   "id": "53b12c71-0451-45de-ac86-36c562cbd04b",
   "metadata": {
    "pycharm": {
     "name": "#%%\n"
    }
   },
   "outputs": [],
   "source": [
    "import pandas as pd\n",
    "import datetime\n",
    "import os\n",
    "path = 'it/'\n",
    "os.makedirs(path, exist_ok=True)\n",
    "\n",
    "print(\"开始时间\", str(datetime.datetime.now()))\n",
    "\n",
    "for cost in [0.35, 0.4]:\n",
    "    try:\n",
    "        for i in range(1):\n",
    "            print(\"\\n\\n第\", i + 1, \"次\")\n",
    "            time_str = str(datetime.datetime.now())\n",
    "\n",
    "            it_records = []\n",
    "            spgg = SPGG(r=2.5, c=1, cost=cost, reward=1*cost, fine=1*cost, iterations=100000, L=200, num_of_strategies=3, gajiucai=1, K=0.1, population_type=0)\n",
    "            result = spgg.run(log=False, func_on_iterate=log2, it_records=it_records)\n",
    "            df = pd.DataFrame([[tick + 1] + list(record) for tick, record in enumerate(it_records)], columns=['tick', 'x', 'y', 'z', 'p', 'ap', 'pc', 'pd', 'pm'], index=None)\n",
    "            df.set_index('tick', inplace=True)\n",
    "            df.to_csv(path + time_str + '.csv', )\n",
    "    except Exception as e:\n",
    "        print(e)\n"
   ]
  },
  {
   "cell_type": "code",
   "execution_count": 48,
   "id": "a733105d-ed80-4a8e-a2ff-dea4937f7fd0",
   "metadata": {
    "pycharm": {
     "name": "#%%\n"
    }
   },
   "outputs": [
    {
     "data": {
      "text/plain": [
       "(0.0, 1.0)"
      ]
     },
     "execution_count": 48,
     "metadata": {},
     "output_type": "execute_result"
    },
    {
     "data": {
      "image/png": "[encoded data removed]",
      "text/plain": [
       "<Figure size 432x288 with 1 Axes>"
      ]
     },
     "metadata": {
      "needs_background": "light"
     },
     "output_type": "display_data"
    }
   ],
   "source": [
    "plt.semilogx(df['x'])\n",
    "plt.semilogx(df['y'])\n",
    "plt.semilogx(df['z'])\n",
    "plt.ylim((0, 1))"
   ]
  },
  {
   "cell_type": "code",
   "execution_count": 52,
   "id": "abcffbb2-dd54-4d20-a636-ee060a163351",
   "metadata": {
    "pycharm": {
     "name": "#%%\n"
    }
   },
   "outputs": [
    {
     "data": {
      "text/plain": [
       "(0.0, 1.0)"
      ]
     },
     "execution_count": 52,
     "metadata": {},
     "output_type": "execute_result"
    },
    {
     "data": {
      "image/png": "[encoded data removed]",
      "text/plain": [
       "<Figure size 432x288 with 1 Axes>"
      ]
     },
     "metadata": {
      "needs_background": "light"
     },
     "output_type": "display_data"
    }
   ],
   "source": [
    "plt.semilogx(df['x'])\n",
    "plt.semilogx(df['y'])\n",
    "plt.semilogx(df['z'])\n",
    "plt.ylim((0, 1))"
   ]
  },
  {
   "cell_type": "code",
   "execution_count": 38,
   "id": "c96d46f4-5304-49a7-87cb-9f7dd637a3d9",
   "metadata": {
    "pycharm": {
     "name": "#%%\n"
    }
   },
   "outputs": [
    {
     "data": {
      "text/plain": [
       "(0.0, 1.0)"
      ]
     },
     "execution_count": 38,
     "metadata": {},
     "output_type": "execute_result"
    },
    {
     "data": {
      "image/png": "[encoded data removed]",
      "text/plain": [
       "<Figure size 432x288 with 1 Axes>"
      ]
     },
     "metadata": {
      "needs_background": "light"
     },
     "output_type": "display_data"
    }
   ],
   "source": [
    "plt.semilogx(df['x'])\n",
    "plt.semilogx(df['y'])\n",
    "plt.semilogx(df['z'])\n",
    "plt.ylim((0, 1))"
   ]
  },
  {
   "cell_type": "code",
   "execution_count": null,
   "id": "876c041e-d032-4c58-8609-20054d2c94c9",
   "metadata": {
    "pycharm": {
     "name": "#%%\n"
    }
   },
   "outputs": [],
   "source": [
    "import myutils\n",
    "import importlib\n",
    "importlib.reload(myutils)\n",
    "\n",
    "myutils.testfunc()"
   ]
  },
  {
   "cell_type": "code",
   "execution_count": 2,
   "id": "34243d39-6991-4b65-94e4-bdbedce45dc8",
   "metadata": {
    "pycharm": {
     "name": "#%%\n"
    }
   },
   "outputs": [
    {
     "name": "stdout",
     "output_type": "stream",
     "text": [
      "0 [{'name': 'r', 'a': '1', 'b': '5', 'steps': ['0.16']}, {'name': 'cost', 'a': '0', 'b': '2', 'steps': ['0.01']}, {'name': 'reward', 'a': '0.3', 'b': '0.3', 'steps': ['0.1']}, {'name': 'fine', 'a': '0.3', 'b': '0.3', 'steps': ['0.1']}]\n",
      "5226\n",
      " 5226\n",
      "预计用时 单次秒数* 2.9033333333333333 分钟\n"
     ]
    },
    {
     "data": {
      "text/plain": [
       "5226"
      ]
     },
     "execution_count": 2,
     "metadata": {},
     "output_type": "execute_result"
    }
   ],
   "source": [
    "from decimal import Decimal\n",
    "def drange(start, stop, step):\n",
    "    r = start\n",
    "    while r <= stop:\n",
    "        yield r\n",
    "        r += step\n",
    "        \n",
    "params = [\n",
    "    {\n",
    "        'name': 'r',\n",
    "        'a': '1',\n",
    "        'b': '5',\n",
    "        'steps': ['0.16']\n",
    "    },\n",
    "    {\n",
    "        'name': 'cost',\n",
    "        'a': '0',\n",
    "        'b': '2',\n",
    "        'steps': ['0.01']\n",
    "    },\n",
    "    {\n",
    "        'name': 'reward',\n",
    "        'a': '0.3',\n",
    "        'b': '0.3',\n",
    "        'steps': ['0.1']\n",
    "    },\n",
    "    {\n",
    "        'name': 'fine',\n",
    "        'a': '0.3',\n",
    "        'b': '0.3',\n",
    "        'steps': ['0.1']\n",
    "    }\n",
    "]\n",
    "\n",
    "def cartesian_product_params(params):\n",
    "    param_lists = []\n",
    "    param_vectors = []\n",
    "\n",
    "    print(0, params)\n",
    "\n",
    "    for param in params:\n",
    "        param_list = []\n",
    "        checkin = set()\n",
    "        for step in param['steps']:\n",
    "            a, b, s = Decimal(param['a']), Decimal(param['b']), Decimal(step)\n",
    "            arange = [float(x) for x in drange(a, b, s)]\n",
    "            for _param in arange:\n",
    "                if _param not in checkin:\n",
    "                    param_list.append(float(_param))\n",
    "            checkin.update(arange)\n",
    "        param_lists.append(param_list)\n",
    "\n",
    "    #print(param_lists)\n",
    "\n",
    "    index = 0\n",
    "    count = 1\n",
    "    for param_list in param_lists:\n",
    "        count *= len(param_list)\n",
    "    print(count)\n",
    "\n",
    "    indices = [0] * len(param_lists)\n",
    "    for _ in range(count):\n",
    "\n",
    "        for i in reversed(range(len(param_lists))):\n",
    "            if indices[i] >= len(param_lists[i]):\n",
    "                indices[i] = 0\n",
    "                indices[i - 1] += 1\n",
    "\n",
    "        X = []\n",
    "        for j in range(len(param_lists)):\n",
    "            param_list = param_lists[j]\n",
    "            X.append(param_list[indices[j]])\n",
    "        param_vectors.append(X)\n",
    "        indices[-1] += 1\n",
    "\n",
    "    print(\"\", len(param_vectors))\n",
    "    print(\"预计用时\", \"单次秒数*\", len(param_vectors) * 1 / 30 / 60, \"分钟\")\n",
    "    (len(param_vectors) * 10 * 10 / 1024, \"MB\")\n",
    "    #param_vectors\n",
    "    return param_vectors\n",
    "\n",
    "params = cartesian_product_params(params)\n",
    "len(params)"
   ]
  },
  {
   "cell_type": "code",
   "execution_count": 3,
   "id": "603324ae-c32f-4d09-b3e4-01348f185678",
   "metadata": {
    "pycharm": {
     "name": "#%%\n"
    }
   },
   "outputs": [],
   "source": [
    "from multiprocessing import Pool, Manager\n",
    "from functools import partial\n",
    "import sys, time\n",
    "\n",
    "def PGG_warpper(args, records):\n",
    "#     PGG(r=args[0], T=args[1], Tp=args[2], cost=args[3], fine=args[4], records=records)\n",
    "    \n",
    "    cost = args[1]\n",
    "    \n",
    "    result = SPGG(r=args[0], c=1, cost=cost, rcr=args[2], fcr=args[3], population_type=args[4], gajiucai=args[5], iterations=2000, L=200, num_of_strategies=3).run(log=False, records=records)\n",
    "\n",
    "    # if cost == 0:\n",
    "    #     print(records[(2.0, 0.0, 0.0, 0.0, 0.0, 1.0)])\n",
    "    #     print(result)\n",
    "\n",
    "def run(param_vectors, n=18):\n",
    "    records_ = Manager().dict()\n",
    "    global pool\n",
    "    pool = Pool(n)\n",
    "    i = 0\n",
    "\n",
    "    for arg in pool.imap(partial(PGG_warpper, records=records_), param_vectors):\n",
    "        i += 1\n",
    "        if i % (int(len(param_vectors) / 100) + 1) == 0:\n",
    "            print(\"\\r\", end=\"\")\n",
    "            print(\"进度: {}%: \".format(int(i / len(param_vectors) * 1000) / 10), \"▓\" * (int(i / len(param_vectors) * 100) // 2), end=\"\")\n",
    "            sys.stdout.flush()\n",
    "#             print(int(i / len(param_vectors) * 1000) / 10.0, '%')\n",
    "    print(\"\\r\", end=\"\")\n",
    "    print(\" \", end=\"\")\n",
    "    sys.stdout.flush()\n",
    "    return records_.copy()"
   ]
  },
  {
   "cell_type": "code",
   "execution_count": 6,
   "id": "b9dbb14b-8ca9-4fce-9580-505a963d1d7e",
   "metadata": {
    "pycharm": {
     "name": "#%%\n"
    }
   },
   "outputs": [],
   "source": [
    "records_ = Manager().dict()"
   ]
  },
  {
   "cell_type": "code",
   "execution_count": 10,
   "id": "ca4593b9-19d7-4091-94dd-0765bf4fd0b0",
   "metadata": {
    "pycharm": {
     "name": "#%%\n"
    }
   },
   "outputs": [
    {
     "name": "stdout",
     "output_type": "stream",
     "text": [
      "{(2.0, 0.0, 0.0, 0.0, 0.0, 1.0): (1, 2)}\n"
     ]
    }
   ],
   "source": [
    "print(records_)"
   ]
  },
  {
   "cell_type": "code",
   "execution_count": 9,
   "id": "06b7386e-6790-4e67-ad09-9606b23bb004",
   "metadata": {
    "pycharm": {
     "name": "#%%\n"
    }
   },
   "outputs": [],
   "source": [
    "records_[(2.0, 0.0, 0.0, 0.0, 0.0, 1.0)] = (1,2)"
   ]
  },
  {
   "cell_type": "code",
   "execution_count": 20,
   "id": "56402317-97d6-44d4-aa75-509fc70b223e",
   "metadata": {
    "pycharm": {
     "name": "#%%\n"
    }
   },
   "outputs": [
    {
     "data": {
      "text/plain": [
       "(0.0, 0.4993, 0.5007, 0.0, 0.0, None, 0.0, 0.0, None, 0.0, 0.0, None, 0.0, 0.0)"
      ]
     },
     "execution_count": 20,
     "metadata": {},
     "output_type": "execute_result"
    }
   ],
   "source": [
    "records[(2.0, 0.0, 0.0, 0.0, 0.0, 1.0)]"
   ]
  },
  {
   "cell_type": "code",
   "execution_count": 8,
   "id": "cec7d922-f6bc-4557-ae85-58e042601e6b",
   "metadata": {
    "pycharm": {
     "name": "#%%\n"
    }
   },
   "outputs": [
    {
     "name": "stdout",
     "output_type": "stream",
     "text": [
      "['r', 'cost', 'reward', 'fine', 'population_type', 'gajiucai']\n",
      "0 [{'name': 'r', 'a': '2.5', 'b': '2.5', 'steps': ['0.5']}, {'name': 'cost', 'a': '0.02', 'b': '1', 'steps': ['0.02']}, {'name': 'reward', 'a': '1', 'b': '1', 'steps': ['0.25']}, {'name': 'fine', 'a': '1', 'b': '5', 'steps': ['4']}, {'name': 'population_type', 'a': '0', 'b': '0', 'steps': ['1']}, {'name': 'gajiucai', 'a': '1', 'b': '1', 'steps': ['1']}]\n",
      "100\n",
      " 100\n",
      "预计用时 单次秒数* 0.05555555555555556 分钟\n"
     ]
    }
   ],
   "source": [
    "param_settings = [\n",
    "    {\n",
    "        'name': 'r',\n",
    "        'a': '2.5',\n",
    "        'b': '2.5',\n",
    "        'steps': ['0.5']\n",
    "    },\n",
    "    {\n",
    "        'name': 'cost',\n",
    "        'a': '0.02',\n",
    "        'b': '1',\n",
    "        'steps': ['0.02']\n",
    "    },\n",
    "    {\n",
    "        'name': 'reward',\n",
    "        'a': '1',\n",
    "        'b': '1',\n",
    "        'steps': ['0.25']\n",
    "    },\n",
    "    {\n",
    "        'name': 'fine',\n",
    "        'a': '1',\n",
    "        'b': '5',\n",
    "        'steps': ['4']\n",
    "    },\n",
    "    {\n",
    "        'name': 'population_type',\n",
    "        'a': '0',\n",
    "        'b': '0',\n",
    "        'steps': ['1']\n",
    "    },\n",
    "    {\n",
    "        'name': 'gajiucai',\n",
    "        'a': '1',\n",
    "        'b': '1',\n",
    "        'steps': ['1']\n",
    "    }\n",
    "]\n",
    "\n",
    "param_names = [param['name'] for param in param_settings]\n",
    "print(param_names)\n",
    "\n",
    "params = cartesian_product_params(param_settings)\n"
   ]
  },
  {
   "cell_type": "code",
   "execution_count": 3,
   "id": "293bdf85-bf12-4c75-932b-e8a255ef37cd",
   "metadata": {
    "pycharm": {
     "name": "#%%\n"
    }
   },
   "outputs": [
    {
     "name": "stdout",
     "output_type": "stream",
     "text": [
      "['r', 'cost', 'reward', 'fine', 'population_type', 'gajiucai']\n",
      "0 [{'name': 'r', 'a': '2', 'b': '2', 'steps': ['0.5']}, {'name': 'cost', 'a': '0.02', 'b': '1', 'steps': ['0.02']}, {'name': 'reward', 'a': '1', 'b': '1', 'steps': ['0.25']}, {'name': 'fine', 'a': '1', 'b': '5', 'steps': ['2']}, {'name': 'population_type', 'a': '0', 'b': '0', 'steps': ['1']}, {'name': 'gajiucai', 'a': '1', 'b': '1', 'steps': ['1']}]\n",
      "150\n",
      " 150\n",
      "预计用时 单次秒数* 0.08333333333333333 分钟\n"
     ]
    }
   ],
   "source": [
    "param_settings = [\n",
    "    {\n",
    "        'name': 'r',\n",
    "        'a': '2',\n",
    "        'b': '2',\n",
    "        'steps': ['0.5']\n",
    "    },\n",
    "    {\n",
    "        'name': 'cost',\n",
    "        'a': '0.02',\n",
    "        'b': '1',\n",
    "        'steps': ['0.02']\n",
    "    },\n",
    "    {\n",
    "        'name': 'reward',\n",
    "        'a': '1',\n",
    "        'b': '1',\n",
    "        'steps': ['0.25']\n",
    "    },\n",
    "    {\n",
    "        'name': 'fine',\n",
    "        'a': '1',\n",
    "        'b': '5',\n",
    "        'steps': ['2']\n",
    "    },\n",
    "    {\n",
    "        'name': 'population_type',\n",
    "        'a': '0',\n",
    "        'b': '0',\n",
    "        'steps': ['1']\n",
    "    },\n",
    "    {\n",
    "        'name': 'gajiucai',\n",
    "        'a': '1',\n",
    "        'b': '1',\n",
    "        'steps': ['1']\n",
    "    }\n",
    "]\n",
    "\n",
    "param_names = [param['name'] for param in param_settings]\n",
    "print(param_names)\n",
    "\n",
    "params = cartesian_product_params(param_settings)\n"
   ]
  },
  {
   "cell_type": "code",
   "execution_count": 9,
   "id": "b7270d8a-57dc-415b-8c82-7fd0e75ef6af",
   "metadata": {
    "pycharm": {
     "name": "#%%\n"
    }
   },
   "outputs": [
    {
     "name": "stdout",
     "output_type": "stream",
     "text": [
      "开始时间 2022-10-22 01:17:40.882401\n",
      "\n",
      "\n",
      "第 1 次\n",
      "进度: 88.0%:  ▓▓▓▓▓▓▓▓▓▓▓▓▓▓▓▓▓▓▓▓▓▓▓▓▓▓▓▓▓▓▓▓▓▓▓▓▓▓▓▓▓▓▓▓"
     ]
    },
    {
     "name": "stderr",
     "output_type": "stream",
     "text": [
      "<timed exec>:146: RuntimeWarning: overflow encountered in exp\n",
      "<timed exec>:145: RuntimeWarning: overflow encountered in exp\n",
      "<timed exec>:148: RuntimeWarning: overflow encountered in exp\n"
     ]
    },
    {
     "name": "stdout",
     "output_type": "stream",
     "text": [
      "进度: 90.0%:  ▓▓▓▓▓▓▓▓▓▓▓▓▓▓▓▓▓▓▓▓▓▓▓▓▓▓▓▓▓▓▓▓▓▓▓▓▓▓▓▓▓▓▓▓▓"
     ]
    },
    {
     "name": "stderr",
     "output_type": "stream",
     "text": [
      "<timed exec>:145: RuntimeWarning: overflow encountered in exp\n",
      "<timed exec>:146: RuntimeWarning: overflow encountered in exp\n",
      "<timed exec>:147: RuntimeWarning: overflow encountered in exp\n",
      "<timed exec>:148: RuntimeWarning: overflow encountered in exp\n"
     ]
    },
    {
     "name": "stdout",
     "output_type": "stream",
     "text": [
      " 度: 100.0%:  ▓▓▓▓▓▓▓▓▓▓▓▓▓▓▓▓▓▓▓▓▓▓▓▓▓▓▓▓▓▓▓▓▓▓▓▓▓▓▓▓▓▓▓▓▓▓▓▓▓▓2022-10-22 01:23:27.290668\n",
      "\n",
      "\n",
      "第 2 次\n",
      "进度: 78.0%:  ▓▓▓▓▓▓▓▓▓▓▓▓▓▓▓▓▓▓▓▓▓▓▓▓▓▓▓▓▓▓▓▓▓▓▓▓▓▓▓"
     ]
    },
    {
     "name": "stderr",
     "output_type": "stream",
     "text": [
      "<timed exec>:145: RuntimeWarning: overflow encountered in exp\n"
     ]
    },
    {
     "name": "stdout",
     "output_type": "stream",
     "text": [
      "进度: 80.0%:  ▓▓▓▓▓▓▓▓▓▓▓▓▓▓▓▓▓▓▓▓▓▓▓▓▓▓▓▓▓▓▓▓▓▓▓▓▓▓▓▓"
     ]
    },
    {
     "name": "stderr",
     "output_type": "stream",
     "text": [
      "<timed exec>:145: RuntimeWarning: overflow encountered in exp\n"
     ]
    },
    {
     "name": "stdout",
     "output_type": "stream",
     "text": [
      "进度: 82.0%:  ▓▓▓▓▓▓▓▓▓▓▓▓▓▓▓▓▓▓▓▓▓▓▓▓▓▓▓▓▓▓▓▓▓▓▓▓▓▓▓▓▓"
     ]
    },
    {
     "name": "stderr",
     "output_type": "stream",
     "text": [
      "<timed exec>:148: RuntimeWarning: overflow encountered in exp\n"
     ]
    },
    {
     "name": "stdout",
     "output_type": "stream",
     "text": [
      "进度: 84.0%:  ▓▓▓▓▓▓▓▓▓▓▓▓▓▓▓▓▓▓▓▓▓▓▓▓▓▓▓▓▓▓▓▓▓▓▓▓▓▓▓▓▓▓"
     ]
    },
    {
     "name": "stderr",
     "output_type": "stream",
     "text": [
      "<timed exec>:148: RuntimeWarning: overflow encountered in exp\n"
     ]
    },
    {
     "name": "stdout",
     "output_type": "stream",
     "text": [
      "进度: 86.0%:  ▓▓▓▓▓▓▓▓▓▓▓▓▓▓▓▓▓▓▓▓▓▓▓▓▓▓▓▓▓▓▓▓▓▓▓▓▓▓▓▓▓▓▓"
     ]
    },
    {
     "name": "stderr",
     "output_type": "stream",
     "text": [
      "<timed exec>:148: RuntimeWarning: overflow encountered in exp\n"
     ]
    },
    {
     "name": "stdout",
     "output_type": "stream",
     "text": [
      "进度: 88.0%:  ▓▓▓▓▓▓▓▓▓▓▓▓▓▓▓▓▓▓▓▓▓▓▓▓▓▓▓▓▓▓▓▓▓▓▓▓▓▓▓▓▓▓▓▓"
     ]
    },
    {
     "name": "stderr",
     "output_type": "stream",
     "text": [
      "<timed exec>:145: RuntimeWarning: overflow encountered in exp\n",
      "<timed exec>:147: RuntimeWarning: overflow encountered in exp\n",
      "<timed exec>:148: RuntimeWarning: overflow encountered in exp\n"
     ]
    },
    {
     "name": "stdout",
     "output_type": "stream",
     "text": [
      "进度: 90.0%:  ▓▓▓▓▓▓▓▓▓▓▓▓▓▓▓▓▓▓▓▓▓▓▓▓▓▓▓▓▓▓▓▓▓▓▓▓▓▓▓▓▓▓▓▓▓"
     ]
    },
    {
     "name": "stderr",
     "output_type": "stream",
     "text": [
      "<timed exec>:145: RuntimeWarning: overflow encountered in exp\n",
      "<timed exec>:146: RuntimeWarning: overflow encountered in exp\n",
      "<timed exec>:147: RuntimeWarning: overflow encountered in exp\n",
      "<timed exec>:148: RuntimeWarning: overflow encountered in exp\n"
     ]
    },
    {
     "name": "stdout",
     "output_type": "stream",
     "text": [
      " 度: 100.0%:  ▓▓▓▓▓▓▓▓▓▓▓▓▓▓▓▓▓▓▓▓▓▓▓▓▓▓▓▓▓▓▓▓▓▓▓▓▓▓▓▓▓▓▓▓▓▓▓▓▓▓2022-10-22 01:29:16.808555\n",
      "\n",
      "\n",
      "第 3 次\n",
      "进度: 90.0%:  ▓▓▓▓▓▓▓▓▓▓▓▓▓▓▓▓▓▓▓▓▓▓▓▓▓▓▓▓▓▓▓▓▓▓▓▓▓▓▓▓▓▓▓▓▓"
     ]
    },
    {
     "name": "stderr",
     "output_type": "stream",
     "text": [
      "<timed exec>:145: RuntimeWarning: overflow encountered in exp\n",
      "<timed exec>:146: RuntimeWarning: overflow encountered in exp\n",
      "<timed exec>:147: RuntimeWarning: overflow encountered in exp\n",
      "<timed exec>:148: RuntimeWarning: overflow encountered in exp\n"
     ]
    },
    {
     "name": "stdout",
     "output_type": "stream",
     "text": [
      " 度: 100.0%:  ▓▓▓▓▓▓▓▓▓▓▓▓▓▓▓▓▓▓▓▓▓▓▓▓▓▓▓▓▓▓▓▓▓▓▓▓▓▓▓▓▓▓▓▓▓▓▓▓▓▓2022-10-22 01:35:04.058196\n",
      "\n",
      "\n",
      "第 4 次\n",
      "进度: 86.0%:  ▓▓▓▓▓▓▓▓▓▓▓▓▓▓▓▓▓▓▓▓▓▓▓▓▓▓▓▓▓▓▓▓▓▓▓▓▓▓▓▓▓▓▓"
     ]
    },
    {
     "name": "stderr",
     "output_type": "stream",
     "text": [
      "<timed exec>:145: RuntimeWarning: overflow encountered in exp\n",
      "<timed exec>:145: RuntimeWarning: overflow encountered in exp\n"
     ]
    },
    {
     "name": "stdout",
     "output_type": "stream",
     "text": [
      "进度: 88.0%:  ▓▓▓▓▓▓▓▓▓▓▓▓▓▓▓▓▓▓▓▓▓▓▓▓▓▓▓▓▓▓▓▓▓▓▓▓▓▓▓▓▓▓▓▓"
     ]
    },
    {
     "name": "stderr",
     "output_type": "stream",
     "text": [
      "<timed exec>:145: RuntimeWarning: overflow encountered in exp\n",
      "<timed exec>:147: RuntimeWarning: overflow encountered in exp\n"
     ]
    },
    {
     "name": "stdout",
     "output_type": "stream",
     "text": [
      "进度: 90.0%:  ▓▓▓▓▓▓▓▓▓▓▓▓▓▓▓▓▓▓▓▓▓▓▓▓▓▓▓▓▓▓▓▓▓▓▓▓▓▓▓▓▓▓▓▓▓"
     ]
    },
    {
     "name": "stderr",
     "output_type": "stream",
     "text": [
      "<timed exec>:146: RuntimeWarning: overflow encountered in exp\n",
      "<timed exec>:148: RuntimeWarning: overflow encountered in exp\n"
     ]
    },
    {
     "name": "stdout",
     "output_type": "stream",
     "text": [
      " 度: 100.0%:  ▓▓▓▓▓▓▓▓▓▓▓▓▓▓▓▓▓▓▓▓▓▓▓▓▓▓▓▓▓▓▓▓▓▓▓▓▓▓▓▓▓▓▓▓▓▓▓▓▓▓2022-10-22 01:40:51.376093\n",
      "\n",
      "\n",
      "第 5 次\n",
      "进度: 90.0%:  ▓▓▓▓▓▓▓▓▓▓▓▓▓▓▓▓▓▓▓▓▓▓▓▓▓▓▓▓▓▓▓▓▓▓▓▓▓▓▓▓▓▓▓▓▓"
     ]
    },
    {
     "name": "stderr",
     "output_type": "stream",
     "text": [
      "<timed exec>:145: RuntimeWarning: overflow encountered in exp\n",
      "<timed exec>:146: RuntimeWarning: overflow encountered in exp\n",
      "<timed exec>:147: RuntimeWarning: overflow encountered in exp\n",
      "<timed exec>:148: RuntimeWarning: overflow encountered in exp\n"
     ]
    },
    {
     "name": "stdout",
     "output_type": "stream",
     "text": [
      " 度: 100.0%:  ▓▓▓▓▓▓▓▓▓▓▓▓▓▓▓▓▓▓▓▓▓▓▓▓▓▓▓▓▓▓▓▓▓▓▓▓▓▓▓▓▓▓▓▓▓▓▓▓▓▓2022-10-22 01:46:37.563497\n",
      "\n",
      "\n",
      "第 6 次\n",
      "进度: 90.0%:  ▓▓▓▓▓▓▓▓▓▓▓▓▓▓▓▓▓▓▓▓▓▓▓▓▓▓▓▓▓▓▓▓▓▓▓▓▓▓▓▓▓▓▓▓▓"
     ]
    },
    {
     "name": "stderr",
     "output_type": "stream",
     "text": [
      "<timed exec>:146: RuntimeWarning: overflow encountered in exp\n"
     ]
    },
    {
     "name": "stdout",
     "output_type": "stream",
     "text": [
      " 度: 100.0%:  ▓▓▓▓▓▓▓▓▓▓▓▓▓▓▓▓▓▓▓▓▓▓▓▓▓▓▓▓▓▓▓▓▓▓▓▓▓▓▓▓▓▓▓▓▓▓▓▓▓▓2022-10-22 01:52:25.445445\n",
      "\n",
      "\n",
      "第 7 次\n",
      "进度: 82.0%:  ▓▓▓▓▓▓▓▓▓▓▓▓▓▓▓▓▓▓▓▓▓▓▓▓▓▓▓▓▓▓▓▓▓▓▓▓▓▓▓▓▓"
     ]
    },
    {
     "name": "stderr",
     "output_type": "stream",
     "text": [
      "<timed exec>:145: RuntimeWarning: overflow encountered in exp\n"
     ]
    },
    {
     "name": "stdout",
     "output_type": "stream",
     "text": [
      "进度: 84.0%:  ▓▓▓▓▓▓▓▓▓▓▓▓▓▓▓▓▓▓▓▓▓▓▓▓▓▓▓▓▓▓▓▓▓▓▓▓▓▓▓▓▓▓"
     ]
    },
    {
     "name": "stderr",
     "output_type": "stream",
     "text": [
      "<timed exec>:148: RuntimeWarning: overflow encountered in exp\n",
      "<timed exec>:145: RuntimeWarning: overflow encountered in exp\n"
     ]
    },
    {
     "name": "stdout",
     "output_type": "stream",
     "text": [
      "进度: 86.0%:  ▓▓▓▓▓▓▓▓▓▓▓▓▓▓▓▓▓▓▓▓▓▓▓▓▓▓▓▓▓▓▓▓▓▓▓▓▓▓▓▓▓▓▓"
     ]
    },
    {
     "name": "stderr",
     "output_type": "stream",
     "text": [
      "<timed exec>:148: RuntimeWarning: overflow encountered in exp\n",
      "<timed exec>:145: RuntimeWarning: overflow encountered in exp\n"
     ]
    },
    {
     "name": "stdout",
     "output_type": "stream",
     "text": [
      "进度: 88.0%:  ▓▓▓▓▓▓▓▓▓▓▓▓▓▓▓▓▓▓▓▓▓▓▓▓▓▓▓▓▓▓▓▓▓▓▓▓▓▓▓▓▓▓▓▓"
     ]
    },
    {
     "name": "stderr",
     "output_type": "stream",
     "text": [
      "<timed exec>:148: RuntimeWarning: overflow encountered in exp\n",
      "<timed exec>:145: RuntimeWarning: overflow encountered in exp\n"
     ]
    },
    {
     "name": "stdout",
     "output_type": "stream",
     "text": [
      " 度: 100.0%:  ▓▓▓▓▓▓▓▓▓▓▓▓▓▓▓▓▓▓▓▓▓▓▓▓▓▓▓▓▓▓▓▓▓▓▓▓▓▓▓▓▓▓▓▓▓▓▓▓▓▓2022-10-22 01:58:10.201733\n",
      "\n",
      "\n",
      "第 8 次\n",
      "进度: 86.0%:  ▓▓▓▓▓▓▓▓▓▓▓▓▓▓▓▓▓▓▓▓▓▓▓▓▓▓▓▓▓▓▓▓▓▓▓▓▓▓▓▓▓▓▓"
     ]
    },
    {
     "name": "stderr",
     "output_type": "stream",
     "text": [
      "<timed exec>:145: RuntimeWarning: overflow encountered in exp\n"
     ]
    },
    {
     "name": "stdout",
     "output_type": "stream",
     "text": [
      "进度: 88.0%:  ▓▓▓▓▓▓▓▓▓▓▓▓▓▓▓▓▓▓▓▓▓▓▓▓▓▓▓▓▓▓▓▓▓▓▓▓▓▓▓▓▓▓▓▓"
     ]
    },
    {
     "name": "stderr",
     "output_type": "stream",
     "text": [
      "<timed exec>:145: RuntimeWarning: overflow encountered in exp\n"
     ]
    },
    {
     "name": "stdout",
     "output_type": "stream",
     "text": [
      "进度: 90.0%:  ▓▓▓▓▓▓▓▓▓▓▓▓▓▓▓▓▓▓▓▓▓▓▓▓▓▓▓▓▓▓▓▓▓▓▓▓▓▓▓▓▓▓▓▓▓"
     ]
    },
    {
     "name": "stderr",
     "output_type": "stream",
     "text": [
      "<timed exec>:145: RuntimeWarning: overflow encountered in exp\n",
      "<timed exec>:146: RuntimeWarning: overflow encountered in exp\n",
      "<timed exec>:147: RuntimeWarning: overflow encountered in exp\n",
      "<timed exec>:148: RuntimeWarning: overflow encountered in exp\n"
     ]
    },
    {
     "name": "stdout",
     "output_type": "stream",
     "text": [
      " 度: 100.0%:  ▓▓▓▓▓▓▓▓▓▓▓▓▓▓▓▓▓▓▓▓▓▓▓▓▓▓▓▓▓▓▓▓▓▓▓▓▓▓▓▓▓▓▓▓▓▓▓▓▓▓2022-10-22 02:03:55.581718\n",
      "\n",
      "\n",
      "第 9 次\n",
      "进度: 90.0%:  ▓▓▓▓▓▓▓▓▓▓▓▓▓▓▓▓▓▓▓▓▓▓▓▓▓▓▓▓▓▓▓▓▓▓▓▓▓▓▓▓▓▓▓▓▓"
     ]
    },
    {
     "name": "stderr",
     "output_type": "stream",
     "text": [
      "<timed exec>:145: RuntimeWarning: overflow encountered in exp\n"
     ]
    },
    {
     "name": "stdout",
     "output_type": "stream",
     "text": [
      " 度: 100.0%:  ▓▓▓▓▓▓▓▓▓▓▓▓▓▓▓▓▓▓▓▓▓▓▓▓▓▓▓▓▓▓▓▓▓▓▓▓▓▓▓▓▓▓▓▓▓▓▓▓▓▓2022-10-22 02:09:44.057299\n",
      "\n",
      "\n",
      "第 10 次\n",
      "进度: 88.0%:  ▓▓▓▓▓▓▓▓▓▓▓▓▓▓▓▓▓▓▓▓▓▓▓▓▓▓▓▓▓▓▓▓▓▓▓▓▓▓▓▓▓▓▓▓"
     ]
    },
    {
     "name": "stderr",
     "output_type": "stream",
     "text": [
      "<timed exec>:145: RuntimeWarning: overflow encountered in exp\n"
     ]
    },
    {
     "name": "stdout",
     "output_type": "stream",
     "text": [
      "进度: 90.0%:  ▓▓▓▓▓▓▓▓▓▓▓▓▓▓▓▓▓▓▓▓▓▓▓▓▓▓▓▓▓▓▓▓▓▓▓▓▓▓▓▓▓▓▓▓▓"
     ]
    },
    {
     "name": "stderr",
     "output_type": "stream",
     "text": [
      "<timed exec>:145: RuntimeWarning: overflow encountered in exp\n",
      "<timed exec>:147: RuntimeWarning: overflow encountered in exp\n",
      "<timed exec>:148: RuntimeWarning: overflow encountered in exp\n",
      "<timed exec>:146: RuntimeWarning: overflow encountered in exp\n"
     ]
    },
    {
     "name": "stdout",
     "output_type": "stream",
     "text": [
      " 度: 100.0%:  ▓▓▓▓▓▓▓▓▓▓▓▓▓▓▓▓▓▓▓▓▓▓▓▓▓▓▓▓▓▓▓▓▓▓▓▓▓▓▓▓▓▓▓▓▓▓▓▓▓▓2022-10-22 02:15:32.776380\n"
     ]
    }
   ],
   "source": [
    "import pandas as pd\n",
    "import datetime\n",
    "import os\n",
    "path = 'plot/'\n",
    "os.makedirs(path, exist_ok=True)\n",
    "records_n = []\n",
    "dfs = []\n",
    "\n",
    "print(\"开始时间\", str(datetime.datetime.now()))\n",
    "try:\n",
    "    for i in range(10):\n",
    "        np.random.seed()\n",
    "        print(\"\\n\\n第\", i + 1, \"次\")\n",
    "        time_str = str(datetime.datetime.now())\n",
    "        records = run(params, n=9)\n",
    "        np.random.seed()\n",
    "        print(str(datetime.datetime.now()))\n",
    "        records_n.append(records)\n",
    "        # _L = int(len(params) ** (0.5))\n",
    "        # cl = np.array([records[(k[0], k[1], k[1], k[1])][0] for k in params])\n",
    "        # np.savetxt(path + '%02d.csv' % i, cl.reshape([_L, _L]), delimiter=',')\n",
    "         \n",
    "        df = pd.DataFrame([list(k) + list(record) for k, record in records.items()], columns=param_names + ['x', 'y', 'z', 'p', 'ap', 'pc', 'pd', 'pm', 'pc_border', 'pd_border', 'pm_border', 'pc_inland', 'pd_inland', 'pm_inland'])\n",
    "        df = df.sort_values(by=['r', 'cost'], ignore_index=True)\n",
    "        df.to_csv(path + time_str + '.csv')\n",
    "        dfs.append(df)\n",
    "\n",
    "except Exception as e:\n",
    "    print(e)\n",
    "    pool.terminate()\n"
   ]
  },
  {
   "cell_type": "code",
   "execution_count": 13,
   "id": "d5c46372-0abd-4314-95d3-3f42848841ec",
   "metadata": {
    "pycharm": {
     "name": "#%%\n"
    }
   },
   "outputs": [
    {
     "name": "stdout",
     "output_type": "stream",
     "text": [
      "['r', 'cost', 'reward', 'fine', 'population_type', 'gajiucai']\n",
      "0 [{'name': 'r', 'a': '1', 'b': '5', 'steps': ['0.08']}, {'name': 'cost', 'a': '0', 'b': '0.6', 'steps': ['0.012']}, {'name': 'reward', 'a': '1', 'b': '1', 'steps': ['0.25']}, {'name': 'fine', 'a': '1', 'b': '1', 'steps': ['2']}, {'name': 'population_type', 'a': '0', 'b': '1', 'steps': ['1']}, {'name': 'gajiucai', 'a': '1', 'b': '1', 'steps': ['1']}]\n",
      "5202\n",
      " 5202\n",
      "预计用时 单次秒数* 2.89 分钟\n"
     ]
    }
   ],
   "source": [
    "param_settings = [\n",
    "    {\n",
    "        'name': 'r',\n",
    "        'a': '1',\n",
    "        'b': '5',\n",
    "        'steps': ['0.08']\n",
    "    },\n",
    "    {\n",
    "        'name': 'cost',\n",
    "        'a': '0',\n",
    "        'b': '0.6',\n",
    "        'steps': ['0.012']\n",
    "    },\n",
    "    {\n",
    "        'name': 'reward',\n",
    "        'a': '1',\n",
    "        'b': '1',\n",
    "        'steps': ['0.25']\n",
    "    },\n",
    "    {\n",
    "        'name': 'fine',\n",
    "        'a': '1',\n",
    "        'b': '1',\n",
    "        'steps': ['2']\n",
    "    },\n",
    "    {\n",
    "        'name': 'population_type',\n",
    "        'a': '0',\n",
    "        'b': '1',\n",
    "        'steps': ['1']\n",
    "    },\n",
    "    {\n",
    "        'name': 'gajiucai',\n",
    "        'a': '1',\n",
    "        'b': '1',\n",
    "        'steps': ['1']\n",
    "    }\n",
    "]\n",
    "\n",
    "param_names = [param['name'] for param in param_settings]\n",
    "print(param_names)\n",
    "\n",
    "params = cartesian_product_params(param_settings)\n"
   ]
  },
  {
   "cell_type": "code",
   "execution_count": null,
   "id": "b63d926a-8d44-4dd0-99e9-44f871659857",
   "metadata": {
    "pycharm": {
     "name": "#%%\n"
    }
   },
   "outputs": [
    {
     "name": "stdout",
     "output_type": "stream",
     "text": [
      "开始时间 2022-11-15 20:08:13.878046\n",
      "\n",
      "\n",
      "第 1 次\n",
      "进度: 8.1%:  ▓▓▓▓"
     ]
    },
    {
     "name": "stderr",
     "output_type": "stream",
     "text": [
      "<timed exec>:161: RuntimeWarning: overflow encountered in exp\n",
      "<timed exec>:162: RuntimeWarning: overflow encountered in exp\n",
      "<timed exec>:163: RuntimeWarning: overflow encountered in exp\n",
      "<timed exec>:164: RuntimeWarning: overflow encountered in exp\n"
     ]
    },
    {
     "name": "stdout",
     "output_type": "stream",
     "text": [
      "进度: 74.3%:  ▓▓▓▓▓▓▓▓▓▓▓▓▓▓▓▓▓▓▓▓▓▓▓▓▓▓▓▓▓▓▓▓▓▓▓▓▓"
     ]
    }
   ],
   "source": [
    "import pandas as pd\n",
    "import datetime\n",
    "import os\n",
    "path = 'fig4/'\n",
    "os.makedirs(path, exist_ok=True)\n",
    "records_n = []\n",
    "dfs = []\n",
    "\n",
    "print(\"开始时间\", str(datetime.datetime.now()))\n",
    "try:\n",
    "    for i in range(1):\n",
    "        np.random.seed()\n",
    "        print(\"\\n\\n第\", i + 1, \"次\")\n",
    "        time_str = str(datetime.datetime.now())\n",
    "        records = run(params, n=9)\n",
    "        np.random.seed()\n",
    "        print(str(datetime.datetime.now()))\n",
    "        records_n.append(records)\n",
    "        # _L = int(len(params) ** (0.5))\n",
    "        # cl = np.array([records[(k[0], k[1], k[1], k[1])][0] for k in params])\n",
    "        # np.savetxt(path + '%02d.csv' % i, cl.reshape([_L, _L]), delimiter=',')\n",
    "         \n",
    "        df = pd.DataFrame([list(k) + list(record) for k, record in records.items()], columns=param_names + ['x', 'y', 'z', 'p', 'ap', 'pc', 'pd', 'pm', 'pc_border', 'pd_border', 'pm_border', 'pc_inland', 'pd_inland', 'pm_inland'])\n",
    "        df = df.sort_values(by=['r', 'cost'], ignore_index=True)\n",
    "        df.to_csv(path + time_str + '.csv')\n",
    "        dfs.append(df)\n",
    "\n",
    "except Exception as e:\n",
    "    print(e)\n",
    "    pool.terminate()"
   ]
  },
  {
   "cell_type": "code",
   "execution_count": 4,
   "id": "b020329b-0914-410e-979f-7d5ef55954cb",
   "metadata": {
    "pycharm": {
     "name": "#%%\n"
    }
   },
   "outputs": [
    {
     "name": "stdout",
     "output_type": "stream",
     "text": [
      "['r', 'cost', 'reward', 'fine', 'population_type', 'gajiucai']\n",
      "0 [{'name': 'r', 'a': '2.5', 'b': '2.5', 'steps': ['0.08']}, {'name': 'cost', 'a': '0', 'b': '0.6', 'steps': ['0.01875']}, {'name': 'reward', 'a': '1', 'b': '1', 'steps': ['0.25']}, {'name': 'fine', 'a': '1', 'b': '1', 'steps': ['2']}, {'name': 'population_type', 'a': '0', 'b': '1', 'steps': ['1']}, {'name': 'gajiucai', 'a': '1', 'b': '1', 'steps': ['1']}]\n",
      "66\n",
      " 66\n",
      "预计用时 单次秒数* 0.03666666666666667 分钟\n"
     ]
    }
   ],
   "source": [
    "param_settings = [\n",
    "    {\n",
    "        'name': 'r',\n",
    "        'a': '2.5',\n",
    "        'b': '2.5',\n",
    "        'steps': ['0.08']\n",
    "    },\n",
    "    {\n",
    "        'name': 'cost',\n",
    "        'a': '0',\n",
    "        'b': '0.6',\n",
    "        'steps': ['0.01875']\n",
    "    },\n",
    "    {\n",
    "        'name': 'reward',\n",
    "        'a': '1',\n",
    "        'b': '1',\n",
    "        'steps': ['0.25']\n",
    "    },\n",
    "    {\n",
    "        'name': 'fine',\n",
    "        'a': '1',\n",
    "        'b': '1',\n",
    "        'steps': ['2']\n",
    "    },\n",
    "    {\n",
    "        'name': 'population_type',\n",
    "        'a': '0',\n",
    "        'b': '1',\n",
    "        'steps': ['1']\n",
    "    },\n",
    "    {\n",
    "        'name': 'gajiucai',\n",
    "        'a': '1',\n",
    "        'b': '1',\n",
    "        'steps': ['1']\n",
    "    }\n",
    "]\n",
    "\n",
    "param_names = [param['name'] for param in param_settings]\n",
    "print(param_names)\n",
    "\n",
    "params = cartesian_product_params(param_settings)\n"
   ]
  },
  {
   "cell_type": "code",
   "execution_count": 5,
   "id": "e69b5fca-78a8-4189-b7fa-713d31b39249",
   "metadata": {
    "pycharm": {
     "name": "#%%\n"
    }
   },
   "outputs": [
    {
     "name": "stdout",
     "output_type": "stream",
     "text": [
      "开始时间 2022-11-17 14:37:46.009900\n",
      "\n",
      "\n",
      "第 1 次\n",
      " 度: 100.0%:  ▓▓▓▓▓▓▓▓▓▓▓▓▓▓▓▓▓▓▓▓▓▓▓▓▓▓▓▓▓▓▓▓▓▓▓▓▓▓▓▓▓▓▓▓▓▓▓▓▓▓2022-11-17 14:45:36.395269\n",
      "\n",
      "\n",
      "第 2 次\n",
      " 度: 100.0%:  ▓▓▓▓▓▓▓▓▓▓▓▓▓▓▓▓▓▓▓▓▓▓▓▓▓▓▓▓▓▓▓▓▓▓▓▓▓▓▓▓▓▓▓▓▓▓▓▓▓▓2022-11-17 14:53:26.575855\n",
      "\n",
      "\n",
      "第 3 次\n",
      " 度: 100.0%:  ▓▓▓▓▓▓▓▓▓▓▓▓▓▓▓▓▓▓▓▓▓▓▓▓▓▓▓▓▓▓▓▓▓▓▓▓▓▓▓▓▓▓▓▓▓▓▓▓▓▓2022-11-17 15:01:15.930558\n",
      "\n",
      "\n",
      "第 4 次\n",
      " 度: 100.0%:  ▓▓▓▓▓▓▓▓▓▓▓▓▓▓▓▓▓▓▓▓▓▓▓▓▓▓▓▓▓▓▓▓▓▓▓▓▓▓▓▓▓▓▓▓▓▓▓▓▓▓2022-11-17 15:09:03.781066\n",
      "\n",
      "\n",
      "第 5 次\n",
      " 度: 100.0%:  ▓▓▓▓▓▓▓▓▓▓▓▓▓▓▓▓▓▓▓▓▓▓▓▓▓▓▓▓▓▓▓▓▓▓▓▓▓▓▓▓▓▓▓▓▓▓▓▓▓▓2022-11-17 15:16:53.177824\n",
      "\n",
      "\n",
      "第 6 次\n",
      " 度: 100.0%:  ▓▓▓▓▓▓▓▓▓▓▓▓▓▓▓▓▓▓▓▓▓▓▓▓▓▓▓▓▓▓▓▓▓▓▓▓▓▓▓▓▓▓▓▓▓▓▓▓▓▓2022-11-17 15:24:41.719865\n",
      "\n",
      "\n",
      "第 7 次\n",
      " 度: 100.0%:  ▓▓▓▓▓▓▓▓▓▓▓▓▓▓▓▓▓▓▓▓▓▓▓▓▓▓▓▓▓▓▓▓▓▓▓▓▓▓▓▓▓▓▓▓▓▓▓▓▓▓2022-11-17 15:32:37.891785\n",
      "\n",
      "\n",
      "第 8 次\n",
      " 度: 100.0%:  ▓▓▓▓▓▓▓▓▓▓▓▓▓▓▓▓▓▓▓▓▓▓▓▓▓▓▓▓▓▓▓▓▓▓▓▓▓▓▓▓▓▓▓▓▓▓▓▓▓▓2022-11-17 15:40:39.434426\n",
      "\n",
      "\n",
      "第 9 次\n",
      " 度: 100.0%:  ▓▓▓▓▓▓▓▓▓▓▓▓▓▓▓▓▓▓▓▓▓▓▓▓▓▓▓▓▓▓▓▓▓▓▓▓▓▓▓▓▓▓▓▓▓▓▓▓▓▓2022-11-17 15:48:34.112236\n",
      "\n",
      "\n",
      "第 10 次\n",
      " 度: 100.0%:  ▓▓▓▓▓▓▓▓▓▓▓▓▓▓▓▓▓▓▓▓▓▓▓▓▓▓▓▓▓▓▓▓▓▓▓▓▓▓▓▓▓▓▓▓▓▓▓▓▓▓2022-11-17 15:56:28.742567\n",
      "\n",
      "\n",
      "第 11 次\n",
      " 度: 100.0%:  ▓▓▓▓▓▓▓▓▓▓▓▓▓▓▓▓▓▓▓▓▓▓▓▓▓▓▓▓▓▓▓▓▓▓▓▓▓▓▓▓▓▓▓▓▓▓▓▓▓▓2022-11-17 16:04:26.515841\n",
      "\n",
      "\n",
      "第 12 次\n",
      " 度: 100.0%:  ▓▓▓▓▓▓▓▓▓▓▓▓▓▓▓▓▓▓▓▓▓▓▓▓▓▓▓▓▓▓▓▓▓▓▓▓▓▓▓▓▓▓▓▓▓▓▓▓▓▓2022-11-17 16:12:21.918747\n",
      "\n",
      "\n",
      "第 13 次\n",
      " 度: 100.0%:  ▓▓▓▓▓▓▓▓▓▓▓▓▓▓▓▓▓▓▓▓▓▓▓▓▓▓▓▓▓▓▓▓▓▓▓▓▓▓▓▓▓▓▓▓▓▓▓▓▓▓2022-11-17 16:20:16.104707\n",
      "\n",
      "\n",
      "第 14 次\n",
      " 度: 100.0%:  ▓▓▓▓▓▓▓▓▓▓▓▓▓▓▓▓▓▓▓▓▓▓▓▓▓▓▓▓▓▓▓▓▓▓▓▓▓▓▓▓▓▓▓▓▓▓▓▓▓▓2022-11-17 16:28:10.883603\n",
      "\n",
      "\n",
      "第 15 次\n",
      " 度: 100.0%:  ▓▓▓▓▓▓▓▓▓▓▓▓▓▓▓▓▓▓▓▓▓▓▓▓▓▓▓▓▓▓▓▓▓▓▓▓▓▓▓▓▓▓▓▓▓▓▓▓▓▓2022-11-17 16:36:11.381596\n",
      "\n",
      "\n",
      "第 16 次\n",
      " 度: 100.0%:  ▓▓▓▓▓▓▓▓▓▓▓▓▓▓▓▓▓▓▓▓▓▓▓▓▓▓▓▓▓▓▓▓▓▓▓▓▓▓▓▓▓▓▓▓▓▓▓▓▓▓2022-11-17 16:44:06.919418\n",
      "\n",
      "\n",
      "第 17 次\n",
      " 度: 100.0%:  ▓▓▓▓▓▓▓▓▓▓▓▓▓▓▓▓▓▓▓▓▓▓▓▓▓▓▓▓▓▓▓▓▓▓▓▓▓▓▓▓▓▓▓▓▓▓▓▓▓▓2022-11-17 16:52:01.777454\n",
      "\n",
      "\n",
      "第 18 次\n",
      " 度: 100.0%:  ▓▓▓▓▓▓▓▓▓▓▓▓▓▓▓▓▓▓▓▓▓▓▓▓▓▓▓▓▓▓▓▓▓▓▓▓▓▓▓▓▓▓▓▓▓▓▓▓▓▓2022-11-17 16:59:58.005118\n",
      "\n",
      "\n",
      "第 19 次\n",
      " 度: 100.0%:  ▓▓▓▓▓▓▓▓▓▓▓▓▓▓▓▓▓▓▓▓▓▓▓▓▓▓▓▓▓▓▓▓▓▓▓▓▓▓▓▓▓▓▓▓▓▓▓▓▓▓2022-11-17 17:07:54.363502\n",
      "\n",
      "\n",
      "第 20 次\n",
      " 度: 100.0%:  ▓▓▓▓▓▓▓▓▓▓▓▓▓▓▓▓▓▓▓▓▓▓▓▓▓▓▓▓▓▓▓▓▓▓▓▓▓▓▓▓▓▓▓▓▓▓▓▓▓▓2022-11-17 17:15:50.449979\n"
     ]
    }
   ],
   "source": [
    "import pandas as pd\n",
    "import datetime\n",
    "import os\n",
    "path = 'fig4cd/'\n",
    "os.makedirs(path, exist_ok=True)\n",
    "records_n = []\n",
    "dfs = []\n",
    "\n",
    "print(\"开始时间\", str(datetime.datetime.now()))\n",
    "try:\n",
    "    for i in range(20):\n",
    "        np.random.seed()\n",
    "        print(\"\\n\\n第\", i + 1, \"次\")\n",
    "        time_str = str(datetime.datetime.now())\n",
    "        records = run(params, n=9)\n",
    "        np.random.seed()\n",
    "        print(str(datetime.datetime.now()))\n",
    "        records_n.append(records)\n",
    "        # _L = int(len(params) ** (0.5))\n",
    "        # cl = np.array([records[(k[0], k[1], k[1], k[1])][0] for k in params])\n",
    "        # np.savetxt(path + '%02d.csv' % i, cl.reshape([_L, _L]), delimiter=',')\n",
    "         \n",
    "        df = pd.DataFrame([list(k) + list(record) for k, record in records.items()], columns=param_names + ['x', 'y', 'z', 'p', 'ap', 'pc', 'pd', 'pm', 'pc_border', 'pd_border', 'pm_border', 'pc_inland', 'pd_inland', 'pm_inland'])\n",
    "        df = df.sort_values(by=['r', 'cost'], ignore_index=True)\n",
    "        df.to_csv(path + time_str + '.csv')\n",
    "        dfs.append(df)\n",
    "\n",
    "except Exception as e:\n",
    "    print(e)\n",
    "    pool.terminate()"
   ]
  },
  {
   "cell_type": "code",
   "execution_count": 4,
   "id": "67370c12-c053-4542-9171-e308cebf1efa",
   "metadata": {
    "pycharm": {
     "name": "#%%\n"
    }
   },
   "outputs": [
    {
     "name": "stdout",
     "output_type": "stream",
     "text": [
      "['r', 'cost', 'reward', 'fine', 'population_type', 'gajiucai']\n",
      "0 [{'name': 'r', 'a': '2.5', 'b': '2.5', 'steps': ['0.08']}, {'name': 'cost', 'a': '0', 'b': '1', 'steps': ['0.02']}, {'name': 'reward', 'a': '1', 'b': '1', 'steps': ['0.25']}, {'name': 'fine', 'a': '0', 'b': '6', 'steps': ['0.12']}, {'name': 'population_type', 'a': '0', 'b': '0', 'steps': ['1']}, {'name': 'gajiucai', 'a': '1', 'b': '1', 'steps': ['1']}]\n",
      "2601\n",
      " 2601\n",
      "预计用时 单次秒数* 1.445 分钟\n"
     ]
    }
   ],
   "source": [
    "param_settings = [\n",
    "    {\n",
    "        'name': 'r',\n",
    "        'a': '2.5',\n",
    "        'b': '2.5',\n",
    "        'steps': ['0.08']\n",
    "    },\n",
    "    {\n",
    "        'name': 'cost',\n",
    "        'a': '0',\n",
    "        'b': '1',\n",
    "        'steps': ['0.02']\n",
    "    },\n",
    "    {\n",
    "        'name': 'reward',\n",
    "        'a': '1',\n",
    "        'b': '1',\n",
    "        'steps': ['0.25']\n",
    "    },\n",
    "    {\n",
    "        'name': 'fine',\n",
    "        'a': '0',\n",
    "        'b': '6',\n",
    "        'steps': ['0.12']\n",
    "    },\n",
    "    {\n",
    "        'name': 'population_type',\n",
    "        'a': '0',\n",
    "        'b': '0',\n",
    "        'steps': ['1']\n",
    "    },\n",
    "    {\n",
    "        'name': 'gajiucai',\n",
    "        'a': '1',\n",
    "        'b': '1',\n",
    "        'steps': ['1']\n",
    "    }\n",
    "]\n",
    "\n",
    "param_names = [param['name'] for param in param_settings]\n",
    "print(param_names)\n",
    "\n",
    "params = cartesian_product_params(param_settings)\n"
   ]
  },
  {
   "cell_type": "code",
   "execution_count": null,
   "id": "6bdad9ab-bba2-408f-be71-7375bfcd6648",
   "metadata": {
    "pycharm": {
     "name": "#%%\n"
    }
   },
   "outputs": [
    {
     "name": "stdout",
     "output_type": "stream",
     "text": [
      "开始时间 2022-11-22 01:01:40.715293\n",
      "\n",
      "\n",
      "第 1 次\n"
     ]
    }
   ],
   "source": [
    "import pandas as pd\n",
    "import datetime\n",
    "import os\n",
    "path = 'fig7a/'\n",
    "os.makedirs(path, exist_ok=True)\n",
    "records_n = []\n",
    "dfs = []\n",
    "\n",
    "print(\"开始时间\", str(datetime.datetime.now()))\n",
    "try:\n",
    "    for i in range(4):\n",
    "        np.random.seed()\n",
    "        print(\"\\n\\n第\", i + 1, \"次\")\n",
    "        time_str = str(datetime.datetime.now())\n",
    "        records = run(params, n=5)\n",
    "        np.random.seed()\n",
    "        print(str(datetime.datetime.now()))\n",
    "        records_n.append(records)\n",
    "        # _L = int(len(params) ** (0.5))\n",
    "        # cl = np.array([records[(k[0], k[1], k[1], k[1])][0] for k in params])\n",
    "        # np.savetxt(path + '%02d.csv' % i, cl.reshape([_L, _L]), delimiter=',')\n",
    "         \n",
    "        df = pd.DataFrame([list(k) + list(record) for k, record in records.items()], columns=param_names + ['x', 'y', 'z', 'p', 'ap', 'pc', 'pd', 'pm', 'pc_border', 'pd_border', 'pm_border', 'pc_inland', 'pd_inland', 'pm_inland'])\n",
    "        df = df.sort_values(by=['r', 'cost'], ignore_index=True)\n",
    "        df.to_csv(path + time_str + '.csv')\n",
    "        dfs.append(df)\n",
    "\n",
    "except Exception as e:\n",
    "    print(e)\n",
    "    pool.terminate()"
   ]
  },
  {
   "cell_type": "code",
   "execution_count": 17,
   "id": "e2763fac-5063-4105-b7bd-907671740cc9",
   "metadata": {
    "pycharm": {
     "name": "#%%\n"
    }
   },
   "outputs": [
    {
     "name": "stdout",
     "output_type": "stream",
     "text": [
      "['r', 'cost', 'reward', 'fine', 'population_type', 'gajiucai']\n",
      "0 [{'name': 'r', 'a': '2.5', 'b': '2.5', 'steps': ['0.08']}, {'name': 'cost', 'a': '0', 'b': '1', 'steps': ['0.02']}, {'name': 'reward', 'a': '0', 'b': '6', 'steps': ['0.12']}, {'name': 'fine', 'a': '1', 'b': '1', 'steps': ['0.1']}, {'name': 'population_type', 'a': '0', 'b': '0', 'steps': ['1']}, {'name': 'gajiucai', 'a': '1', 'b': '1', 'steps': ['1']}]\n",
      "2601\n",
      " 2601\n",
      "预计用时 单次秒数* 1.445 分钟\n"
     ]
    }
   ],
   "source": [
    "param_settings = [\n",
    "    {\n",
    "        'name': 'r',\n",
    "        'a': '2.5',\n",
    "        'b': '2.5',\n",
    "        'steps': ['0.08']\n",
    "    },\n",
    "    {\n",
    "        'name': 'cost',\n",
    "        'a': '0',\n",
    "        'b': '1',\n",
    "        'steps': ['0.02']\n",
    "    },\n",
    "    {\n",
    "        'name': 'reward',\n",
    "        'a': '0',\n",
    "        'b': '6',\n",
    "        'steps': ['0.12']\n",
    "    },\n",
    "    {\n",
    "        'name': 'fine',\n",
    "        'a': '1',\n",
    "        'b': '1',\n",
    "        'steps': ['0.1']\n",
    "    },\n",
    "    {\n",
    "        'name': 'population_type',\n",
    "        'a': '0',\n",
    "        'b': '0',\n",
    "        'steps': ['1']\n",
    "    },\n",
    "    {\n",
    "        'name': 'gajiucai',\n",
    "        'a': '1',\n",
    "        'b': '1',\n",
    "        'steps': ['1']\n",
    "    }\n",
    "]\n",
    "\n",
    "param_names = [param['name'] for param in param_settings]\n",
    "print(param_names)\n",
    "\n",
    "params = cartesian_product_params(param_settings)\n"
   ]
  },
  {
   "cell_type": "code",
   "execution_count": null,
   "id": "60acd1ce-b206-4c86-b2b5-27d6b1003d4c",
   "metadata": {
    "pycharm": {
     "name": "#%%\n"
    }
   },
   "outputs": [
    {
     "name": "stdout",
     "output_type": "stream",
     "text": [
      "开始时间 2022-11-18 21:13:11.227083\n",
      "\n",
      "\n",
      "第 1 次\n",
      "进度: 65.3%:  ▓▓▓▓▓▓▓▓▓▓▓▓▓▓▓▓▓▓▓▓▓▓▓▓▓▓▓▓▓▓▓▓"
     ]
    },
    {
     "name": "stderr",
     "output_type": "stream",
     "text": [
      "<timed exec>:163: RuntimeWarning: overflow encountered in exp\n",
      "<timed exec>:164: RuntimeWarning: overflow encountered in exp\n",
      "<timed exec>:165: RuntimeWarning: overflow encountered in exp\n",
      "<timed exec>:166: RuntimeWarning: overflow encountered in exp\n"
     ]
    },
    {
     "name": "stdout",
     "output_type": "stream",
     "text": [
      "进度: 66.4%:  ▓▓▓▓▓▓▓▓▓▓▓▓▓▓▓▓▓▓▓▓▓▓▓▓▓▓▓▓▓▓▓▓▓"
     ]
    }
   ],
   "source": [
    "import pandas as pd\n",
    "import datetime\n",
    "import os\n",
    "path = 'fig7b/'\n",
    "os.makedirs(path, exist_ok=True)\n",
    "records_n = []\n",
    "dfs = []\n",
    "\n",
    "print(\"开始时间\", str(datetime.datetime.now()))\n",
    "try:\n",
    "    for i in range(1):\n",
    "        np.random.seed()\n",
    "        print(\"\\n\\n第\", i + 1, \"次\")\n",
    "        time_str = str(datetime.datetime.now())\n",
    "        records = run(params, n=9)\n",
    "        np.random.seed()\n",
    "        print(str(datetime.datetime.now()))\n",
    "        records_n.append(records)\n",
    "        # _L = int(len(params) ** (0.5))\n",
    "        # cl = np.array([records[(k[0], k[1], k[1], k[1])][0] for k in params])\n",
    "        # np.savetxt(path + '%02d.csv' % i, cl.reshape([_L, _L]), delimiter=',')\n",
    "         \n",
    "        df = pd.DataFrame([list(k) + list(record) for k, record in records.items()], columns=param_names + ['x', 'y', 'z', 'p', 'ap', 'pc', 'pd', 'pm', 'pc_border', 'pd_border', 'pm_border', 'pc_inland', 'pd_inland', 'pm_inland'])\n",
    "        df = df.sort_values(by=['r', 'cost'], ignore_index=True)\n",
    "        df.to_csv(path + time_str + '.csv')\n",
    "        dfs.append(df)\n",
    "\n",
    "except Exception as e:\n",
    "    print(e)\n",
    "    pool.terminate()"
   ]
  },
  {
   "cell_type": "code",
   "execution_count": 6,
   "id": "d3ef198f-bff0-4de4-82f4-6bad03554bbb",
   "metadata": {
    "pycharm": {
     "name": "#%%\n"
    }
   },
   "outputs": [
    {
     "name": "stdout",
     "output_type": "stream",
     "text": [
      "['r', 'cost', 'reward', 'fine', 'population_type', 'gajiucai']\n",
      "0 [{'name': 'r', 'a': '2.5', 'b': '2.5', 'steps': ['0.08']}, {'name': 'cost', 'a': '0', 'b': '1', 'steps': ['0.03125']}, {'name': 'reward', 'a': '1', 'b': '1', 'steps': ['0.12']}, {'name': 'fine', 'a': '6', 'b': '6', 'steps': ['0.1']}, {'name': 'population_type', 'a': '0', 'b': '0', 'steps': ['1']}, {'name': 'gajiucai', 'a': '1', 'b': '1', 'steps': ['1']}]\n",
      "33\n",
      " 33\n",
      "预计用时 单次秒数* 0.018333333333333333 分钟\n"
     ]
    }
   ],
   "source": [
    "param_settings = [\n",
    "    {\n",
    "        'name': 'r',\n",
    "        'a': '2.5',\n",
    "        'b': '2.5',\n",
    "        'steps': ['0.08']\n",
    "    },\n",
    "    {\n",
    "        'name': 'cost',\n",
    "        'a': '0',\n",
    "        'b': '1',\n",
    "        'steps': ['0.03125']\n",
    "    },\n",
    "    {\n",
    "        'name': 'reward',\n",
    "        'a': '1',\n",
    "        'b': '1',\n",
    "        'steps': ['0.12']\n",
    "    },\n",
    "    {\n",
    "        'name': 'fine',\n",
    "        'a': '6',\n",
    "        'b': '6',\n",
    "        'steps': ['0.1']\n",
    "    },\n",
    "    {\n",
    "        'name': 'population_type',\n",
    "        'a': '0',\n",
    "        'b': '0',\n",
    "        'steps': ['1']\n",
    "    },\n",
    "    {\n",
    "        'name': 'gajiucai',\n",
    "        'a': '1',\n",
    "        'b': '1',\n",
    "        'steps': ['1']\n",
    "    }\n",
    "]\n",
    "\n",
    "param_names = [param['name'] for param in param_settings]\n",
    "print(param_names)\n",
    "\n",
    "params = cartesian_product_params(param_settings)\n"
   ]
  },
  {
   "cell_type": "code",
   "execution_count": 7,
   "id": "1a89751b-f825-4be0-8958-4968104f54f2",
   "metadata": {
    "pycharm": {
     "name": "#%%\n"
    }
   },
   "outputs": [
    {
     "name": "stdout",
     "output_type": "stream",
     "text": [
      "开始时间 2022-11-17 17:15:50.478875\n",
      "\n",
      "\n",
      "第 1 次\n",
      "进度: 39.3%:  ▓▓▓▓▓▓▓▓▓▓▓▓▓▓▓▓▓▓▓"
     ]
    },
    {
     "name": "stderr",
     "output_type": "stream",
     "text": [
      "<timed exec>:162: RuntimeWarning: overflow encountered in exp\n",
      "<timed exec>:161: RuntimeWarning: overflow encountered in exp\n"
     ]
    },
    {
     "name": "stdout",
     "output_type": "stream",
     "text": [
      "进度: 54.5%:  ▓▓▓▓▓▓▓▓▓▓▓▓▓▓▓▓▓▓▓▓▓▓▓▓▓▓▓"
     ]
    },
    {
     "name": "stderr",
     "output_type": "stream",
     "text": [
      "<timed exec>:162: RuntimeWarning: overflow encountered in exp\n",
      "<timed exec>:162: RuntimeWarning: overflow encountered in exp\n",
      "<timed exec>:164: RuntimeWarning: overflow encountered in exp\n",
      "<timed exec>:163: RuntimeWarning: overflow encountered in exp\n"
     ]
    },
    {
     "name": "stdout",
     "output_type": "stream",
     "text": [
      "进度: 60.6%:  ▓▓▓▓▓▓▓▓▓▓▓▓▓▓▓▓▓▓▓▓▓▓▓▓▓▓▓▓▓▓"
     ]
    },
    {
     "name": "stderr",
     "output_type": "stream",
     "text": [
      "<timed exec>:161: RuntimeWarning: overflow encountered in exp\n",
      "<timed exec>:162: RuntimeWarning: overflow encountered in exp\n",
      "<timed exec>:163: RuntimeWarning: overflow encountered in exp\n",
      "<timed exec>:164: RuntimeWarning: overflow encountered in exp\n",
      "<timed exec>:161: RuntimeWarning: overflow encountered in exp\n",
      "<timed exec>:162: RuntimeWarning: overflow encountered in exp\n",
      "<timed exec>:163: RuntimeWarning: overflow encountered in exp\n",
      "<timed exec>:164: RuntimeWarning: overflow encountered in exp\n"
     ]
    },
    {
     "name": "stdout",
     "output_type": "stream",
     "text": [
      "进度: 63.6%:  ▓▓▓▓▓▓▓▓▓▓▓▓▓▓▓▓▓▓▓▓▓▓▓▓▓▓▓▓▓▓▓"
     ]
    },
    {
     "name": "stderr",
     "output_type": "stream",
     "text": [
      "<timed exec>:161: RuntimeWarning: overflow encountered in exp\n",
      "<timed exec>:162: RuntimeWarning: overflow encountered in exp\n",
      "<timed exec>:163: RuntimeWarning: overflow encountered in exp\n",
      "<timed exec>:164: RuntimeWarning: overflow encountered in exp\n"
     ]
    },
    {
     "name": "stdout",
     "output_type": "stream",
     "text": [
      "进度: 66.6%:  ▓▓▓▓▓▓▓▓▓▓▓▓▓▓▓▓▓▓▓▓▓▓▓▓▓▓▓▓▓▓▓▓▓"
     ]
    },
    {
     "name": "stderr",
     "output_type": "stream",
     "text": [
      "<timed exec>:161: RuntimeWarning: overflow encountered in exp\n",
      "<timed exec>:162: RuntimeWarning: overflow encountered in exp\n",
      "<timed exec>:163: RuntimeWarning: overflow encountered in exp\n",
      "<timed exec>:164: RuntimeWarning: overflow encountered in exp\n"
     ]
    },
    {
     "name": "stdout",
     "output_type": "stream",
     "text": [
      "进度: 75.7%:  ▓▓▓▓▓▓▓▓▓▓▓▓▓▓▓▓▓▓▓▓▓▓▓▓▓▓▓▓▓▓▓▓▓▓▓▓▓"
     ]
    },
    {
     "name": "stderr",
     "output_type": "stream",
     "text": [
      "<timed exec>:161: RuntimeWarning: overflow encountered in exp\n",
      "<timed exec>:162: RuntimeWarning: overflow encountered in exp\n",
      "<timed exec>:163: RuntimeWarning: overflow encountered in exp\n",
      "<timed exec>:164: RuntimeWarning: overflow encountered in exp\n"
     ]
    },
    {
     "name": "stdout",
     "output_type": "stream",
     "text": [
      " 度: 100.0%:  ▓▓▓▓▓▓▓▓▓▓▓▓▓▓▓▓▓▓▓▓▓▓▓▓▓▓▓▓▓▓▓▓▓▓▓▓▓▓▓▓▓▓▓▓▓▓▓▓▓▓2022-11-17 17:19:41.298815\n",
      "\n",
      "\n",
      "第 2 次\n",
      "进度: 54.5%:  ▓▓▓▓▓▓▓▓▓▓▓▓▓▓▓▓▓▓▓▓▓▓▓▓▓▓▓"
     ]
    },
    {
     "name": "stderr",
     "output_type": "stream",
     "text": [
      "<timed exec>:162: RuntimeWarning: overflow encountered in exp\n",
      "<timed exec>:163: RuntimeWarning: overflow encountered in exp\n",
      "<timed exec>:164: RuntimeWarning: overflow encountered in exp\n"
     ]
    },
    {
     "name": "stdout",
     "output_type": "stream",
     "text": [
      "进度: 57.5%:  ▓▓▓▓▓▓▓▓▓▓▓▓▓▓▓▓▓▓▓▓▓▓▓▓▓▓▓▓"
     ]
    },
    {
     "name": "stderr",
     "output_type": "stream",
     "text": [
      "<timed exec>:161: RuntimeWarning: overflow encountered in exp\n",
      "<timed exec>:162: RuntimeWarning: overflow encountered in exp\n",
      "<timed exec>:163: RuntimeWarning: overflow encountered in exp\n",
      "<timed exec>:164: RuntimeWarning: overflow encountered in exp\n",
      "<timed exec>:161: RuntimeWarning: overflow encountered in exp\n",
      "<timed exec>:162: RuntimeWarning: overflow encountered in exp\n",
      "<timed exec>:164: RuntimeWarning: overflow encountered in exp\n"
     ]
    },
    {
     "name": "stdout",
     "output_type": "stream",
     "text": [
      "进度: 63.6%:  ▓▓▓▓▓▓▓▓▓▓▓▓▓▓▓▓▓▓▓▓▓▓▓▓▓▓▓▓▓▓▓"
     ]
    },
    {
     "name": "stderr",
     "output_type": "stream",
     "text": [
      "<timed exec>:161: RuntimeWarning: overflow encountered in exp\n",
      "<timed exec>:162: RuntimeWarning: overflow encountered in exp\n",
      "<timed exec>:163: RuntimeWarning: overflow encountered in exp\n",
      "<timed exec>:164: RuntimeWarning: overflow encountered in exp\n"
     ]
    },
    {
     "name": "stdout",
     "output_type": "stream",
     "text": [
      "进度: 66.6%:  ▓▓▓▓▓▓▓▓▓▓▓▓▓▓▓▓▓▓▓▓▓▓▓▓▓▓▓▓▓▓▓▓▓"
     ]
    },
    {
     "name": "stderr",
     "output_type": "stream",
     "text": [
      "<timed exec>:161: RuntimeWarning: overflow encountered in exp\n",
      "<timed exec>:162: RuntimeWarning: overflow encountered in exp\n",
      "<timed exec>:163: RuntimeWarning: overflow encountered in exp\n",
      "<timed exec>:164: RuntimeWarning: overflow encountered in exp\n",
      "<timed exec>:161: RuntimeWarning: overflow encountered in exp\n",
      "<timed exec>:162: RuntimeWarning: overflow encountered in exp\n",
      "<timed exec>:163: RuntimeWarning: overflow encountered in exp\n",
      "<timed exec>:164: RuntimeWarning: overflow encountered in exp\n"
     ]
    },
    {
     "name": "stdout",
     "output_type": "stream",
     "text": [
      "进度: 69.6%:  ▓▓▓▓▓▓▓▓▓▓▓▓▓▓▓▓▓▓▓▓▓▓▓▓▓▓▓▓▓▓▓▓▓▓"
     ]
    },
    {
     "name": "stderr",
     "output_type": "stream",
     "text": [
      "<timed exec>:161: RuntimeWarning: overflow encountered in exp\n",
      "<timed exec>:162: RuntimeWarning: overflow encountered in exp\n",
      "<timed exec>:163: RuntimeWarning: overflow encountered in exp\n",
      "<timed exec>:164: RuntimeWarning: overflow encountered in exp\n"
     ]
    },
    {
     "name": "stdout",
     "output_type": "stream",
     "text": [
      " 度: 100.0%:  ▓▓▓▓▓▓▓▓▓▓▓▓▓▓▓▓▓▓▓▓▓▓▓▓▓▓▓▓▓▓▓▓▓▓▓▓▓▓▓▓▓▓▓▓▓▓▓▓▓▓2022-11-17 17:23:31.878748\n",
      "\n",
      "\n",
      "第 3 次\n",
      "进度: 51.5%:  ▓▓▓▓▓▓▓▓▓▓▓▓▓▓▓▓▓▓▓▓▓▓▓▓▓"
     ]
    },
    {
     "name": "stderr",
     "output_type": "stream",
     "text": [
      "<timed exec>:162: RuntimeWarning: overflow encountered in exp\n"
     ]
    },
    {
     "name": "stdout",
     "output_type": "stream",
     "text": [
      "进度: 54.5%:  ▓▓▓▓▓▓▓▓▓▓▓▓▓▓▓▓▓▓▓▓▓▓▓▓▓▓▓"
     ]
    },
    {
     "name": "stderr",
     "output_type": "stream",
     "text": [
      "<timed exec>:163: RuntimeWarning: overflow encountered in exp\n"
     ]
    },
    {
     "name": "stdout",
     "output_type": "stream",
     "text": [
      "进度: 57.5%:  ▓▓▓▓▓▓▓▓▓▓▓▓▓▓▓▓▓▓▓▓▓▓▓▓▓▓▓▓"
     ]
    },
    {
     "name": "stderr",
     "output_type": "stream",
     "text": [
      "<timed exec>:161: RuntimeWarning: overflow encountered in exp\n",
      "<timed exec>:162: RuntimeWarning: overflow encountered in exp\n",
      "<timed exec>:163: RuntimeWarning: overflow encountered in exp\n",
      "<timed exec>:164: RuntimeWarning: overflow encountered in exp\n"
     ]
    },
    {
     "name": "stdout",
     "output_type": "stream",
     "text": [
      "进度: 60.6%:  ▓▓▓▓▓▓▓▓▓▓▓▓▓▓▓▓▓▓▓▓▓▓▓▓▓▓▓▓▓▓"
     ]
    },
    {
     "name": "stderr",
     "output_type": "stream",
     "text": [
      "<timed exec>:161: RuntimeWarning: overflow encountered in exp\n",
      "<timed exec>:162: RuntimeWarning: overflow encountered in exp\n",
      "<timed exec>:163: RuntimeWarning: overflow encountered in exp\n",
      "<timed exec>:164: RuntimeWarning: overflow encountered in exp\n"
     ]
    },
    {
     "name": "stdout",
     "output_type": "stream",
     "text": [
      "进度: 63.6%:  ▓▓▓▓▓▓▓▓▓▓▓▓▓▓▓▓▓▓▓▓▓▓▓▓▓▓▓▓▓▓▓"
     ]
    },
    {
     "name": "stderr",
     "output_type": "stream",
     "text": [
      "<timed exec>:161: RuntimeWarning: overflow encountered in exp\n",
      "<timed exec>:162: RuntimeWarning: overflow encountered in exp\n",
      "<timed exec>:163: RuntimeWarning: overflow encountered in exp\n",
      "<timed exec>:164: RuntimeWarning: overflow encountered in exp\n",
      "<timed exec>:161: RuntimeWarning: overflow encountered in exp\n",
      "<timed exec>:162: RuntimeWarning: overflow encountered in exp\n"
     ]
    },
    {
     "name": "stdout",
     "output_type": "stream",
     "text": [
      "进度: 66.6%:  ▓▓▓▓▓▓▓▓▓▓▓▓▓▓▓▓▓▓▓▓▓▓▓▓▓▓▓▓▓▓▓▓▓"
     ]
    },
    {
     "name": "stderr",
     "output_type": "stream",
     "text": [
      "<timed exec>:163: RuntimeWarning: overflow encountered in exp\n",
      "<timed exec>:164: RuntimeWarning: overflow encountered in exp\n",
      "<timed exec>:161: RuntimeWarning: overflow encountered in exp\n",
      "<timed exec>:162: RuntimeWarning: overflow encountered in exp\n",
      "<timed exec>:163: RuntimeWarning: overflow encountered in exp\n",
      "<timed exec>:164: RuntimeWarning: overflow encountered in exp\n"
     ]
    },
    {
     "name": "stdout",
     "output_type": "stream",
     "text": [
      "进度: 72.7%:  ▓▓▓▓▓▓▓▓▓▓▓▓▓▓▓▓▓▓▓▓▓▓▓▓▓▓▓▓▓▓▓▓▓▓▓▓"
     ]
    },
    {
     "name": "stderr",
     "output_type": "stream",
     "text": [
      "<timed exec>:161: RuntimeWarning: overflow encountered in exp\n",
      "<timed exec>:162: RuntimeWarning: overflow encountered in exp\n",
      "<timed exec>:163: RuntimeWarning: overflow encountered in exp\n",
      "<timed exec>:164: RuntimeWarning: overflow encountered in exp\n"
     ]
    },
    {
     "name": "stdout",
     "output_type": "stream",
     "text": [
      " 度: 100.0%:  ▓▓▓▓▓▓▓▓▓▓▓▓▓▓▓▓▓▓▓▓▓▓▓▓▓▓▓▓▓▓▓▓▓▓▓▓▓▓▓▓▓▓▓▓▓▓▓▓▓▓2022-11-17 17:27:22.779980\n",
      "\n",
      "\n",
      "第 4 次\n",
      "进度: 51.5%:  ▓▓▓▓▓▓▓▓▓▓▓▓▓▓▓▓▓▓▓▓▓▓▓▓▓"
     ]
    },
    {
     "name": "stderr",
     "output_type": "stream",
     "text": [
      "<timed exec>:162: RuntimeWarning: overflow encountered in exp\n"
     ]
    },
    {
     "name": "stdout",
     "output_type": "stream",
     "text": [
      "进度: 57.5%:  ▓▓▓▓▓▓▓▓▓▓▓▓▓▓▓▓▓▓▓▓▓▓▓▓▓▓▓▓"
     ]
    },
    {
     "name": "stderr",
     "output_type": "stream",
     "text": [
      "<timed exec>:162: RuntimeWarning: overflow encountered in exp\n",
      "<timed exec>:164: RuntimeWarning: overflow encountered in exp\n",
      "<timed exec>:161: RuntimeWarning: overflow encountered in exp\n",
      "<timed exec>:162: RuntimeWarning: overflow encountered in exp\n",
      "<timed exec>:163: RuntimeWarning: overflow encountered in exp\n",
      "<timed exec>:164: RuntimeWarning: overflow encountered in exp\n",
      "<timed exec>:161: RuntimeWarning: overflow encountered in exp\n",
      "<timed exec>:162: RuntimeWarning: overflow encountered in exp\n",
      "<timed exec>:163: RuntimeWarning: overflow encountered in exp\n",
      "<timed exec>:164: RuntimeWarning: overflow encountered in exp\n",
      "<timed exec>:161: RuntimeWarning: overflow encountered in exp\n",
      "<timed exec>:162: RuntimeWarning: overflow encountered in exp\n",
      "<timed exec>:163: RuntimeWarning: overflow encountered in exp\n",
      "<timed exec>:164: RuntimeWarning: overflow encountered in exp\n",
      "<timed exec>:161: RuntimeWarning: overflow encountered in exp\n",
      "<timed exec>:162: RuntimeWarning: overflow encountered in exp\n",
      "<timed exec>:163: RuntimeWarning: overflow encountered in exp\n",
      "<timed exec>:164: RuntimeWarning: overflow encountered in exp\n",
      "<timed exec>:161: RuntimeWarning: overflow encountered in exp\n",
      "<timed exec>:162: RuntimeWarning: overflow encountered in exp\n",
      "<timed exec>:163: RuntimeWarning: overflow encountered in exp\n",
      "<timed exec>:164: RuntimeWarning: overflow encountered in exp\n"
     ]
    },
    {
     "name": "stdout",
     "output_type": "stream",
     "text": [
      " 度: 100.0%:  ▓▓▓▓▓▓▓▓▓▓▓▓▓▓▓▓▓▓▓▓▓▓▓▓▓▓▓▓▓▓▓▓▓▓▓▓▓▓▓▓▓▓▓▓▓▓▓▓▓▓2022-11-17 17:31:13.881205\n",
      "\n",
      "\n",
      "第 5 次\n",
      "进度: 54.5%:  ▓▓▓▓▓▓▓▓▓▓▓▓▓▓▓▓▓▓▓▓▓▓▓▓▓▓▓"
     ]
    },
    {
     "name": "stderr",
     "output_type": "stream",
     "text": [
      "<timed exec>:161: RuntimeWarning: overflow encountered in exp\n",
      "<timed exec>:162: RuntimeWarning: overflow encountered in exp\n",
      "<timed exec>:163: RuntimeWarning: overflow encountered in exp\n"
     ]
    },
    {
     "name": "stdout",
     "output_type": "stream",
     "text": [
      "进度: 57.5%:  ▓▓▓▓▓▓▓▓▓▓▓▓▓▓▓▓▓▓▓▓▓▓▓▓▓▓▓▓"
     ]
    },
    {
     "name": "stderr",
     "output_type": "stream",
     "text": [
      "<timed exec>:161: RuntimeWarning: overflow encountered in exp\n",
      "<timed exec>:162: RuntimeWarning: overflow encountered in exp\n",
      "<timed exec>:163: RuntimeWarning: overflow encountered in exp\n",
      "<timed exec>:164: RuntimeWarning: overflow encountered in exp\n"
     ]
    },
    {
     "name": "stdout",
     "output_type": "stream",
     "text": [
      "进度: 60.6%:  ▓▓▓▓▓▓▓▓▓▓▓▓▓▓▓▓▓▓▓▓▓▓▓▓▓▓▓▓▓▓"
     ]
    },
    {
     "name": "stderr",
     "output_type": "stream",
     "text": [
      "<timed exec>:161: RuntimeWarning: overflow encountered in exp\n",
      "<timed exec>:164: RuntimeWarning: overflow encountered in exp\n",
      "<timed exec>:162: RuntimeWarning: overflow encountered in exp\n",
      "<timed exec>:163: RuntimeWarning: overflow encountered in exp\n",
      "<timed exec>:161: RuntimeWarning: overflow encountered in exp\n",
      "<timed exec>:162: RuntimeWarning: overflow encountered in exp\n",
      "<timed exec>:163: RuntimeWarning: overflow encountered in exp\n",
      "<timed exec>:164: RuntimeWarning: overflow encountered in exp\n"
     ]
    },
    {
     "name": "stdout",
     "output_type": "stream",
     "text": [
      "进度: 66.6%:  ▓▓▓▓▓▓▓▓▓▓▓▓▓▓▓▓▓▓▓▓▓▓▓▓▓▓▓▓▓▓▓▓▓"
     ]
    },
    {
     "name": "stderr",
     "output_type": "stream",
     "text": [
      "<timed exec>:161: RuntimeWarning: overflow encountered in exp\n",
      "<timed exec>:162: RuntimeWarning: overflow encountered in exp\n",
      "<timed exec>:163: RuntimeWarning: overflow encountered in exp\n",
      "<timed exec>:164: RuntimeWarning: overflow encountered in exp\n",
      "<timed exec>:161: RuntimeWarning: overflow encountered in exp\n",
      "<timed exec>:162: RuntimeWarning: overflow encountered in exp\n",
      "<timed exec>:163: RuntimeWarning: overflow encountered in exp\n",
      "<timed exec>:164: RuntimeWarning: overflow encountered in exp\n"
     ]
    },
    {
     "name": "stdout",
     "output_type": "stream",
     "text": [
      "进度: 72.7%:  ▓▓▓▓▓▓▓▓▓▓▓▓▓▓▓▓▓▓▓▓▓▓▓▓▓▓▓▓▓▓▓▓▓▓▓▓"
     ]
    },
    {
     "name": "stderr",
     "output_type": "stream",
     "text": [
      "<timed exec>:161: RuntimeWarning: overflow encountered in exp\n",
      "<timed exec>:162: RuntimeWarning: overflow encountered in exp\n",
      "<timed exec>:163: RuntimeWarning: overflow encountered in exp\n",
      "<timed exec>:164: RuntimeWarning: overflow encountered in exp\n"
     ]
    },
    {
     "name": "stdout",
     "output_type": "stream",
     "text": [
      " 度: 100.0%:  ▓▓▓▓▓▓▓▓▓▓▓▓▓▓▓▓▓▓▓▓▓▓▓▓▓▓▓▓▓▓▓▓▓▓▓▓▓▓▓▓▓▓▓▓▓▓▓▓▓▓2022-11-17 17:35:05.651702\n",
      "\n",
      "\n",
      "第 6 次\n",
      "进度: 54.5%:  ▓▓▓▓▓▓▓▓▓▓▓▓▓▓▓▓▓▓▓▓▓▓▓▓▓▓▓"
     ]
    },
    {
     "name": "stderr",
     "output_type": "stream",
     "text": [
      "<timed exec>:164: RuntimeWarning: overflow encountered in exp\n"
     ]
    },
    {
     "name": "stdout",
     "output_type": "stream",
     "text": [
      "进度: 57.5%:  ▓▓▓▓▓▓▓▓▓▓▓▓▓▓▓▓▓▓▓▓▓▓▓▓▓▓▓▓"
     ]
    },
    {
     "name": "stderr",
     "output_type": "stream",
     "text": [
      "<timed exec>:163: RuntimeWarning: overflow encountered in exp\n",
      "<timed exec>:164: RuntimeWarning: overflow encountered in exp\n",
      "<timed exec>:162: RuntimeWarning: overflow encountered in exp\n"
     ]
    },
    {
     "name": "stdout",
     "output_type": "stream",
     "text": [
      "进度: 60.6%:  ▓▓▓▓▓▓▓▓▓▓▓▓▓▓▓▓▓▓▓▓▓▓▓▓▓▓▓▓▓▓"
     ]
    },
    {
     "name": "stderr",
     "output_type": "stream",
     "text": [
      "<timed exec>:162: RuntimeWarning: overflow encountered in exp\n",
      "<timed exec>:161: RuntimeWarning: overflow encountered in exp\n",
      "<timed exec>:163: RuntimeWarning: overflow encountered in exp\n",
      "<timed exec>:164: RuntimeWarning: overflow encountered in exp\n",
      "<timed exec>:161: RuntimeWarning: overflow encountered in exp\n",
      "<timed exec>:162: RuntimeWarning: overflow encountered in exp\n",
      "<timed exec>:163: RuntimeWarning: overflow encountered in exp\n"
     ]
    },
    {
     "name": "stdout",
     "output_type": "stream",
     "text": [
      "进度: 66.6%:  ▓▓▓▓▓▓▓▓▓▓▓▓▓▓▓▓▓▓▓▓▓▓▓▓▓▓▓▓▓▓▓▓▓"
     ]
    },
    {
     "name": "stderr",
     "output_type": "stream",
     "text": [
      "<timed exec>:161: RuntimeWarning: overflow encountered in exp\n",
      "<timed exec>:162: RuntimeWarning: overflow encountered in exp\n",
      "<timed exec>:163: RuntimeWarning: overflow encountered in exp\n",
      "<timed exec>:164: RuntimeWarning: overflow encountered in exp\n",
      "<timed exec>:161: RuntimeWarning: overflow encountered in exp\n",
      "<timed exec>:162: RuntimeWarning: overflow encountered in exp\n",
      "<timed exec>:163: RuntimeWarning: overflow encountered in exp\n",
      "<timed exec>:164: RuntimeWarning: overflow encountered in exp\n"
     ]
    },
    {
     "name": "stdout",
     "output_type": "stream",
     "text": [
      "进度: 69.6%:  ▓▓▓▓▓▓▓▓▓▓▓▓▓▓▓▓▓▓▓▓▓▓▓▓▓▓▓▓▓▓▓▓▓▓"
     ]
    },
    {
     "name": "stderr",
     "output_type": "stream",
     "text": [
      "<timed exec>:161: RuntimeWarning: overflow encountered in exp\n",
      "<timed exec>:162: RuntimeWarning: overflow encountered in exp\n",
      "<timed exec>:163: RuntimeWarning: overflow encountered in exp\n",
      "<timed exec>:164: RuntimeWarning: overflow encountered in exp\n"
     ]
    },
    {
     "name": "stdout",
     "output_type": "stream",
     "text": [
      " 度: 100.0%:  ▓▓▓▓▓▓▓▓▓▓▓▓▓▓▓▓▓▓▓▓▓▓▓▓▓▓▓▓▓▓▓▓▓▓▓▓▓▓▓▓▓▓▓▓▓▓▓▓▓▓2022-11-17 17:38:56.408218\n",
      "\n",
      "\n",
      "第 7 次\n",
      "进度: 54.5%:  ▓▓▓▓▓▓▓▓▓▓▓▓▓▓▓▓▓▓▓▓▓▓▓▓▓▓▓"
     ]
    },
    {
     "name": "stderr",
     "output_type": "stream",
     "text": [
      "<timed exec>:161: RuntimeWarning: overflow encountered in exp\n",
      "<timed exec>:164: RuntimeWarning: overflow encountered in exp\n"
     ]
    },
    {
     "name": "stdout",
     "output_type": "stream",
     "text": [
      "进度: 57.5%:  ▓▓▓▓▓▓▓▓▓▓▓▓▓▓▓▓▓▓▓▓▓▓▓▓▓▓▓▓"
     ]
    },
    {
     "name": "stderr",
     "output_type": "stream",
     "text": [
      "<timed exec>:162: RuntimeWarning: overflow encountered in exp\n",
      "<timed exec>:161: RuntimeWarning: overflow encountered in exp\n",
      "<timed exec>:164: RuntimeWarning: overflow encountered in exp\n"
     ]
    },
    {
     "name": "stdout",
     "output_type": "stream",
     "text": [
      "进度: 60.6%:  ▓▓▓▓▓▓▓▓▓▓▓▓▓▓▓▓▓▓▓▓▓▓▓▓▓▓▓▓▓▓"
     ]
    },
    {
     "name": "stderr",
     "output_type": "stream",
     "text": [
      "<timed exec>:161: RuntimeWarning: overflow encountered in exp\n",
      "<timed exec>:162: RuntimeWarning: overflow encountered in exp\n",
      "<timed exec>:163: RuntimeWarning: overflow encountered in exp\n",
      "<timed exec>:164: RuntimeWarning: overflow encountered in exp\n",
      "<timed exec>:162: RuntimeWarning: overflow encountered in exp\n",
      "<timed exec>:161: RuntimeWarning: overflow encountered in exp\n",
      "<timed exec>:163: RuntimeWarning: overflow encountered in exp\n",
      "<timed exec>:164: RuntimeWarning: overflow encountered in exp\n"
     ]
    },
    {
     "name": "stdout",
     "output_type": "stream",
     "text": [
      "进度: 66.6%:  ▓▓▓▓▓▓▓▓▓▓▓▓▓▓▓▓▓▓▓▓▓▓▓▓▓▓▓▓▓▓▓▓▓"
     ]
    },
    {
     "name": "stderr",
     "output_type": "stream",
     "text": [
      "<timed exec>:161: RuntimeWarning: overflow encountered in exp\n",
      "<timed exec>:162: RuntimeWarning: overflow encountered in exp\n",
      "<timed exec>:163: RuntimeWarning: overflow encountered in exp\n",
      "<timed exec>:164: RuntimeWarning: overflow encountered in exp\n"
     ]
    },
    {
     "name": "stdout",
     "output_type": "stream",
     "text": [
      "进度: 69.6%:  ▓▓▓▓▓▓▓▓▓▓▓▓▓▓▓▓▓▓▓▓▓▓▓▓▓▓▓▓▓▓▓▓▓▓"
     ]
    },
    {
     "name": "stderr",
     "output_type": "stream",
     "text": [
      "<timed exec>:161: RuntimeWarning: overflow encountered in exp\n",
      "<timed exec>:162: RuntimeWarning: overflow encountered in exp\n",
      "<timed exec>:163: RuntimeWarning: overflow encountered in exp\n",
      "<timed exec>:164: RuntimeWarning: overflow encountered in exp\n",
      "<timed exec>:161: RuntimeWarning: overflow encountered in exp\n",
      "<timed exec>:162: RuntimeWarning: overflow encountered in exp\n",
      "<timed exec>:163: RuntimeWarning: overflow encountered in exp\n",
      "<timed exec>:164: RuntimeWarning: overflow encountered in exp\n"
     ]
    },
    {
     "name": "stdout",
     "output_type": "stream",
     "text": [
      "进度: 81.8%:  ▓▓▓▓▓▓▓▓▓▓▓▓▓▓▓▓▓▓▓▓▓▓▓▓▓▓▓▓▓▓▓▓▓▓▓▓▓▓▓▓"
     ]
    },
    {
     "name": "stderr",
     "output_type": "stream",
     "text": [
      "<timed exec>:163: RuntimeWarning: overflow encountered in exp\n"
     ]
    },
    {
     "name": "stdout",
     "output_type": "stream",
     "text": [
      " 度: 100.0%:  ▓▓▓▓▓▓▓▓▓▓▓▓▓▓▓▓▓▓▓▓▓▓▓▓▓▓▓▓▓▓▓▓▓▓▓▓▓▓▓▓▓▓▓▓▓▓▓▓▓▓2022-11-17 17:42:47.772503\n",
      "\n",
      "\n",
      "第 8 次\n",
      "进度: 54.5%:  ▓▓▓▓▓▓▓▓▓▓▓▓▓▓▓▓▓▓▓▓▓▓▓▓▓▓▓"
     ]
    },
    {
     "name": "stderr",
     "output_type": "stream",
     "text": [
      "<timed exec>:163: RuntimeWarning: overflow encountered in exp\n",
      "<timed exec>:161: RuntimeWarning: overflow encountered in exp\n",
      "<timed exec>:162: RuntimeWarning: overflow encountered in exp\n",
      "<timed exec>:163: RuntimeWarning: overflow encountered in exp\n",
      "<timed exec>:161: RuntimeWarning: overflow encountered in exp\n",
      "<timed exec>:162: RuntimeWarning: overflow encountered in exp\n",
      "<timed exec>:164: RuntimeWarning: overflow encountered in exp\n"
     ]
    },
    {
     "name": "stdout",
     "output_type": "stream",
     "text": [
      "进度: 60.6%:  ▓▓▓▓▓▓▓▓▓▓▓▓▓▓▓▓▓▓▓▓▓▓▓▓▓▓▓▓▓▓"
     ]
    },
    {
     "name": "stderr",
     "output_type": "stream",
     "text": [
      "<timed exec>:161: RuntimeWarning: overflow encountered in exp\n",
      "<timed exec>:162: RuntimeWarning: overflow encountered in exp\n",
      "<timed exec>:163: RuntimeWarning: overflow encountered in exp\n",
      "<timed exec>:164: RuntimeWarning: overflow encountered in exp\n",
      "<timed exec>:161: RuntimeWarning: overflow encountered in exp\n",
      "<timed exec>:162: RuntimeWarning: overflow encountered in exp\n",
      "<timed exec>:163: RuntimeWarning: overflow encountered in exp\n",
      "<timed exec>:164: RuntimeWarning: overflow encountered in exp\n",
      "<timed exec>:161: RuntimeWarning: overflow encountered in exp\n",
      "<timed exec>:162: RuntimeWarning: overflow encountered in exp\n",
      "<timed exec>:163: RuntimeWarning: overflow encountered in exp\n",
      "<timed exec>:164: RuntimeWarning: overflow encountered in exp\n",
      "<timed exec>:161: RuntimeWarning: overflow encountered in exp\n",
      "<timed exec>:162: RuntimeWarning: overflow encountered in exp\n",
      "<timed exec>:163: RuntimeWarning: overflow encountered in exp\n",
      "<timed exec>:164: RuntimeWarning: overflow encountered in exp\n"
     ]
    },
    {
     "name": "stdout",
     "output_type": "stream",
     "text": [
      " 度: 100.0%:  ▓▓▓▓▓▓▓▓▓▓▓▓▓▓▓▓▓▓▓▓▓▓▓▓▓▓▓▓▓▓▓▓▓▓▓▓▓▓▓▓▓▓▓▓▓▓▓▓▓▓2022-11-17 17:46:38.544615\n",
      "\n",
      "\n",
      "第 9 次\n",
      "进度: 54.5%:  ▓▓▓▓▓▓▓▓▓▓▓▓▓▓▓▓▓▓▓▓▓▓▓▓▓▓▓"
     ]
    },
    {
     "name": "stderr",
     "output_type": "stream",
     "text": [
      "<timed exec>:163: RuntimeWarning: overflow encountered in exp\n"
     ]
    },
    {
     "name": "stdout",
     "output_type": "stream",
     "text": [
      "进度: 57.5%:  ▓▓▓▓▓▓▓▓▓▓▓▓▓▓▓▓▓▓▓▓▓▓▓▓▓▓▓▓"
     ]
    },
    {
     "name": "stderr",
     "output_type": "stream",
     "text": [
      "<timed exec>:163: RuntimeWarning: overflow encountered in exp\n",
      "<timed exec>:161: RuntimeWarning: overflow encountered in exp\n"
     ]
    },
    {
     "name": "stdout",
     "output_type": "stream",
     "text": [
      "进度: 60.6%:  ▓▓▓▓▓▓▓▓▓▓▓▓▓▓▓▓▓▓▓▓▓▓▓▓▓▓▓▓▓▓"
     ]
    },
    {
     "name": "stderr",
     "output_type": "stream",
     "text": [
      "<timed exec>:162: RuntimeWarning: overflow encountered in exp\n",
      "<timed exec>:164: RuntimeWarning: overflow encountered in exp\n",
      "<timed exec>:163: RuntimeWarning: overflow encountered in exp\n"
     ]
    },
    {
     "name": "stdout",
     "output_type": "stream",
     "text": [
      "进度: 63.6%:  ▓▓▓▓▓▓▓▓▓▓▓▓▓▓▓▓▓▓▓▓▓▓▓▓▓▓▓▓▓▓▓"
     ]
    },
    {
     "name": "stderr",
     "output_type": "stream",
     "text": [
      "<timed exec>:161: RuntimeWarning: overflow encountered in exp\n",
      "<timed exec>:162: RuntimeWarning: overflow encountered in exp\n",
      "<timed exec>:163: RuntimeWarning: overflow encountered in exp\n",
      "<timed exec>:164: RuntimeWarning: overflow encountered in exp\n"
     ]
    },
    {
     "name": "stdout",
     "output_type": "stream",
     "text": [
      "进度: 66.6%:  ▓▓▓▓▓▓▓▓▓▓▓▓▓▓▓▓▓▓▓▓▓▓▓▓▓▓▓▓▓▓▓▓▓"
     ]
    },
    {
     "name": "stderr",
     "output_type": "stream",
     "text": [
      "<timed exec>:161: RuntimeWarning: overflow encountered in exp\n",
      "<timed exec>:162: RuntimeWarning: overflow encountered in exp\n",
      "<timed exec>:163: RuntimeWarning: overflow encountered in exp\n",
      "<timed exec>:164: RuntimeWarning: overflow encountered in exp\n"
     ]
    },
    {
     "name": "stdout",
     "output_type": "stream",
     "text": [
      "进度: 69.6%:  ▓▓▓▓▓▓▓▓▓▓▓▓▓▓▓▓▓▓▓▓▓▓▓▓▓▓▓▓▓▓▓▓▓▓"
     ]
    },
    {
     "name": "stderr",
     "output_type": "stream",
     "text": [
      "<timed exec>:161: RuntimeWarning: overflow encountered in exp\n",
      "<timed exec>:162: RuntimeWarning: overflow encountered in exp\n",
      "<timed exec>:163: RuntimeWarning: overflow encountered in exp\n",
      "<timed exec>:164: RuntimeWarning: overflow encountered in exp\n"
     ]
    },
    {
     "name": "stdout",
     "output_type": "stream",
     "text": [
      "进度: 72.7%:  ▓▓▓▓▓▓▓▓▓▓▓▓▓▓▓▓▓▓▓▓▓▓▓▓▓▓▓▓▓▓▓▓▓▓▓▓"
     ]
    },
    {
     "name": "stderr",
     "output_type": "stream",
     "text": [
      "<timed exec>:161: RuntimeWarning: overflow encountered in exp\n",
      "<timed exec>:162: RuntimeWarning: overflow encountered in exp\n",
      "<timed exec>:163: RuntimeWarning: overflow encountered in exp\n",
      "<timed exec>:164: RuntimeWarning: overflow encountered in exp\n"
     ]
    },
    {
     "name": "stdout",
     "output_type": "stream",
     "text": [
      " 度: 100.0%:  ▓▓▓▓▓▓▓▓▓▓▓▓▓▓▓▓▓▓▓▓▓▓▓▓▓▓▓▓▓▓▓▓▓▓▓▓▓▓▓▓▓▓▓▓▓▓▓▓▓▓2022-11-17 17:50:30.355144\n",
      "\n",
      "\n",
      "第 10 次\n",
      "进度: 51.5%:  ▓▓▓▓▓▓▓▓▓▓▓▓▓▓▓▓▓▓▓▓▓▓▓▓▓"
     ]
    },
    {
     "name": "stderr",
     "output_type": "stream",
     "text": [
      "<timed exec>:162: RuntimeWarning: overflow encountered in exp\n"
     ]
    },
    {
     "name": "stdout",
     "output_type": "stream",
     "text": [
      "进度: 57.5%:  ▓▓▓▓▓▓▓▓▓▓▓▓▓▓▓▓▓▓▓▓▓▓▓▓▓▓▓▓"
     ]
    },
    {
     "name": "stderr",
     "output_type": "stream",
     "text": [
      "<timed exec>:161: RuntimeWarning: overflow encountered in exp\n",
      "<timed exec>:163: RuntimeWarning: overflow encountered in exp\n",
      "<timed exec>:164: RuntimeWarning: overflow encountered in exp\n"
     ]
    },
    {
     "name": "stdout",
     "output_type": "stream",
     "text": [
      "进度: 60.6%:  ▓▓▓▓▓▓▓▓▓▓▓▓▓▓▓▓▓▓▓▓▓▓▓▓▓▓▓▓▓▓"
     ]
    },
    {
     "name": "stderr",
     "output_type": "stream",
     "text": [
      "<timed exec>:161: RuntimeWarning: overflow encountered in exp\n",
      "<timed exec>:162: RuntimeWarning: overflow encountered in exp\n",
      "<timed exec>:163: RuntimeWarning: overflow encountered in exp\n",
      "<timed exec>:164: RuntimeWarning: overflow encountered in exp\n",
      "<timed exec>:161: RuntimeWarning: overflow encountered in exp\n",
      "<timed exec>:162: RuntimeWarning: overflow encountered in exp\n",
      "<timed exec>:163: RuntimeWarning: overflow encountered in exp\n",
      "<timed exec>:164: RuntimeWarning: overflow encountered in exp\n",
      "<timed exec>:161: RuntimeWarning: overflow encountered in exp\n",
      "<timed exec>:162: RuntimeWarning: overflow encountered in exp\n",
      "<timed exec>:163: RuntimeWarning: overflow encountered in exp\n",
      "<timed exec>:164: RuntimeWarning: overflow encountered in exp\n"
     ]
    },
    {
     "name": "stdout",
     "output_type": "stream",
     "text": [
      "进度: 66.6%:  ▓▓▓▓▓▓▓▓▓▓▓▓▓▓▓▓▓▓▓▓▓▓▓▓▓▓▓▓▓▓▓▓▓"
     ]
    },
    {
     "name": "stderr",
     "output_type": "stream",
     "text": [
      "<timed exec>:161: RuntimeWarning: overflow encountered in exp\n",
      "<timed exec>:162: RuntimeWarning: overflow encountered in exp\n",
      "<timed exec>:163: RuntimeWarning: overflow encountered in exp\n",
      "<timed exec>:164: RuntimeWarning: overflow encountered in exp\n"
     ]
    },
    {
     "name": "stdout",
     "output_type": "stream",
     "text": [
      "进度: 72.7%:  ▓▓▓▓▓▓▓▓▓▓▓▓▓▓▓▓▓▓▓▓▓▓▓▓▓▓▓▓▓▓▓▓▓▓▓▓"
     ]
    },
    {
     "name": "stderr",
     "output_type": "stream",
     "text": [
      "<timed exec>:161: RuntimeWarning: overflow encountered in exp\n",
      "<timed exec>:162: RuntimeWarning: overflow encountered in exp\n",
      "<timed exec>:163: RuntimeWarning: overflow encountered in exp\n",
      "<timed exec>:164: RuntimeWarning: overflow encountered in exp\n"
     ]
    },
    {
     "name": "stdout",
     "output_type": "stream",
     "text": [
      " 度: 100.0%:  ▓▓▓▓▓▓▓▓▓▓▓▓▓▓▓▓▓▓▓▓▓▓▓▓▓▓▓▓▓▓▓▓▓▓▓▓▓▓▓▓▓▓▓▓▓▓▓▓▓▓2022-11-17 17:54:21.307763\n",
      "\n",
      "\n",
      "第 11 次\n",
      "进度: 54.5%:  ▓▓▓▓▓▓▓▓▓▓▓▓▓▓▓▓▓▓▓▓▓▓▓▓▓▓▓"
     ]
    },
    {
     "name": "stderr",
     "output_type": "stream",
     "text": [
      "<timed exec>:162: RuntimeWarning: overflow encountered in exp\n",
      "<timed exec>:161: RuntimeWarning: overflow encountered in exp\n",
      "<timed exec>:162: RuntimeWarning: overflow encountered in exp\n",
      "<timed exec>:163: RuntimeWarning: overflow encountered in exp\n",
      "<timed exec>:164: RuntimeWarning: overflow encountered in exp\n",
      "<timed exec>:164: RuntimeWarning: overflow encountered in exp\n",
      "<timed exec>:161: RuntimeWarning: overflow encountered in exp\n",
      "<timed exec>:162: RuntimeWarning: overflow encountered in exp\n",
      "<timed exec>:163: RuntimeWarning: overflow encountered in exp\n",
      "<timed exec>:161: RuntimeWarning: overflow encountered in exp\n",
      "<timed exec>:162: RuntimeWarning: overflow encountered in exp\n",
      "<timed exec>:163: RuntimeWarning: overflow encountered in exp\n",
      "<timed exec>:164: RuntimeWarning: overflow encountered in exp\n"
     ]
    },
    {
     "name": "stdout",
     "output_type": "stream",
     "text": [
      "进度: 63.6%:  ▓▓▓▓▓▓▓▓▓▓▓▓▓▓▓▓▓▓▓▓▓▓▓▓▓▓▓▓▓▓▓"
     ]
    },
    {
     "name": "stderr",
     "output_type": "stream",
     "text": [
      "<timed exec>:161: RuntimeWarning: overflow encountered in exp\n",
      "<timed exec>:162: RuntimeWarning: overflow encountered in exp\n",
      "<timed exec>:163: RuntimeWarning: overflow encountered in exp\n",
      "<timed exec>:164: RuntimeWarning: overflow encountered in exp\n",
      "<timed exec>:161: RuntimeWarning: overflow encountered in exp\n",
      "<timed exec>:162: RuntimeWarning: overflow encountered in exp\n",
      "<timed exec>:163: RuntimeWarning: overflow encountered in exp\n",
      "<timed exec>:164: RuntimeWarning: overflow encountered in exp\n",
      "<timed exec>:161: RuntimeWarning: overflow encountered in exp\n",
      "<timed exec>:162: RuntimeWarning: overflow encountered in exp\n",
      "<timed exec>:163: RuntimeWarning: overflow encountered in exp\n",
      "<timed exec>:164: RuntimeWarning: overflow encountered in exp\n"
     ]
    },
    {
     "name": "stdout",
     "output_type": "stream",
     "text": [
      " 度: 100.0%:  ▓▓▓▓▓▓▓▓▓▓▓▓▓▓▓▓▓▓▓▓▓▓▓▓▓▓▓▓▓▓▓▓▓▓▓▓▓▓▓▓▓▓▓▓▓▓▓▓▓▓2022-11-17 17:58:12.594106\n",
      "\n",
      "\n",
      "第 12 次\n",
      "进度: 51.5%:  ▓▓▓▓▓▓▓▓▓▓▓▓▓▓▓▓▓▓▓▓▓▓▓▓▓"
     ]
    },
    {
     "name": "stderr",
     "output_type": "stream",
     "text": [
      "<timed exec>:163: RuntimeWarning: overflow encountered in exp\n"
     ]
    },
    {
     "name": "stdout",
     "output_type": "stream",
     "text": [
      "进度: 54.5%:  ▓▓▓▓▓▓▓▓▓▓▓▓▓▓▓▓▓▓▓▓▓▓▓▓▓▓▓"
     ]
    },
    {
     "name": "stderr",
     "output_type": "stream",
     "text": [
      "<timed exec>:161: RuntimeWarning: overflow encountered in exp\n",
      "<timed exec>:163: RuntimeWarning: overflow encountered in exp\n"
     ]
    },
    {
     "name": "stdout",
     "output_type": "stream",
     "text": [
      "进度: 57.5%:  ▓▓▓▓▓▓▓▓▓▓▓▓▓▓▓▓▓▓▓▓▓▓▓▓▓▓▓▓"
     ]
    },
    {
     "name": "stderr",
     "output_type": "stream",
     "text": [
      "<timed exec>:161: RuntimeWarning: overflow encountered in exp\n",
      "<timed exec>:162: RuntimeWarning: overflow encountered in exp\n",
      "<timed exec>:163: RuntimeWarning: overflow encountered in exp\n",
      "<timed exec>:164: RuntimeWarning: overflow encountered in exp\n",
      "<timed exec>:161: RuntimeWarning: overflow encountered in exp\n",
      "<timed exec>:162: RuntimeWarning: overflow encountered in exp\n",
      "<timed exec>:163: RuntimeWarning: overflow encountered in exp\n",
      "<timed exec>:164: RuntimeWarning: overflow encountered in exp\n",
      "<timed exec>:161: RuntimeWarning: overflow encountered in exp\n",
      "<timed exec>:162: RuntimeWarning: overflow encountered in exp\n",
      "<timed exec>:163: RuntimeWarning: overflow encountered in exp\n",
      "<timed exec>:164: RuntimeWarning: overflow encountered in exp\n",
      "<timed exec>:161: RuntimeWarning: overflow encountered in exp\n",
      "<timed exec>:162: RuntimeWarning: overflow encountered in exp\n",
      "<timed exec>:163: RuntimeWarning: overflow encountered in exp\n",
      "<timed exec>:164: RuntimeWarning: overflow encountered in exp\n"
     ]
    },
    {
     "name": "stdout",
     "output_type": "stream",
     "text": [
      "进度: 66.6%:  ▓▓▓▓▓▓▓▓▓▓▓▓▓▓▓▓▓▓▓▓▓▓▓▓▓▓▓▓▓▓▓▓▓"
     ]
    },
    {
     "name": "stderr",
     "output_type": "stream",
     "text": [
      "<timed exec>:161: RuntimeWarning: overflow encountered in exp\n",
      "<timed exec>:162: RuntimeWarning: overflow encountered in exp\n",
      "<timed exec>:163: RuntimeWarning: overflow encountered in exp\n",
      "<timed exec>:164: RuntimeWarning: overflow encountered in exp\n"
     ]
    },
    {
     "name": "stdout",
     "output_type": "stream",
     "text": [
      "进度: 69.6%:  ▓▓▓▓▓▓▓▓▓▓▓▓▓▓▓▓▓▓▓▓▓▓▓▓▓▓▓▓▓▓▓▓▓▓"
     ]
    },
    {
     "name": "stderr",
     "output_type": "stream",
     "text": [
      "<timed exec>:161: RuntimeWarning: overflow encountered in exp\n",
      "<timed exec>:162: RuntimeWarning: overflow encountered in exp\n",
      "<timed exec>:163: RuntimeWarning: overflow encountered in exp\n",
      "<timed exec>:164: RuntimeWarning: overflow encountered in exp\n"
     ]
    },
    {
     "name": "stdout",
     "output_type": "stream",
     "text": [
      " 度: 100.0%:  ▓▓▓▓▓▓▓▓▓▓▓▓▓▓▓▓▓▓▓▓▓▓▓▓▓▓▓▓▓▓▓▓▓▓▓▓▓▓▓▓▓▓▓▓▓▓▓▓▓▓2022-11-17 18:02:04.946334\n",
      "\n",
      "\n",
      "第 13 次\n",
      "进度: 54.5%:  ▓▓▓▓▓▓▓▓▓▓▓▓▓▓▓▓▓▓▓▓▓▓▓▓▓▓▓"
     ]
    },
    {
     "name": "stderr",
     "output_type": "stream",
     "text": [
      "<timed exec>:161: RuntimeWarning: overflow encountered in exp\n",
      "<timed exec>:162: RuntimeWarning: overflow encountered in exp\n"
     ]
    },
    {
     "name": "stdout",
     "output_type": "stream",
     "text": [
      "进度: 57.5%:  ▓▓▓▓▓▓▓▓▓▓▓▓▓▓▓▓▓▓▓▓▓▓▓▓▓▓▓▓"
     ]
    },
    {
     "name": "stderr",
     "output_type": "stream",
     "text": [
      "<timed exec>:163: RuntimeWarning: overflow encountered in exp\n",
      "<timed exec>:161: RuntimeWarning: overflow encountered in exp\n",
      "<timed exec>:162: RuntimeWarning: overflow encountered in exp\n",
      "<timed exec>:164: RuntimeWarning: overflow encountered in exp\n",
      "<timed exec>:162: RuntimeWarning: overflow encountered in exp\n",
      "<timed exec>:161: RuntimeWarning: overflow encountered in exp\n",
      "<timed exec>:163: RuntimeWarning: overflow encountered in exp\n",
      "<timed exec>:164: RuntimeWarning: overflow encountered in exp\n",
      "<timed exec>:161: RuntimeWarning: overflow encountered in exp\n",
      "<timed exec>:162: RuntimeWarning: overflow encountered in exp\n",
      "<timed exec>:163: RuntimeWarning: overflow encountered in exp\n",
      "<timed exec>:164: RuntimeWarning: overflow encountered in exp\n"
     ]
    },
    {
     "name": "stdout",
     "output_type": "stream",
     "text": [
      "进度: 60.6%:  ▓▓▓▓▓▓▓▓▓▓▓▓▓▓▓▓▓▓▓▓▓▓▓▓▓▓▓▓▓▓"
     ]
    },
    {
     "name": "stderr",
     "output_type": "stream",
     "text": [
      "<timed exec>:161: RuntimeWarning: overflow encountered in exp\n",
      "<timed exec>:162: RuntimeWarning: overflow encountered in exp\n",
      "<timed exec>:163: RuntimeWarning: overflow encountered in exp\n",
      "<timed exec>:164: RuntimeWarning: overflow encountered in exp\n",
      "<timed exec>:161: RuntimeWarning: overflow encountered in exp\n",
      "<timed exec>:162: RuntimeWarning: overflow encountered in exp\n",
      "<timed exec>:163: RuntimeWarning: overflow encountered in exp\n",
      "<timed exec>:164: RuntimeWarning: overflow encountered in exp\n"
     ]
    },
    {
     "name": "stdout",
     "output_type": "stream",
     "text": [
      "进度: 72.7%:  ▓▓▓▓▓▓▓▓▓▓▓▓▓▓▓▓▓▓▓▓▓▓▓▓▓▓▓▓▓▓▓▓▓▓▓▓"
     ]
    },
    {
     "name": "stderr",
     "output_type": "stream",
     "text": [
      "<timed exec>:161: RuntimeWarning: overflow encountered in exp\n",
      "<timed exec>:162: RuntimeWarning: overflow encountered in exp\n",
      "<timed exec>:163: RuntimeWarning: overflow encountered in exp\n",
      "<timed exec>:164: RuntimeWarning: overflow encountered in exp\n"
     ]
    },
    {
     "name": "stdout",
     "output_type": "stream",
     "text": [
      " 度: 100.0%:  ▓▓▓▓▓▓▓▓▓▓▓▓▓▓▓▓▓▓▓▓▓▓▓▓▓▓▓▓▓▓▓▓▓▓▓▓▓▓▓▓▓▓▓▓▓▓▓▓▓▓2022-11-17 18:05:56.907295\n",
      "\n",
      "\n",
      "第 14 次\n",
      "进度: 54.5%:  ▓▓▓▓▓▓▓▓▓▓▓▓▓▓▓▓▓▓▓▓▓▓▓▓▓▓▓"
     ]
    },
    {
     "name": "stderr",
     "output_type": "stream",
     "text": [
      "<timed exec>:162: RuntimeWarning: overflow encountered in exp\n",
      "<timed exec>:163: RuntimeWarning: overflow encountered in exp\n",
      "<timed exec>:164: RuntimeWarning: overflow encountered in exp\n"
     ]
    },
    {
     "name": "stdout",
     "output_type": "stream",
     "text": [
      "进度: 57.5%:  ▓▓▓▓▓▓▓▓▓▓▓▓▓▓▓▓▓▓▓▓▓▓▓▓▓▓▓▓"
     ]
    },
    {
     "name": "stderr",
     "output_type": "stream",
     "text": [
      "<timed exec>:161: RuntimeWarning: overflow encountered in exp\n",
      "<timed exec>:162: RuntimeWarning: overflow encountered in exp\n",
      "<timed exec>:163: RuntimeWarning: overflow encountered in exp\n",
      "<timed exec>:164: RuntimeWarning: overflow encountered in exp\n"
     ]
    },
    {
     "name": "stdout",
     "output_type": "stream",
     "text": [
      "进度: 60.6%:  ▓▓▓▓▓▓▓▓▓▓▓▓▓▓▓▓▓▓▓▓▓▓▓▓▓▓▓▓▓▓"
     ]
    },
    {
     "name": "stderr",
     "output_type": "stream",
     "text": [
      "<timed exec>:161: RuntimeWarning: overflow encountered in exp\n",
      "<timed exec>:162: RuntimeWarning: overflow encountered in exp\n",
      "<timed exec>:163: RuntimeWarning: overflow encountered in exp\n",
      "<timed exec>:164: RuntimeWarning: overflow encountered in exp\n"
     ]
    },
    {
     "name": "stdout",
     "output_type": "stream",
     "text": [
      "进度: 63.6%:  ▓▓▓▓▓▓▓▓▓▓▓▓▓▓▓▓▓▓▓▓▓▓▓▓▓▓▓▓▓▓▓"
     ]
    },
    {
     "name": "stderr",
     "output_type": "stream",
     "text": [
      "<timed exec>:161: RuntimeWarning: overflow encountered in exp\n",
      "<timed exec>:162: RuntimeWarning: overflow encountered in exp\n",
      "<timed exec>:163: RuntimeWarning: overflow encountered in exp\n",
      "<timed exec>:164: RuntimeWarning: overflow encountered in exp\n",
      "<timed exec>:161: RuntimeWarning: overflow encountered in exp\n",
      "<timed exec>:162: RuntimeWarning: overflow encountered in exp\n",
      "<timed exec>:163: RuntimeWarning: overflow encountered in exp\n",
      "<timed exec>:164: RuntimeWarning: overflow encountered in exp\n",
      "<timed exec>:161: RuntimeWarning: overflow encountered in exp\n",
      "<timed exec>:162: RuntimeWarning: overflow encountered in exp\n",
      "<timed exec>:163: RuntimeWarning: overflow encountered in exp\n",
      "<timed exec>:164: RuntimeWarning: overflow encountered in exp\n"
     ]
    },
    {
     "name": "stdout",
     "output_type": "stream",
     "text": [
      "进度: 72.7%:  ▓▓▓▓▓▓▓▓▓▓▓▓▓▓▓▓▓▓▓▓▓▓▓▓▓▓▓▓▓▓▓▓▓▓▓▓"
     ]
    },
    {
     "name": "stderr",
     "output_type": "stream",
     "text": [
      "<timed exec>:161: RuntimeWarning: overflow encountered in exp\n",
      "<timed exec>:162: RuntimeWarning: overflow encountered in exp\n",
      "<timed exec>:163: RuntimeWarning: overflow encountered in exp\n",
      "<timed exec>:164: RuntimeWarning: overflow encountered in exp\n"
     ]
    },
    {
     "name": "stdout",
     "output_type": "stream",
     "text": [
      " 度: 100.0%:  ▓▓▓▓▓▓▓▓▓▓▓▓▓▓▓▓▓▓▓▓▓▓▓▓▓▓▓▓▓▓▓▓▓▓▓▓▓▓▓▓▓▓▓▓▓▓▓▓▓▓2022-11-17 18:09:48.147477\n",
      "\n",
      "\n",
      "第 15 次\n",
      "进度: 54.5%:  ▓▓▓▓▓▓▓▓▓▓▓▓▓▓▓▓▓▓▓▓▓▓▓▓▓▓▓"
     ]
    },
    {
     "name": "stderr",
     "output_type": "stream",
     "text": [
      "<timed exec>:163: RuntimeWarning: overflow encountered in exp\n"
     ]
    },
    {
     "name": "stdout",
     "output_type": "stream",
     "text": [
      "进度: 57.5%:  ▓▓▓▓▓▓▓▓▓▓▓▓▓▓▓▓▓▓▓▓▓▓▓▓▓▓▓▓"
     ]
    },
    {
     "name": "stderr",
     "output_type": "stream",
     "text": [
      "<timed exec>:161: RuntimeWarning: overflow encountered in exp\n",
      "<timed exec>:162: RuntimeWarning: overflow encountered in exp\n",
      "<timed exec>:163: RuntimeWarning: overflow encountered in exp\n",
      "<timed exec>:164: RuntimeWarning: overflow encountered in exp\n",
      "<timed exec>:161: RuntimeWarning: overflow encountered in exp\n",
      "<timed exec>:162: RuntimeWarning: overflow encountered in exp\n",
      "<timed exec>:163: RuntimeWarning: overflow encountered in exp\n",
      "<timed exec>:164: RuntimeWarning: overflow encountered in exp\n"
     ]
    },
    {
     "name": "stdout",
     "output_type": "stream",
     "text": [
      "进度: 63.6%:  ▓▓▓▓▓▓▓▓▓▓▓▓▓▓▓▓▓▓▓▓▓▓▓▓▓▓▓▓▓▓▓"
     ]
    },
    {
     "name": "stderr",
     "output_type": "stream",
     "text": [
      "<timed exec>:161: RuntimeWarning: overflow encountered in exp\n",
      "<timed exec>:162: RuntimeWarning: overflow encountered in exp\n",
      "<timed exec>:163: RuntimeWarning: overflow encountered in exp\n",
      "<timed exec>:164: RuntimeWarning: overflow encountered in exp\n",
      "<timed exec>:161: RuntimeWarning: overflow encountered in exp\n",
      "<timed exec>:164: RuntimeWarning: overflow encountered in exp\n",
      "<timed exec>:162: RuntimeWarning: overflow encountered in exp\n",
      "<timed exec>:163: RuntimeWarning: overflow encountered in exp\n"
     ]
    },
    {
     "name": "stdout",
     "output_type": "stream",
     "text": [
      "进度: 69.6%:  ▓▓▓▓▓▓▓▓▓▓▓▓▓▓▓▓▓▓▓▓▓▓▓▓▓▓▓▓▓▓▓▓▓▓"
     ]
    },
    {
     "name": "stderr",
     "output_type": "stream",
     "text": [
      "<timed exec>:161: RuntimeWarning: overflow encountered in exp\n",
      "<timed exec>:162: RuntimeWarning: overflow encountered in exp\n",
      "<timed exec>:163: RuntimeWarning: overflow encountered in exp\n",
      "<timed exec>:164: RuntimeWarning: overflow encountered in exp\n",
      "<timed exec>:161: RuntimeWarning: overflow encountered in exp\n",
      "<timed exec>:162: RuntimeWarning: overflow encountered in exp\n",
      "<timed exec>:163: RuntimeWarning: overflow encountered in exp\n",
      "<timed exec>:164: RuntimeWarning: overflow encountered in exp\n"
     ]
    },
    {
     "name": "stdout",
     "output_type": "stream",
     "text": [
      " 度: 100.0%:  ▓▓▓▓▓▓▓▓▓▓▓▓▓▓▓▓▓▓▓▓▓▓▓▓▓▓▓▓▓▓▓▓▓▓▓▓▓▓▓▓▓▓▓▓▓▓▓▓▓▓2022-11-17 18:13:39.109707\n",
      "\n",
      "\n",
      "第 16 次\n",
      "进度: 54.5%:  ▓▓▓▓▓▓▓▓▓▓▓▓▓▓▓▓▓▓▓▓▓▓▓▓▓▓▓"
     ]
    },
    {
     "name": "stderr",
     "output_type": "stream",
     "text": [
      "<timed exec>:162: RuntimeWarning: overflow encountered in exp\n",
      "<timed exec>:164: RuntimeWarning: overflow encountered in exp\n",
      "<timed exec>:163: RuntimeWarning: overflow encountered in exp\n"
     ]
    },
    {
     "name": "stdout",
     "output_type": "stream",
     "text": [
      "进度: 57.5%:  ▓▓▓▓▓▓▓▓▓▓▓▓▓▓▓▓▓▓▓▓▓▓▓▓▓▓▓▓"
     ]
    },
    {
     "name": "stderr",
     "output_type": "stream",
     "text": [
      "<timed exec>:162: RuntimeWarning: overflow encountered in exp\n",
      "<timed exec>:163: RuntimeWarning: overflow encountered in exp\n"
     ]
    },
    {
     "name": "stdout",
     "output_type": "stream",
     "text": [
      "进度: 60.6%:  ▓▓▓▓▓▓▓▓▓▓▓▓▓▓▓▓▓▓▓▓▓▓▓▓▓▓▓▓▓▓"
     ]
    },
    {
     "name": "stderr",
     "output_type": "stream",
     "text": [
      "<timed exec>:162: RuntimeWarning: overflow encountered in exp\n",
      "<timed exec>:161: RuntimeWarning: overflow encountered in exp\n",
      "<timed exec>:163: RuntimeWarning: overflow encountered in exp\n",
      "<timed exec>:164: RuntimeWarning: overflow encountered in exp\n"
     ]
    },
    {
     "name": "stdout",
     "output_type": "stream",
     "text": [
      "进度: 63.6%:  ▓▓▓▓▓▓▓▓▓▓▓▓▓▓▓▓▓▓▓▓▓▓▓▓▓▓▓▓▓▓▓"
     ]
    },
    {
     "name": "stderr",
     "output_type": "stream",
     "text": [
      "<timed exec>:161: RuntimeWarning: overflow encountered in exp\n",
      "<timed exec>:162: RuntimeWarning: overflow encountered in exp\n",
      "<timed exec>:163: RuntimeWarning: overflow encountered in exp\n",
      "<timed exec>:164: RuntimeWarning: overflow encountered in exp\n",
      "<timed exec>:161: RuntimeWarning: overflow encountered in exp\n",
      "<timed exec>:162: RuntimeWarning: overflow encountered in exp\n",
      "<timed exec>:163: RuntimeWarning: overflow encountered in exp\n",
      "<timed exec>:164: RuntimeWarning: overflow encountered in exp\n"
     ]
    },
    {
     "name": "stdout",
     "output_type": "stream",
     "text": [
      "进度: 66.6%:  ▓▓▓▓▓▓▓▓▓▓▓▓▓▓▓▓▓▓▓▓▓▓▓▓▓▓▓▓▓▓▓▓▓"
     ]
    },
    {
     "name": "stderr",
     "output_type": "stream",
     "text": [
      "<timed exec>:161: RuntimeWarning: overflow encountered in exp\n",
      "<timed exec>:162: RuntimeWarning: overflow encountered in exp\n",
      "<timed exec>:163: RuntimeWarning: overflow encountered in exp\n",
      "<timed exec>:164: RuntimeWarning: overflow encountered in exp\n"
     ]
    },
    {
     "name": "stdout",
     "output_type": "stream",
     "text": [
      "进度: 69.6%:  ▓▓▓▓▓▓▓▓▓▓▓▓▓▓▓▓▓▓▓▓▓▓▓▓▓▓▓▓▓▓▓▓▓▓"
     ]
    },
    {
     "name": "stderr",
     "output_type": "stream",
     "text": [
      "<timed exec>:161: RuntimeWarning: overflow encountered in exp\n",
      "<timed exec>:162: RuntimeWarning: overflow encountered in exp\n",
      "<timed exec>:163: RuntimeWarning: overflow encountered in exp\n",
      "<timed exec>:164: RuntimeWarning: overflow encountered in exp\n"
     ]
    },
    {
     "name": "stdout",
     "output_type": "stream",
     "text": [
      " 度: 100.0%:  ▓▓▓▓▓▓▓▓▓▓▓▓▓▓▓▓▓▓▓▓▓▓▓▓▓▓▓▓▓▓▓▓▓▓▓▓▓▓▓▓▓▓▓▓▓▓▓▓▓▓2022-11-17 18:17:29.637354\n",
      "\n",
      "\n",
      "第 17 次\n",
      "进度: 39.3%:  ▓▓▓▓▓▓▓▓▓▓▓▓▓▓▓▓▓▓▓"
     ]
    },
    {
     "name": "stderr",
     "output_type": "stream",
     "text": [
      "<timed exec>:163: RuntimeWarning: overflow encountered in exp\n"
     ]
    },
    {
     "name": "stdout",
     "output_type": "stream",
     "text": [
      "进度: 54.5%:  ▓▓▓▓▓▓▓▓▓▓▓▓▓▓▓▓▓▓▓▓▓▓▓▓▓▓▓"
     ]
    },
    {
     "name": "stderr",
     "output_type": "stream",
     "text": [
      "<timed exec>:162: RuntimeWarning: overflow encountered in exp\n",
      "<timed exec>:163: RuntimeWarning: overflow encountered in exp\n"
     ]
    },
    {
     "name": "stdout",
     "output_type": "stream",
     "text": [
      "进度: 57.5%:  ▓▓▓▓▓▓▓▓▓▓▓▓▓▓▓▓▓▓▓▓▓▓▓▓▓▓▓▓"
     ]
    },
    {
     "name": "stderr",
     "output_type": "stream",
     "text": [
      "<timed exec>:161: RuntimeWarning: overflow encountered in exp\n",
      "<timed exec>:162: RuntimeWarning: overflow encountered in exp\n",
      "<timed exec>:163: RuntimeWarning: overflow encountered in exp\n",
      "<timed exec>:164: RuntimeWarning: overflow encountered in exp\n"
     ]
    },
    {
     "name": "stdout",
     "output_type": "stream",
     "text": [
      "进度: 63.6%:  ▓▓▓▓▓▓▓▓▓▓▓▓▓▓▓▓▓▓▓▓▓▓▓▓▓▓▓▓▓▓▓"
     ]
    },
    {
     "name": "stderr",
     "output_type": "stream",
     "text": [
      "<timed exec>:161: RuntimeWarning: overflow encountered in exp\n",
      "<timed exec>:162: RuntimeWarning: overflow encountered in exp\n",
      "<timed exec>:163: RuntimeWarning: overflow encountered in exp\n",
      "<timed exec>:164: RuntimeWarning: overflow encountered in exp\n",
      "<timed exec>:161: RuntimeWarning: overflow encountered in exp\n",
      "<timed exec>:162: RuntimeWarning: overflow encountered in exp\n",
      "<timed exec>:163: RuntimeWarning: overflow encountered in exp\n",
      "<timed exec>:164: RuntimeWarning: overflow encountered in exp\n"
     ]
    },
    {
     "name": "stdout",
     "output_type": "stream",
     "text": [
      "进度: 66.6%:  ▓▓▓▓▓▓▓▓▓▓▓▓▓▓▓▓▓▓▓▓▓▓▓▓▓▓▓▓▓▓▓▓▓"
     ]
    },
    {
     "name": "stderr",
     "output_type": "stream",
     "text": [
      "<timed exec>:161: RuntimeWarning: overflow encountered in exp\n",
      "<timed exec>:162: RuntimeWarning: overflow encountered in exp\n",
      "<timed exec>:163: RuntimeWarning: overflow encountered in exp\n",
      "<timed exec>:164: RuntimeWarning: overflow encountered in exp\n"
     ]
    },
    {
     "name": "stdout",
     "output_type": "stream",
     "text": [
      "进度: 72.7%:  ▓▓▓▓▓▓▓▓▓▓▓▓▓▓▓▓▓▓▓▓▓▓▓▓▓▓▓▓▓▓▓▓▓▓▓▓"
     ]
    },
    {
     "name": "stderr",
     "output_type": "stream",
     "text": [
      "<timed exec>:161: RuntimeWarning: overflow encountered in exp\n",
      "<timed exec>:162: RuntimeWarning: overflow encountered in exp\n",
      "<timed exec>:161: RuntimeWarning: overflow encountered in exp\n",
      "<timed exec>:163: RuntimeWarning: overflow encountered in exp\n",
      "<timed exec>:162: RuntimeWarning: overflow encountered in exp\n",
      "<timed exec>:164: RuntimeWarning: overflow encountered in exp\n",
      "<timed exec>:163: RuntimeWarning: overflow encountered in exp\n",
      "<timed exec>:164: RuntimeWarning: overflow encountered in exp\n"
     ]
    },
    {
     "name": "stdout",
     "output_type": "stream",
     "text": [
      " 度: 100.0%:  ▓▓▓▓▓▓▓▓▓▓▓▓▓▓▓▓▓▓▓▓▓▓▓▓▓▓▓▓▓▓▓▓▓▓▓▓▓▓▓▓▓▓▓▓▓▓▓▓▓▓2022-11-17 18:21:20.709174\n",
      "\n",
      "\n",
      "第 18 次\n",
      "进度: 54.5%:  ▓▓▓▓▓▓▓▓▓▓▓▓▓▓▓▓▓▓▓▓▓▓▓▓▓▓▓"
     ]
    },
    {
     "name": "stderr",
     "output_type": "stream",
     "text": [
      "<timed exec>:161: RuntimeWarning: overflow encountered in exp\n",
      "<timed exec>:162: RuntimeWarning: overflow encountered in exp\n"
     ]
    },
    {
     "name": "stdout",
     "output_type": "stream",
     "text": [
      "进度: 57.5%:  ▓▓▓▓▓▓▓▓▓▓▓▓▓▓▓▓▓▓▓▓▓▓▓▓▓▓▓▓"
     ]
    },
    {
     "name": "stderr",
     "output_type": "stream",
     "text": [
      "<timed exec>:161: RuntimeWarning: overflow encountered in exp\n",
      "<timed exec>:162: RuntimeWarning: overflow encountered in exp\n",
      "<timed exec>:163: RuntimeWarning: overflow encountered in exp\n",
      "<timed exec>:164: RuntimeWarning: overflow encountered in exp\n"
     ]
    },
    {
     "name": "stdout",
     "output_type": "stream",
     "text": [
      "进度: 60.6%:  ▓▓▓▓▓▓▓▓▓▓▓▓▓▓▓▓▓▓▓▓▓▓▓▓▓▓▓▓▓▓"
     ]
    },
    {
     "name": "stderr",
     "output_type": "stream",
     "text": [
      "<timed exec>:161: RuntimeWarning: overflow encountered in exp\n",
      "<timed exec>:162: RuntimeWarning: overflow encountered in exp\n",
      "<timed exec>:163: RuntimeWarning: overflow encountered in exp\n",
      "<timed exec>:164: RuntimeWarning: overflow encountered in exp\n",
      "<timed exec>:161: RuntimeWarning: overflow encountered in exp\n",
      "<timed exec>:162: RuntimeWarning: overflow encountered in exp\n",
      "<timed exec>:163: RuntimeWarning: overflow encountered in exp\n",
      "<timed exec>:164: RuntimeWarning: overflow encountered in exp\n"
     ]
    },
    {
     "name": "stdout",
     "output_type": "stream",
     "text": [
      "进度: 66.6%:  ▓▓▓▓▓▓▓▓▓▓▓▓▓▓▓▓▓▓▓▓▓▓▓▓▓▓▓▓▓▓▓▓▓"
     ]
    },
    {
     "name": "stderr",
     "output_type": "stream",
     "text": [
      "<timed exec>:161: RuntimeWarning: overflow encountered in exp\n",
      "<timed exec>:162: RuntimeWarning: overflow encountered in exp\n",
      "<timed exec>:163: RuntimeWarning: overflow encountered in exp\n",
      "<timed exec>:164: RuntimeWarning: overflow encountered in exp\n"
     ]
    },
    {
     "name": "stdout",
     "output_type": "stream",
     "text": [
      "进度: 69.6%:  ▓▓▓▓▓▓▓▓▓▓▓▓▓▓▓▓▓▓▓▓▓▓▓▓▓▓▓▓▓▓▓▓▓▓"
     ]
    },
    {
     "name": "stderr",
     "output_type": "stream",
     "text": [
      "<timed exec>:161: RuntimeWarning: overflow encountered in exp\n",
      "<timed exec>:162: RuntimeWarning: overflow encountered in exp\n",
      "<timed exec>:163: RuntimeWarning: overflow encountered in exp\n",
      "<timed exec>:164: RuntimeWarning: overflow encountered in exp\n"
     ]
    },
    {
     "name": "stdout",
     "output_type": "stream",
     "text": [
      "进度: 72.7%:  ▓▓▓▓▓▓▓▓▓▓▓▓▓▓▓▓▓▓▓▓▓▓▓▓▓▓▓▓▓▓▓▓▓▓▓▓"
     ]
    },
    {
     "name": "stderr",
     "output_type": "stream",
     "text": [
      "<timed exec>:161: RuntimeWarning: overflow encountered in exp\n",
      "<timed exec>:162: RuntimeWarning: overflow encountered in exp\n",
      "<timed exec>:163: RuntimeWarning: overflow encountered in exp\n",
      "<timed exec>:164: RuntimeWarning: overflow encountered in exp\n"
     ]
    },
    {
     "name": "stdout",
     "output_type": "stream",
     "text": [
      " 度: 100.0%:  ▓▓▓▓▓▓▓▓▓▓▓▓▓▓▓▓▓▓▓▓▓▓▓▓▓▓▓▓▓▓▓▓▓▓▓▓▓▓▓▓▓▓▓▓▓▓▓▓▓▓2022-11-17 18:25:12.451621\n",
      "\n",
      "\n",
      "第 19 次\n",
      "进度: 51.5%:  ▓▓▓▓▓▓▓▓▓▓▓▓▓▓▓▓▓▓▓▓▓▓▓▓▓"
     ]
    },
    {
     "name": "stderr",
     "output_type": "stream",
     "text": [
      "<timed exec>:162: RuntimeWarning: overflow encountered in exp\n"
     ]
    },
    {
     "name": "stdout",
     "output_type": "stream",
     "text": [
      "进度: 57.5%:  ▓▓▓▓▓▓▓▓▓▓▓▓▓▓▓▓▓▓▓▓▓▓▓▓▓▓▓▓"
     ]
    },
    {
     "name": "stderr",
     "output_type": "stream",
     "text": [
      "<timed exec>:163: RuntimeWarning: overflow encountered in exp\n",
      "<timed exec>:164: RuntimeWarning: overflow encountered in exp\n"
     ]
    },
    {
     "name": "stdout",
     "output_type": "stream",
     "text": [
      "进度: 60.6%:  ▓▓▓▓▓▓▓▓▓▓▓▓▓▓▓▓▓▓▓▓▓▓▓▓▓▓▓▓▓▓"
     ]
    },
    {
     "name": "stderr",
     "output_type": "stream",
     "text": [
      "<timed exec>:161: RuntimeWarning: overflow encountered in exp\n",
      "<timed exec>:163: RuntimeWarning: overflow encountered in exp\n",
      "<timed exec>:162: RuntimeWarning: overflow encountered in exp\n",
      "<timed exec>:164: RuntimeWarning: overflow encountered in exp\n",
      "<timed exec>:161: RuntimeWarning: overflow encountered in exp\n",
      "<timed exec>:162: RuntimeWarning: overflow encountered in exp\n",
      "<timed exec>:163: RuntimeWarning: overflow encountered in exp\n",
      "<timed exec>:164: RuntimeWarning: overflow encountered in exp\n"
     ]
    },
    {
     "name": "stdout",
     "output_type": "stream",
     "text": [
      "进度: 66.6%:  ▓▓▓▓▓▓▓▓▓▓▓▓▓▓▓▓▓▓▓▓▓▓▓▓▓▓▓▓▓▓▓▓▓"
     ]
    },
    {
     "name": "stderr",
     "output_type": "stream",
     "text": [
      "<timed exec>:161: RuntimeWarning: overflow encountered in exp\n",
      "<timed exec>:162: RuntimeWarning: overflow encountered in exp\n",
      "<timed exec>:163: RuntimeWarning: overflow encountered in exp\n",
      "<timed exec>:164: RuntimeWarning: overflow encountered in exp\n"
     ]
    },
    {
     "name": "stdout",
     "output_type": "stream",
     "text": [
      "进度: 69.6%:  ▓▓▓▓▓▓▓▓▓▓▓▓▓▓▓▓▓▓▓▓▓▓▓▓▓▓▓▓▓▓▓▓▓▓"
     ]
    },
    {
     "name": "stderr",
     "output_type": "stream",
     "text": [
      "<timed exec>:161: RuntimeWarning: overflow encountered in exp\n",
      "<timed exec>:162: RuntimeWarning: overflow encountered in exp\n",
      "<timed exec>:163: RuntimeWarning: overflow encountered in exp\n",
      "<timed exec>:164: RuntimeWarning: overflow encountered in exp\n"
     ]
    },
    {
     "name": "stdout",
     "output_type": "stream",
     "text": [
      "进度: 72.7%:  ▓▓▓▓▓▓▓▓▓▓▓▓▓▓▓▓▓▓▓▓▓▓▓▓▓▓▓▓▓▓▓▓▓▓▓▓"
     ]
    },
    {
     "name": "stderr",
     "output_type": "stream",
     "text": [
      "<timed exec>:161: RuntimeWarning: overflow encountered in exp\n",
      "<timed exec>:162: RuntimeWarning: overflow encountered in exp\n",
      "<timed exec>:163: RuntimeWarning: overflow encountered in exp\n",
      "<timed exec>:164: RuntimeWarning: overflow encountered in exp\n"
     ]
    },
    {
     "name": "stdout",
     "output_type": "stream",
     "text": [
      " 度: 100.0%:  ▓▓▓▓▓▓▓▓▓▓▓▓▓▓▓▓▓▓▓▓▓▓▓▓▓▓▓▓▓▓▓▓▓▓▓▓▓▓▓▓▓▓▓▓▓▓▓▓▓▓2022-11-17 18:29:03.981815\n",
      "\n",
      "\n",
      "第 20 次\n",
      "进度: 57.5%:  ▓▓▓▓▓▓▓▓▓▓▓▓▓▓▓▓▓▓▓▓▓▓▓▓▓▓▓▓"
     ]
    },
    {
     "name": "stderr",
     "output_type": "stream",
     "text": [
      "<timed exec>:164: RuntimeWarning: overflow encountered in exp\n",
      "<timed exec>:161: RuntimeWarning: overflow encountered in exp\n",
      "<timed exec>:162: RuntimeWarning: overflow encountered in exp\n"
     ]
    },
    {
     "name": "stdout",
     "output_type": "stream",
     "text": [
      "进度: 60.6%:  ▓▓▓▓▓▓▓▓▓▓▓▓▓▓▓▓▓▓▓▓▓▓▓▓▓▓▓▓▓▓"
     ]
    },
    {
     "name": "stderr",
     "output_type": "stream",
     "text": [
      "<timed exec>:164: RuntimeWarning: overflow encountered in exp\n",
      "<timed exec>:162: RuntimeWarning: overflow encountered in exp\n",
      "<timed exec>:163: RuntimeWarning: overflow encountered in exp\n",
      "<timed exec>:161: RuntimeWarning: overflow encountered in exp\n"
     ]
    },
    {
     "name": "stdout",
     "output_type": "stream",
     "text": [
      "进度: 63.6%:  ▓▓▓▓▓▓▓▓▓▓▓▓▓▓▓▓▓▓▓▓▓▓▓▓▓▓▓▓▓▓▓"
     ]
    },
    {
     "name": "stderr",
     "output_type": "stream",
     "text": [
      "<timed exec>:163: RuntimeWarning: overflow encountered in exp\n",
      "<timed exec>:164: RuntimeWarning: overflow encountered in exp\n",
      "<timed exec>:161: RuntimeWarning: overflow encountered in exp\n",
      "<timed exec>:162: RuntimeWarning: overflow encountered in exp\n",
      "<timed exec>:161: RuntimeWarning: overflow encountered in exp\n",
      "<timed exec>:162: RuntimeWarning: overflow encountered in exp\n",
      "<timed exec>:163: RuntimeWarning: overflow encountered in exp\n",
      "<timed exec>:164: RuntimeWarning: overflow encountered in exp\n"
     ]
    },
    {
     "name": "stdout",
     "output_type": "stream",
     "text": [
      "进度: 69.6%:  ▓▓▓▓▓▓▓▓▓▓▓▓▓▓▓▓▓▓▓▓▓▓▓▓▓▓▓▓▓▓▓▓▓▓"
     ]
    },
    {
     "name": "stderr",
     "output_type": "stream",
     "text": [
      "<timed exec>:161: RuntimeWarning: overflow encountered in exp\n",
      "<timed exec>:162: RuntimeWarning: overflow encountered in exp\n",
      "<timed exec>:163: RuntimeWarning: overflow encountered in exp\n",
      "<timed exec>:164: RuntimeWarning: overflow encountered in exp\n",
      "<timed exec>:161: RuntimeWarning: overflow encountered in exp\n",
      "<timed exec>:162: RuntimeWarning: overflow encountered in exp\n",
      "<timed exec>:163: RuntimeWarning: overflow encountered in exp\n",
      "<timed exec>:164: RuntimeWarning: overflow encountered in exp\n"
     ]
    },
    {
     "name": "stdout",
     "output_type": "stream",
     "text": [
      " 度: 100.0%:  ▓▓▓▓▓▓▓▓▓▓▓▓▓▓▓▓▓▓▓▓▓▓▓▓▓▓▓▓▓▓▓▓▓▓▓▓▓▓▓▓▓▓▓▓▓▓▓▓▓▓2022-11-17 18:32:54.985142\n"
     ]
    }
   ],
   "source": [
    "import pandas as pd\n",
    "import datetime\n",
    "import os\n",
    "path = 'fig8/'\n",
    "os.makedirs(path, exist_ok=True)\n",
    "records_n = []\n",
    "dfs = []\n",
    "\n",
    "print(\"开始时间\", str(datetime.datetime.now()))\n",
    "try:\n",
    "    for i in range(20):\n",
    "        np.random.seed()\n",
    "        print(\"\\n\\n第\", i + 1, \"次\")\n",
    "        time_str = str(datetime.datetime.now())\n",
    "        records = run(params, n=9)\n",
    "        np.random.seed()\n",
    "        print(str(datetime.datetime.now()))\n",
    "        records_n.append(records)\n",
    "        # _L = int(len(params) ** (0.5))\n",
    "        # cl = np.array([records[(k[0], k[1], k[1], k[1])][0] for k in params])\n",
    "        # np.savetxt(path + '%02d.csv' % i, cl.reshape([_L, _L]), delimiter=',')\n",
    "         \n",
    "        df = pd.DataFrame([list(k) + list(record) for k, record in records.items()], columns=param_names + ['x', 'y', 'z', 'p', 'ap', 'pc', 'pd', 'pm', 'pc_border', 'pd_border', 'pm_border', 'pc_inland', 'pd_inland', 'pm_inland'])\n",
    "        df = df.sort_values(by=['r', 'cost'], ignore_index=True)\n",
    "        df.to_csv(path + time_str + '.csv')\n",
    "        dfs.append(df)\n",
    "\n",
    "except Exception as e:\n",
    "    print(e)\n",
    "    pool.terminate()"
   ]
  },
  {
   "cell_type": "code",
   "execution_count": null,
   "id": "136a6143-be2f-4d56-86ff-f5eca6516801",
   "metadata": {
    "pycharm": {
     "name": "#%%\n"
    }
   },
   "outputs": [],
   "source": [
    "param_settings = [\n",
    "    {\n",
    "        'name': 'r',\n",
    "        'a': '2.5',\n",
    "        'b': '2.5',\n",
    "        'steps': ['0.08']\n",
    "    },\n",
    "    {\n",
    "        'name': 'cost',\n",
    "        'a': '0',\n",
    "        'b': '1',\n",
    "        'steps': ['0.02']\n",
    "    },\n",
    "    {\n",
    "        'name': 'reward',\n",
    "        'a': '1',\n",
    "        'b': '1',\n",
    "        'steps': ['0.12']\n",
    "    },\n",
    "    {\n",
    "        'name': 'fine',\n",
    "        'a': '1',\n",
    "        'b': '1',\n",
    "        'steps': ['0.1']\n",
    "    },\n",
    "    {\n",
    "        'name': 'population_type',\n",
    "        'a': '0',\n",
    "        'b': '1',\n",
    "        'steps': ['1']\n",
    "    },\n",
    "    {\n",
    "        'name': 'gajiucai',\n",
    "        'a': '0',\n",
    "        'b': '1',\n",
    "        'steps': ['0.02']\n",
    "    }\n",
    "]\n",
    "\n",
    "param_names = [param['name'] for param in param_settings]\n",
    "print(param_names)\n",
    "\n",
    "params = cartesian_product_params(param_settings)\n"
   ]
  },
  {
   "cell_type": "code",
   "execution_count": null,
   "id": "c3899b03-3e47-4242-ae22-ced313668a67",
   "metadata": {
    "pycharm": {
     "name": "#%%\n"
    }
   },
   "outputs": [],
   "source": [
    "import pandas as pd\n",
    "import datetime\n",
    "import os\n",
    "path = 'fig9/'\n",
    "os.makedirs(path, exist_ok=True)\n",
    "records_n = []\n",
    "dfs = []\n",
    "\n",
    "print(\"开始时间\", str(datetime.datetime.now()))\n",
    "try:\n",
    "    for i in range(1):\n",
    "        np.random.seed()\n",
    "        print(\"\\n\\n第\", i + 1, \"次\")\n",
    "        time_str = str(datetime.datetime.now())\n",
    "        records = run(params, n=9)\n",
    "        np.random.seed()\n",
    "        print(str(datetime.datetime.now()))\n",
    "        records_n.append(records)\n",
    "        # _L = int(len(params) ** (0.5))\n",
    "        # cl = np.array([records[(k[0], k[1], k[1], k[1])][0] for k in params])\n",
    "        # np.savetxt(path + '%02d.csv' % i, cl.reshape([_L, _L]), delimiter=',')\n",
    "         \n",
    "        df = pd.DataFrame([list(k) + list(record) for k, record in records.items()], columns=param_names + ['x', 'y', 'z', 'p', 'ap', 'pc', 'pd', 'pm', 'pc_border', 'pd_border', 'pm_border', 'pc_inland', 'pd_inland', 'pm_inland'])\n",
    "        df = df.sort_values(by=['r', 'cost'], ignore_index=True)\n",
    "        df.to_csv(path + time_str + '.csv')\n",
    "        dfs.append(df)\n",
    "\n",
    "except Exception as e:\n",
    "    print(e)\n",
    "    pool.terminate()"
   ]
  },
  {
   "cell_type": "code",
   "execution_count": 8,
   "id": "096dafa6-83c8-4972-bb18-22859cdca042",
   "metadata": {
    "pycharm": {
     "name": "#%%\n"
    }
   },
   "outputs": [
    {
     "name": "stdout",
     "output_type": "stream",
     "text": [
      "['r', 'cost', 'reward', 'fine', 'population_type', 'gajiucai']\n",
      "0 [{'name': 'r', 'a': '2.5', 'b': '2.5', 'steps': ['0.08']}, {'name': 'cost', 'a': '0.13', 'b': '0.73', 'steps': ['0.01875']}, {'name': 'reward', 'a': '1', 'b': '1', 'steps': ['0.12']}, {'name': 'fine', 'a': '1', 'b': '1', 'steps': ['0.1']}, {'name': 'population_type', 'a': '0', 'b': '0', 'steps': ['1']}, {'name': 'gajiucai', 'a': '0', 'b': '1', 'steps': ['1']}]\n",
      "66\n",
      " 66\n",
      "预计用时 单次秒数* 0.03666666666666667 分钟\n"
     ]
    }
   ],
   "source": [
    "param_settings = [\n",
    "    {\n",
    "        'name': 'r',\n",
    "        'a': '2.5',\n",
    "        'b': '2.5',\n",
    "        'steps': ['0.08']\n",
    "    },\n",
    "    {\n",
    "        'name': 'cost',\n",
    "        'a': '0.13',\n",
    "        'b': '0.73',\n",
    "        'steps': ['0.01875']\n",
    "    },\n",
    "    {\n",
    "        'name': 'reward',\n",
    "        'a': '1',\n",
    "        'b': '1',\n",
    "        'steps': ['0.12']\n",
    "    },\n",
    "    {\n",
    "        'name': 'fine',\n",
    "        'a': '1',\n",
    "        'b': '1',\n",
    "        'steps': ['0.1']\n",
    "    },\n",
    "    {\n",
    "        'name': 'population_type',\n",
    "        'a': '0',\n",
    "        'b': '0',\n",
    "        'steps': ['1']\n",
    "    },\n",
    "    {\n",
    "        'name': 'gajiucai',\n",
    "        'a': '0',\n",
    "        'b': '1',\n",
    "        'steps': ['1']\n",
    "    }\n",
    "]\n",
    "\n",
    "param_names = [param['name'] for param in param_settings]\n",
    "print(param_names)\n",
    "\n",
    "params = cartesian_product_params(param_settings)\n"
   ]
  },
  {
   "cell_type": "code",
   "execution_count": 9,
   "id": "564bfd89-c346-4b9c-816d-d8973507e507",
   "metadata": {
    "pycharm": {
     "name": "#%%\n"
    }
   },
   "outputs": [
    {
     "name": "stdout",
     "output_type": "stream",
     "text": [
      "开始时间 2022-11-17 18:32:55.010975\n",
      "\n",
      "\n",
      "第 1 次\n",
      " 度: 100.0%:  ▓▓▓▓▓▓▓▓▓▓▓▓▓▓▓▓▓▓▓▓▓▓▓▓▓▓▓▓▓▓▓▓▓▓▓▓▓▓▓▓▓▓▓▓▓▓▓▓▓▓2022-11-17 18:40:54.222371\n",
      "\n",
      "\n",
      "第 2 次\n",
      " 度: 100.0%:  ▓▓▓▓▓▓▓▓▓▓▓▓▓▓▓▓▓▓▓▓▓▓▓▓▓▓▓▓▓▓▓▓▓▓▓▓▓▓▓▓▓▓▓▓▓▓▓▓▓▓2022-11-17 18:48:52.119298\n",
      "\n",
      "\n",
      "第 3 次\n",
      " 度: 100.0%:  ▓▓▓▓▓▓▓▓▓▓▓▓▓▓▓▓▓▓▓▓▓▓▓▓▓▓▓▓▓▓▓▓▓▓▓▓▓▓▓▓▓▓▓▓▓▓▓▓▓▓2022-11-17 18:56:48.873672\n",
      "\n",
      "\n",
      "第 4 次\n",
      " 度: 100.0%:  ▓▓▓▓▓▓▓▓▓▓▓▓▓▓▓▓▓▓▓▓▓▓▓▓▓▓▓▓▓▓▓▓▓▓▓▓▓▓▓▓▓▓▓▓▓▓▓▓▓▓2022-11-17 19:04:45.981989\n",
      "\n",
      "\n",
      "第 5 次\n",
      " 度: 100.0%:  ▓▓▓▓▓▓▓▓▓▓▓▓▓▓▓▓▓▓▓▓▓▓▓▓▓▓▓▓▓▓▓▓▓▓▓▓▓▓▓▓▓▓▓▓▓▓▓▓▓▓2022-11-17 19:12:43.289239\n",
      "\n",
      "\n",
      "第 6 次\n",
      " 度: 100.0%:  ▓▓▓▓▓▓▓▓▓▓▓▓▓▓▓▓▓▓▓▓▓▓▓▓▓▓▓▓▓▓▓▓▓▓▓▓▓▓▓▓▓▓▓▓▓▓▓▓▓▓2022-11-17 19:20:39.726497\n",
      "\n",
      "\n",
      "第 7 次\n",
      " 度: 100.0%:  ▓▓▓▓▓▓▓▓▓▓▓▓▓▓▓▓▓▓▓▓▓▓▓▓▓▓▓▓▓▓▓▓▓▓▓▓▓▓▓▓▓▓▓▓▓▓▓▓▓▓2022-11-17 19:28:36.862106\n",
      "\n",
      "\n",
      "第 8 次\n",
      " 度: 100.0%:  ▓▓▓▓▓▓▓▓▓▓▓▓▓▓▓▓▓▓▓▓▓▓▓▓▓▓▓▓▓▓▓▓▓▓▓▓▓▓▓▓▓▓▓▓▓▓▓▓▓▓2022-11-17 19:36:34.554991\n",
      "\n",
      "\n",
      "第 9 次\n",
      " 度: 100.0%:  ▓▓▓▓▓▓▓▓▓▓▓▓▓▓▓▓▓▓▓▓▓▓▓▓▓▓▓▓▓▓▓▓▓▓▓▓▓▓▓▓▓▓▓▓▓▓▓▓▓▓2022-11-17 19:44:35.962386\n",
      "\n",
      "\n",
      "第 10 次\n",
      " 度: 100.0%:  ▓▓▓▓▓▓▓▓▓▓▓▓▓▓▓▓▓▓▓▓▓▓▓▓▓▓▓▓▓▓▓▓▓▓▓▓▓▓▓▓▓▓▓▓▓▓▓▓▓▓2022-11-17 19:52:29.843358\n",
      "\n",
      "\n",
      "第 11 次\n",
      " 度: 100.0%:  ▓▓▓▓▓▓▓▓▓▓▓▓▓▓▓▓▓▓▓▓▓▓▓▓▓▓▓▓▓▓▓▓▓▓▓▓▓▓▓▓▓▓▓▓▓▓▓▓▓▓2022-11-17 20:00:24.169481\n",
      "\n",
      "\n",
      "第 12 次\n",
      " 度: 100.0%:  ▓▓▓▓▓▓▓▓▓▓▓▓▓▓▓▓▓▓▓▓▓▓▓▓▓▓▓▓▓▓▓▓▓▓▓▓▓▓▓▓▓▓▓▓▓▓▓▓▓▓2022-11-17 20:08:19.745414\n",
      "\n",
      "\n",
      "第 13 次\n",
      " 度: 100.0%:  ▓▓▓▓▓▓▓▓▓▓▓▓▓▓▓▓▓▓▓▓▓▓▓▓▓▓▓▓▓▓▓▓▓▓▓▓▓▓▓▓▓▓▓▓▓▓▓▓▓▓2022-11-17 20:16:15.333689\n",
      "\n",
      "\n",
      "第 14 次\n",
      " 度: 100.0%:  ▓▓▓▓▓▓▓▓▓▓▓▓▓▓▓▓▓▓▓▓▓▓▓▓▓▓▓▓▓▓▓▓▓▓▓▓▓▓▓▓▓▓▓▓▓▓▓▓▓▓2022-11-17 20:24:08.806246\n",
      "\n",
      "\n",
      "第 15 次\n",
      " 度: 100.0%:  ▓▓▓▓▓▓▓▓▓▓▓▓▓▓▓▓▓▓▓▓▓▓▓▓▓▓▓▓▓▓▓▓▓▓▓▓▓▓▓▓▓▓▓▓▓▓▓▓▓▓2022-11-17 20:32:03.390695\n",
      "\n",
      "\n",
      "第 16 次\n",
      " 度: 100.0%:  ▓▓▓▓▓▓▓▓▓▓▓▓▓▓▓▓▓▓▓▓▓▓▓▓▓▓▓▓▓▓▓▓▓▓▓▓▓▓▓▓▓▓▓▓▓▓▓▓▓▓2022-11-17 20:39:57.069654\n",
      "\n",
      "\n",
      "第 17 次\n",
      " 度: 100.0%:  ▓▓▓▓▓▓▓▓▓▓▓▓▓▓▓▓▓▓▓▓▓▓▓▓▓▓▓▓▓▓▓▓▓▓▓▓▓▓▓▓▓▓▓▓▓▓▓▓▓▓2022-11-17 20:47:52.271406\n",
      "\n",
      "\n",
      "第 18 次\n",
      " 度: 100.0%:  ▓▓▓▓▓▓▓▓▓▓▓▓▓▓▓▓▓▓▓▓▓▓▓▓▓▓▓▓▓▓▓▓▓▓▓▓▓▓▓▓▓▓▓▓▓▓▓▓▓▓2022-11-17 20:55:46.089155\n",
      "\n",
      "\n",
      "第 19 次\n",
      " 度: 100.0%:  ▓▓▓▓▓▓▓▓▓▓▓▓▓▓▓▓▓▓▓▓▓▓▓▓▓▓▓▓▓▓▓▓▓▓▓▓▓▓▓▓▓▓▓▓▓▓▓▓▓▓2022-11-17 21:03:40.253353\n",
      "\n",
      "\n",
      "第 20 次\n",
      " 度: 100.0%:  ▓▓▓▓▓▓▓▓▓▓▓▓▓▓▓▓▓▓▓▓▓▓▓▓▓▓▓▓▓▓▓▓▓▓▓▓▓▓▓▓▓▓▓▓▓▓▓▓▓▓2022-11-17 21:11:35.163545\n"
     ]
    }
   ],
   "source": [
    "import pandas as pd\n",
    "import datetime\n",
    "import os\n",
    "path = 'fig10/'\n",
    "os.makedirs(path, exist_ok=True)\n",
    "records_n = []\n",
    "dfs = []\n",
    "\n",
    "print(\"开始时间\", str(datetime.datetime.now()))\n",
    "try:\n",
    "    for i in range(20):\n",
    "        np.random.seed()\n",
    "        print(\"\\n\\n第\", i + 1, \"次\")\n",
    "        time_str = str(datetime.datetime.now())\n",
    "        records = run(params, n=9)\n",
    "        np.random.seed()\n",
    "        print(str(datetime.datetime.now()))\n",
    "        records_n.append(records)\n",
    "        # _L = int(len(params) ** (0.5))\n",
    "        # cl = np.array([records[(k[0], k[1], k[1], k[1])][0] for k in params])\n",
    "        # np.savetxt(path + '%02d.csv' % i, cl.reshape([_L, _L]), delimiter=',')\n",
    "         \n",
    "        df = pd.DataFrame([list(k) + list(record) for k, record in records.items()], columns=param_names + ['x', 'y', 'z', 'p', 'ap', 'pc', 'pd', 'pm', 'pc_border', 'pd_border', 'pm_border', 'pc_inland', 'pd_inland', 'pm_inland'])\n",
    "        df = df.sort_values(by=['r', 'cost'], ignore_index=True)\n",
    "        df.to_csv(path + time_str + '.csv')\n",
    "        dfs.append(df)\n",
    "\n",
    "except Exception as e:\n",
    "    print(e)\n",
    "    pool.terminate()"
   ]
  },
  {
   "cell_type": "code",
   "execution_count": 11,
   "id": "191e8bd8-4a4e-4847-93e4-324fc1e05098",
   "metadata": {
    "pycharm": {
     "name": "#%%\n"
    }
   },
   "outputs": [
    {
     "data": {
      "text/html": [
       "<div>\n",
       "<style scoped>\n",
       "    .dataframe tbody tr th:only-of-type {\n",
       "        vertical-align: middle;\n",
       "    }\n",
       "\n",
       "    .dataframe tbody tr th {\n",
       "        vertical-align: top;\n",
       "    }\n",
       "\n",
       "    .dataframe thead th {\n",
       "        text-align: right;\n",
       "    }\n",
       "</style>\n",
       "<table border=\"1\" class=\"dataframe\">\n",
       "  <thead>\n",
       "    <tr style=\"text-align: right;\">\n",
       "      <th></th>\n",
       "      <th>r</th>\n",
       "      <th>cost</th>\n",
       "      <th>reward</th>\n",
       "      <th>fine</th>\n",
       "      <th>population_type</th>\n",
       "      <th>gajiucai</th>\n",
       "      <th>x</th>\n",
       "      <th>y</th>\n",
       "      <th>z</th>\n",
       "      <th>p</th>\n",
       "      <th>...</th>\n",
       "      <th>pc</th>\n",
       "      <th>pd</th>\n",
       "      <th>pm</th>\n",
       "      <th>pc_border</th>\n",
       "      <th>pd_border</th>\n",
       "      <th>pm_border</th>\n",
       "      <th>pc_inland</th>\n",
       "      <th>pd_inland</th>\n",
       "      <th>pm_inland</th>\n",
       "      <th>fine_f</th>\n",
       "    </tr>\n",
       "  </thead>\n",
       "  <tbody>\n",
       "    <tr>\n",
       "      <th>252</th>\n",
       "      <td>2.0</td>\n",
       "      <td>0.02</td>\n",
       "      <td>0.02</td>\n",
       "      <td>0.06</td>\n",
       "      <td>0.0</td>\n",
       "      <td>1.0</td>\n",
       "      <td>0.000000</td>\n",
       "      <td>0.515025</td>\n",
       "      <td>0.484975</td>\n",
       "      <td>0.00</td>\n",
       "      <td>...</td>\n",
       "      <td>NaN</td>\n",
       "      <td>0.000000</td>\n",
       "      <td>0.000000</td>\n",
       "      <td>NaN</td>\n",
       "      <td>0.000000</td>\n",
       "      <td>0.000000</td>\n",
       "      <td>NaN</td>\n",
       "      <td>0.000000</td>\n",
       "      <td>0.000000</td>\n",
       "      <td>3.0</td>\n",
       "    </tr>\n",
       "    <tr>\n",
       "      <th>256</th>\n",
       "      <td>2.0</td>\n",
       "      <td>0.04</td>\n",
       "      <td>0.04</td>\n",
       "      <td>0.12</td>\n",
       "      <td>0.0</td>\n",
       "      <td>1.0</td>\n",
       "      <td>0.000000</td>\n",
       "      <td>0.486975</td>\n",
       "      <td>0.513025</td>\n",
       "      <td>0.00</td>\n",
       "      <td>...</td>\n",
       "      <td>NaN</td>\n",
       "      <td>0.000000</td>\n",
       "      <td>0.000000</td>\n",
       "      <td>NaN</td>\n",
       "      <td>0.000000</td>\n",
       "      <td>0.000000</td>\n",
       "      <td>NaN</td>\n",
       "      <td>0.000000</td>\n",
       "      <td>0.000000</td>\n",
       "      <td>3.0</td>\n",
       "    </tr>\n",
       "    <tr>\n",
       "      <th>262</th>\n",
       "      <td>2.0</td>\n",
       "      <td>0.06</td>\n",
       "      <td>0.06</td>\n",
       "      <td>0.18</td>\n",
       "      <td>0.0</td>\n",
       "      <td>1.0</td>\n",
       "      <td>0.000000</td>\n",
       "      <td>0.407975</td>\n",
       "      <td>0.592025</td>\n",
       "      <td>0.00</td>\n",
       "      <td>...</td>\n",
       "      <td>NaN</td>\n",
       "      <td>0.000000</td>\n",
       "      <td>0.000000</td>\n",
       "      <td>NaN</td>\n",
       "      <td>0.000000</td>\n",
       "      <td>0.000000</td>\n",
       "      <td>NaN</td>\n",
       "      <td>0.000000</td>\n",
       "      <td>0.000000</td>\n",
       "      <td>3.0</td>\n",
       "    </tr>\n",
       "    <tr>\n",
       "      <th>267</th>\n",
       "      <td>2.0</td>\n",
       "      <td>0.08</td>\n",
       "      <td>0.08</td>\n",
       "      <td>0.24</td>\n",
       "      <td>0.0</td>\n",
       "      <td>1.0</td>\n",
       "      <td>0.000000</td>\n",
       "      <td>0.378400</td>\n",
       "      <td>0.621600</td>\n",
       "      <td>0.00</td>\n",
       "      <td>...</td>\n",
       "      <td>NaN</td>\n",
       "      <td>0.000000</td>\n",
       "      <td>0.000000</td>\n",
       "      <td>NaN</td>\n",
       "      <td>0.000000</td>\n",
       "      <td>0.000000</td>\n",
       "      <td>NaN</td>\n",
       "      <td>0.000000</td>\n",
       "      <td>0.000000</td>\n",
       "      <td>3.0</td>\n",
       "    </tr>\n",
       "    <tr>\n",
       "      <th>277</th>\n",
       "      <td>2.0</td>\n",
       "      <td>0.12</td>\n",
       "      <td>0.12</td>\n",
       "      <td>0.36</td>\n",
       "      <td>0.0</td>\n",
       "      <td>1.0</td>\n",
       "      <td>0.000000</td>\n",
       "      <td>0.336125</td>\n",
       "      <td>0.663875</td>\n",
       "      <td>0.00</td>\n",
       "      <td>...</td>\n",
       "      <td>NaN</td>\n",
       "      <td>0.000000</td>\n",
       "      <td>0.000000</td>\n",
       "      <td>NaN</td>\n",
       "      <td>0.000000</td>\n",
       "      <td>0.000000</td>\n",
       "      <td>NaN</td>\n",
       "      <td>0.000000</td>\n",
       "      <td>0.000000</td>\n",
       "      <td>3.0</td>\n",
       "    </tr>\n",
       "    <tr>\n",
       "      <th>282</th>\n",
       "      <td>2.0</td>\n",
       "      <td>0.14</td>\n",
       "      <td>0.14</td>\n",
       "      <td>0.42</td>\n",
       "      <td>0.0</td>\n",
       "      <td>1.0</td>\n",
       "      <td>0.000000</td>\n",
       "      <td>0.363375</td>\n",
       "      <td>0.636625</td>\n",
       "      <td>0.00</td>\n",
       "      <td>...</td>\n",
       "      <td>NaN</td>\n",
       "      <td>0.000000</td>\n",
       "      <td>0.000000</td>\n",
       "      <td>NaN</td>\n",
       "      <td>0.000000</td>\n",
       "      <td>0.000000</td>\n",
       "      <td>NaN</td>\n",
       "      <td>0.000000</td>\n",
       "      <td>0.000000</td>\n",
       "      <td>3.0</td>\n",
       "    </tr>\n",
       "    <tr>\n",
       "      <th>287</th>\n",
       "      <td>2.0</td>\n",
       "      <td>0.16</td>\n",
       "      <td>0.16</td>\n",
       "      <td>0.48</td>\n",
       "      <td>0.0</td>\n",
       "      <td>1.0</td>\n",
       "      <td>0.000000</td>\n",
       "      <td>0.346325</td>\n",
       "      <td>0.653675</td>\n",
       "      <td>0.00</td>\n",
       "      <td>...</td>\n",
       "      <td>NaN</td>\n",
       "      <td>0.000000</td>\n",
       "      <td>0.000000</td>\n",
       "      <td>NaN</td>\n",
       "      <td>0.000000</td>\n",
       "      <td>0.000000</td>\n",
       "      <td>NaN</td>\n",
       "      <td>0.000000</td>\n",
       "      <td>0.000000</td>\n",
       "      <td>3.0</td>\n",
       "    </tr>\n",
       "    <tr>\n",
       "      <th>301</th>\n",
       "      <td>2.0</td>\n",
       "      <td>0.22</td>\n",
       "      <td>0.22</td>\n",
       "      <td>0.66</td>\n",
       "      <td>0.0</td>\n",
       "      <td>1.0</td>\n",
       "      <td>0.156925</td>\n",
       "      <td>0.000000</td>\n",
       "      <td>0.843075</td>\n",
       "      <td>31385.00</td>\n",
       "      <td>...</td>\n",
       "      <td>1.212410</td>\n",
       "      <td>NaN</td>\n",
       "      <td>0.705000</td>\n",
       "      <td>1.200695</td>\n",
       "      <td>NaN</td>\n",
       "      <td>0.536897</td>\n",
       "      <td>1.620924</td>\n",
       "      <td>NaN</td>\n",
       "      <td>0.972532</td>\n",
       "      <td>3.0</td>\n",
       "    </tr>\n",
       "    <tr>\n",
       "      <th>307</th>\n",
       "      <td>2.0</td>\n",
       "      <td>0.24</td>\n",
       "      <td>0.24</td>\n",
       "      <td>0.72</td>\n",
       "      <td>0.0</td>\n",
       "      <td>1.0</td>\n",
       "      <td>0.224125</td>\n",
       "      <td>0.000000</td>\n",
       "      <td>0.775875</td>\n",
       "      <td>44825.00</td>\n",
       "      <td>...</td>\n",
       "      <td>1.476118</td>\n",
       "      <td>NaN</td>\n",
       "      <td>1.017935</td>\n",
       "      <td>1.449123</td>\n",
       "      <td>NaN</td>\n",
       "      <td>0.946909</td>\n",
       "      <td>1.919961</td>\n",
       "      <td>NaN</td>\n",
       "      <td>1.102424</td>\n",
       "      <td>3.0</td>\n",
       "    </tr>\n",
       "    <tr>\n",
       "      <th>312</th>\n",
       "      <td>2.0</td>\n",
       "      <td>0.26</td>\n",
       "      <td>0.26</td>\n",
       "      <td>0.78</td>\n",
       "      <td>0.0</td>\n",
       "      <td>1.0</td>\n",
       "      <td>0.277975</td>\n",
       "      <td>0.000000</td>\n",
       "      <td>0.722025</td>\n",
       "      <td>55595.00</td>\n",
       "      <td>...</td>\n",
       "      <td>1.729148</td>\n",
       "      <td>NaN</td>\n",
       "      <td>1.259257</td>\n",
       "      <td>1.689460</td>\n",
       "      <td>NaN</td>\n",
       "      <td>1.327996</td>\n",
       "      <td>2.149144</td>\n",
       "      <td>NaN</td>\n",
       "      <td>1.182236</td>\n",
       "      <td>3.0</td>\n",
       "    </tr>\n",
       "    <tr>\n",
       "      <th>318</th>\n",
       "      <td>2.0</td>\n",
       "      <td>0.28</td>\n",
       "      <td>0.28</td>\n",
       "      <td>0.84</td>\n",
       "      <td>0.0</td>\n",
       "      <td>1.0</td>\n",
       "      <td>0.323000</td>\n",
       "      <td>0.000000</td>\n",
       "      <td>0.677000</td>\n",
       "      <td>64600.00</td>\n",
       "      <td>...</td>\n",
       "      <td>1.958251</td>\n",
       "      <td>NaN</td>\n",
       "      <td>1.451233</td>\n",
       "      <td>1.901021</td>\n",
       "      <td>NaN</td>\n",
       "      <td>1.631547</td>\n",
       "      <td>2.381466</td>\n",
       "      <td>NaN</td>\n",
       "      <td>1.247340</td>\n",
       "      <td>3.0</td>\n",
       "    </tr>\n",
       "    <tr>\n",
       "      <th>322</th>\n",
       "      <td>2.0</td>\n",
       "      <td>0.30</td>\n",
       "      <td>0.30</td>\n",
       "      <td>0.90</td>\n",
       "      <td>0.0</td>\n",
       "      <td>1.0</td>\n",
       "      <td>0.362600</td>\n",
       "      <td>0.000000</td>\n",
       "      <td>0.637400</td>\n",
       "      <td>72520.00</td>\n",
       "      <td>...</td>\n",
       "      <td>2.166209</td>\n",
       "      <td>NaN</td>\n",
       "      <td>1.612069</td>\n",
       "      <td>2.090332</td>\n",
       "      <td>NaN</td>\n",
       "      <td>1.870454</td>\n",
       "      <td>2.568611</td>\n",
       "      <td>NaN</td>\n",
       "      <td>1.289623</td>\n",
       "      <td>3.0</td>\n",
       "    </tr>\n",
       "    <tr>\n",
       "      <th>327</th>\n",
       "      <td>2.0</td>\n",
       "      <td>0.32</td>\n",
       "      <td>0.32</td>\n",
       "      <td>0.96</td>\n",
       "      <td>0.0</td>\n",
       "      <td>1.0</td>\n",
       "      <td>0.414225</td>\n",
       "      <td>0.000000</td>\n",
       "      <td>0.585775</td>\n",
       "      <td>82845.00</td>\n",
       "      <td>...</td>\n",
       "      <td>2.393928</td>\n",
       "      <td>NaN</td>\n",
       "      <td>1.842858</td>\n",
       "      <td>2.295902</td>\n",
       "      <td>NaN</td>\n",
       "      <td>2.155945</td>\n",
       "      <td>2.748831</td>\n",
       "      <td>NaN</td>\n",
       "      <td>1.377513</td>\n",
       "      <td>3.0</td>\n",
       "    </tr>\n",
       "    <tr>\n",
       "      <th>332</th>\n",
       "      <td>2.0</td>\n",
       "      <td>0.34</td>\n",
       "      <td>0.34</td>\n",
       "      <td>1.02</td>\n",
       "      <td>0.0</td>\n",
       "      <td>1.0</td>\n",
       "      <td>0.459175</td>\n",
       "      <td>0.000000</td>\n",
       "      <td>0.540825</td>\n",
       "      <td>91835.00</td>\n",
       "      <td>...</td>\n",
       "      <td>2.620063</td>\n",
       "      <td>NaN</td>\n",
       "      <td>2.020631</td>\n",
       "      <td>2.511744</td>\n",
       "      <td>NaN</td>\n",
       "      <td>2.354977</td>\n",
       "      <td>2.922203</td>\n",
       "      <td>NaN</td>\n",
       "      <td>1.436745</td>\n",
       "      <td>3.0</td>\n",
       "    </tr>\n",
       "    <tr>\n",
       "      <th>353</th>\n",
       "      <td>2.0</td>\n",
       "      <td>0.42</td>\n",
       "      <td>0.42</td>\n",
       "      <td>1.26</td>\n",
       "      <td>0.0</td>\n",
       "      <td>1.0</td>\n",
       "      <td>0.638350</td>\n",
       "      <td>0.000000</td>\n",
       "      <td>0.361650</td>\n",
       "      <td>127670.00</td>\n",
       "      <td>...</td>\n",
       "      <td>3.464584</td>\n",
       "      <td>NaN</td>\n",
       "      <td>2.710169</td>\n",
       "      <td>3.455850</td>\n",
       "      <td>NaN</td>\n",
       "      <td>2.979445</td>\n",
       "      <td>3.478543</td>\n",
       "      <td>NaN</td>\n",
       "      <td>1.634829</td>\n",
       "      <td>3.0</td>\n",
       "    </tr>\n",
       "    <tr>\n",
       "      <th>357</th>\n",
       "      <td>2.0</td>\n",
       "      <td>0.44</td>\n",
       "      <td>0.44</td>\n",
       "      <td>1.32</td>\n",
       "      <td>0.0</td>\n",
       "      <td>1.0</td>\n",
       "      <td>0.693300</td>\n",
       "      <td>0.000000</td>\n",
       "      <td>0.306700</td>\n",
       "      <td>138660.00</td>\n",
       "      <td>...</td>\n",
       "      <td>3.712816</td>\n",
       "      <td>NaN</td>\n",
       "      <td>2.909700</td>\n",
       "      <td>3.774557</td>\n",
       "      <td>NaN</td>\n",
       "      <td>3.136525</td>\n",
       "      <td>3.613937</td>\n",
       "      <td>NaN</td>\n",
       "      <td>1.726143</td>\n",
       "      <td>3.0</td>\n",
       "    </tr>\n",
       "    <tr>\n",
       "      <th>361</th>\n",
       "      <td>2.0</td>\n",
       "      <td>0.46</td>\n",
       "      <td>0.46</td>\n",
       "      <td>1.38</td>\n",
       "      <td>0.0</td>\n",
       "      <td>1.0</td>\n",
       "      <td>0.748575</td>\n",
       "      <td>0.000000</td>\n",
       "      <td>0.251425</td>\n",
       "      <td>149715.00</td>\n",
       "      <td>...</td>\n",
       "      <td>3.962455</td>\n",
       "      <td>NaN</td>\n",
       "      <td>3.089112</td>\n",
       "      <td>4.087511</td>\n",
       "      <td>NaN</td>\n",
       "      <td>3.276785</td>\n",
       "      <td>3.741435</td>\n",
       "      <td>NaN</td>\n",
       "      <td>1.822681</td>\n",
       "      <td>3.0</td>\n",
       "    </tr>\n",
       "    <tr>\n",
       "      <th>367</th>\n",
       "      <td>2.0</td>\n",
       "      <td>0.48</td>\n",
       "      <td>0.48</td>\n",
       "      <td>1.44</td>\n",
       "      <td>0.0</td>\n",
       "      <td>1.0</td>\n",
       "      <td>0.813100</td>\n",
       "      <td>0.000000</td>\n",
       "      <td>0.186900</td>\n",
       "      <td>162620.00</td>\n",
       "      <td>...</td>\n",
       "      <td>4.240536</td>\n",
       "      <td>NaN</td>\n",
       "      <td>3.304013</td>\n",
       "      <td>4.414310</td>\n",
       "      <td>NaN</td>\n",
       "      <td>3.452492</td>\n",
       "      <td>3.854613</td>\n",
       "      <td>NaN</td>\n",
       "      <td>1.923526</td>\n",
       "      <td>3.0</td>\n",
       "    </tr>\n",
       "    <tr>\n",
       "      <th>373</th>\n",
       "      <td>2.0</td>\n",
       "      <td>0.50</td>\n",
       "      <td>0.50</td>\n",
       "      <td>1.50</td>\n",
       "      <td>0.0</td>\n",
       "      <td>1.0</td>\n",
       "      <td>0.886375</td>\n",
       "      <td>0.000000</td>\n",
       "      <td>0.113625</td>\n",
       "      <td>177275.00</td>\n",
       "      <td>...</td>\n",
       "      <td>4.560838</td>\n",
       "      <td>NaN</td>\n",
       "      <td>3.425853</td>\n",
       "      <td>4.712530</td>\n",
       "      <td>NaN</td>\n",
       "      <td>3.560316</td>\n",
       "      <td>3.973151</td>\n",
       "      <td>NaN</td>\n",
       "      <td>1.917473</td>\n",
       "      <td>3.0</td>\n",
       "    </tr>\n",
       "    <tr>\n",
       "      <th>377</th>\n",
       "      <td>2.0</td>\n",
       "      <td>0.52</td>\n",
       "      <td>0.52</td>\n",
       "      <td>1.56</td>\n",
       "      <td>0.0</td>\n",
       "      <td>1.0</td>\n",
       "      <td>0.621700</td>\n",
       "      <td>0.228700</td>\n",
       "      <td>0.149600</td>\n",
       "      <td>114116.80</td>\n",
       "      <td>...</td>\n",
       "      <td>4.013785</td>\n",
       "      <td>0.362243</td>\n",
       "      <td>1.836263</td>\n",
       "      <td>4.166208</td>\n",
       "      <td>0.283297</td>\n",
       "      <td>2.047397</td>\n",
       "      <td>3.558470</td>\n",
       "      <td>0.594994</td>\n",
       "      <td>0.709025</td>\n",
       "      <td>3.0</td>\n",
       "    </tr>\n",
       "    <tr>\n",
       "      <th>382</th>\n",
       "      <td>2.0</td>\n",
       "      <td>0.54</td>\n",
       "      <td>0.54</td>\n",
       "      <td>1.62</td>\n",
       "      <td>0.0</td>\n",
       "      <td>1.0</td>\n",
       "      <td>0.478950</td>\n",
       "      <td>0.362575</td>\n",
       "      <td>0.158475</td>\n",
       "      <td>82242.48</td>\n",
       "      <td>...</td>\n",
       "      <td>3.709786</td>\n",
       "      <td>0.249118</td>\n",
       "      <td>1.192213</td>\n",
       "      <td>3.833194</td>\n",
       "      <td>0.184373</td>\n",
       "      <td>1.375686</td>\n",
       "      <td>3.365119</td>\n",
       "      <td>0.455056</td>\n",
       "      <td>0.433960</td>\n",
       "      <td>3.0</td>\n",
       "    </tr>\n",
       "    <tr>\n",
       "      <th>387</th>\n",
       "      <td>2.0</td>\n",
       "      <td>0.56</td>\n",
       "      <td>0.56</td>\n",
       "      <td>1.68</td>\n",
       "      <td>0.0</td>\n",
       "      <td>1.0</td>\n",
       "      <td>0.448275</td>\n",
       "      <td>0.400350</td>\n",
       "      <td>0.151375</td>\n",
       "      <td>75520.60</td>\n",
       "      <td>...</td>\n",
       "      <td>3.708677</td>\n",
       "      <td>0.168877</td>\n",
       "      <td>1.043092</td>\n",
       "      <td>3.829809</td>\n",
       "      <td>0.122795</td>\n",
       "      <td>1.214424</td>\n",
       "      <td>3.354633</td>\n",
       "      <td>0.331493</td>\n",
       "      <td>0.343375</td>\n",
       "      <td>3.0</td>\n",
       "    </tr>\n",
       "    <tr>\n",
       "      <th>392</th>\n",
       "      <td>2.0</td>\n",
       "      <td>0.58</td>\n",
       "      <td>0.58</td>\n",
       "      <td>1.74</td>\n",
       "      <td>0.0</td>\n",
       "      <td>1.0</td>\n",
       "      <td>0.360575</td>\n",
       "      <td>0.505200</td>\n",
       "      <td>0.134225</td>\n",
       "      <td>57944.44</td>\n",
       "      <td>...</td>\n",
       "      <td>3.438670</td>\n",
       "      <td>0.205111</td>\n",
       "      <td>0.782943</td>\n",
       "      <td>3.533872</td>\n",
       "      <td>0.167047</td>\n",
       "      <td>0.906126</td>\n",
       "      <td>3.162063</td>\n",
       "      <td>0.350539</td>\n",
       "      <td>0.257725</td>\n",
       "      <td>3.0</td>\n",
       "    </tr>\n",
       "    <tr>\n",
       "      <th>398</th>\n",
       "      <td>2.0</td>\n",
       "      <td>0.60</td>\n",
       "      <td>0.60</td>\n",
       "      <td>1.80</td>\n",
       "      <td>0.0</td>\n",
       "      <td>1.0</td>\n",
       "      <td>0.324225</td>\n",
       "      <td>0.537625</td>\n",
       "      <td>0.138150</td>\n",
       "      <td>49725.00</td>\n",
       "      <td>...</td>\n",
       "      <td>3.370422</td>\n",
       "      <td>0.114355</td>\n",
       "      <td>0.643286</td>\n",
       "      <td>3.450122</td>\n",
       "      <td>0.074648</td>\n",
       "      <td>0.761162</td>\n",
       "      <td>3.155305</td>\n",
       "      <td>0.271990</td>\n",
       "      <td>0.161914</td>\n",
       "      <td>3.0</td>\n",
       "    </tr>\n",
       "    <tr>\n",
       "      <th>402</th>\n",
       "      <td>2.0</td>\n",
       "      <td>0.62</td>\n",
       "      <td>0.62</td>\n",
       "      <td>1.86</td>\n",
       "      <td>0.0</td>\n",
       "      <td>1.0</td>\n",
       "      <td>0.311475</td>\n",
       "      <td>0.556800</td>\n",
       "      <td>0.131725</td>\n",
       "      <td>46217.16</td>\n",
       "      <td>...</td>\n",
       "      <td>3.277192</td>\n",
       "      <td>0.110418</td>\n",
       "      <td>0.555589</td>\n",
       "      <td>3.339716</td>\n",
       "      <td>0.077897</td>\n",
       "      <td>0.646204</td>\n",
       "      <td>3.100398</td>\n",
       "      <td>0.240622</td>\n",
       "      <td>0.148342</td>\n",
       "      <td>3.0</td>\n",
       "    </tr>\n",
       "    <tr>\n",
       "      <th>407</th>\n",
       "      <td>2.0</td>\n",
       "      <td>0.64</td>\n",
       "      <td>0.64</td>\n",
       "      <td>1.92</td>\n",
       "      <td>0.0</td>\n",
       "      <td>1.0</td>\n",
       "      <td>0.243900</td>\n",
       "      <td>0.633775</td>\n",
       "      <td>0.122325</td>\n",
       "      <td>33379.04</td>\n",
       "      <td>...</td>\n",
       "      <td>3.160394</td>\n",
       "      <td>0.018006</td>\n",
       "      <td>0.427092</td>\n",
       "      <td>3.197906</td>\n",
       "      <td>0.010390</td>\n",
       "      <td>0.502013</td>\n",
       "      <td>3.058807</td>\n",
       "      <td>0.054434</td>\n",
       "      <td>0.054408</td>\n",
       "      <td>3.0</td>\n",
       "    </tr>\n",
       "    <tr>\n",
       "      <th>412</th>\n",
       "      <td>2.0</td>\n",
       "      <td>0.66</td>\n",
       "      <td>0.66</td>\n",
       "      <td>1.98</td>\n",
       "      <td>0.0</td>\n",
       "      <td>1.0</td>\n",
       "      <td>0.229400</td>\n",
       "      <td>0.653100</td>\n",
       "      <td>0.117500</td>\n",
       "      <td>30259.12</td>\n",
       "      <td>...</td>\n",
       "      <td>3.007480</td>\n",
       "      <td>0.036087</td>\n",
       "      <td>0.365902</td>\n",
       "      <td>3.012308</td>\n",
       "      <td>0.027126</td>\n",
       "      <td>0.433109</td>\n",
       "      <td>2.995661</td>\n",
       "      <td>0.078105</td>\n",
       "      <td>0.015291</td>\n",
       "      <td>3.0</td>\n",
       "    </tr>\n",
       "    <tr>\n",
       "      <th>417</th>\n",
       "      <td>2.0</td>\n",
       "      <td>0.68</td>\n",
       "      <td>0.68</td>\n",
       "      <td>2.04</td>\n",
       "      <td>0.0</td>\n",
       "      <td>1.0</td>\n",
       "      <td>0.195925</td>\n",
       "      <td>0.692400</td>\n",
       "      <td>0.111675</td>\n",
       "      <td>24233.16</td>\n",
       "      <td>...</td>\n",
       "      <td>2.879878</td>\n",
       "      <td>0.020859</td>\n",
       "      <td>0.243080</td>\n",
       "      <td>2.864861</td>\n",
       "      <td>0.022917</td>\n",
       "      <td>0.300915</td>\n",
       "      <td>2.919854</td>\n",
       "      <td>0.010549</td>\n",
       "      <td>-0.052986</td>\n",
       "      <td>3.0</td>\n",
       "    </tr>\n",
       "    <tr>\n",
       "      <th>452</th>\n",
       "      <td>2.0</td>\n",
       "      <td>0.82</td>\n",
       "      <td>0.82</td>\n",
       "      <td>2.46</td>\n",
       "      <td>0.0</td>\n",
       "      <td>1.0</td>\n",
       "      <td>0.000000</td>\n",
       "      <td>0.995400</td>\n",
       "      <td>0.004600</td>\n",
       "      <td>0.00</td>\n",
       "      <td>...</td>\n",
       "      <td>NaN</td>\n",
       "      <td>0.000000</td>\n",
       "      <td>0.000000</td>\n",
       "      <td>NaN</td>\n",
       "      <td>0.000000</td>\n",
       "      <td>0.000000</td>\n",
       "      <td>NaN</td>\n",
       "      <td>0.000000</td>\n",
       "      <td>0.000000</td>\n",
       "      <td>3.0</td>\n",
       "    </tr>\n",
       "    <tr>\n",
       "      <th>457</th>\n",
       "      <td>2.0</td>\n",
       "      <td>0.84</td>\n",
       "      <td>0.84</td>\n",
       "      <td>2.52</td>\n",
       "      <td>0.0</td>\n",
       "      <td>1.0</td>\n",
       "      <td>0.000000</td>\n",
       "      <td>0.995400</td>\n",
       "      <td>0.004600</td>\n",
       "      <td>0.00</td>\n",
       "      <td>...</td>\n",
       "      <td>NaN</td>\n",
       "      <td>0.000000</td>\n",
       "      <td>0.000000</td>\n",
       "      <td>NaN</td>\n",
       "      <td>0.000000</td>\n",
       "      <td>0.000000</td>\n",
       "      <td>NaN</td>\n",
       "      <td>0.000000</td>\n",
       "      <td>0.000000</td>\n",
       "      <td>3.0</td>\n",
       "    </tr>\n",
       "    <tr>\n",
       "      <th>462</th>\n",
       "      <td>2.0</td>\n",
       "      <td>0.86</td>\n",
       "      <td>0.86</td>\n",
       "      <td>2.58</td>\n",
       "      <td>0.0</td>\n",
       "      <td>1.0</td>\n",
       "      <td>0.000000</td>\n",
       "      <td>0.997950</td>\n",
       "      <td>0.002050</td>\n",
       "      <td>0.00</td>\n",
       "      <td>...</td>\n",
       "      <td>NaN</td>\n",
       "      <td>0.000000</td>\n",
       "      <td>0.000000</td>\n",
       "      <td>NaN</td>\n",
       "      <td>0.000000</td>\n",
       "      <td>0.000000</td>\n",
       "      <td>NaN</td>\n",
       "      <td>0.000000</td>\n",
       "      <td>0.000000</td>\n",
       "      <td>3.0</td>\n",
       "    </tr>\n",
       "    <tr>\n",
       "      <th>467</th>\n",
       "      <td>2.0</td>\n",
       "      <td>0.88</td>\n",
       "      <td>0.88</td>\n",
       "      <td>2.64</td>\n",
       "      <td>0.0</td>\n",
       "      <td>1.0</td>\n",
       "      <td>0.000000</td>\n",
       "      <td>0.997950</td>\n",
       "      <td>0.002050</td>\n",
       "      <td>0.00</td>\n",
       "      <td>...</td>\n",
       "      <td>NaN</td>\n",
       "      <td>0.000000</td>\n",
       "      <td>0.000000</td>\n",
       "      <td>NaN</td>\n",
       "      <td>0.000000</td>\n",
       "      <td>0.000000</td>\n",
       "      <td>NaN</td>\n",
       "      <td>0.000000</td>\n",
       "      <td>0.000000</td>\n",
       "      <td>3.0</td>\n",
       "    </tr>\n",
       "    <tr>\n",
       "      <th>472</th>\n",
       "      <td>2.0</td>\n",
       "      <td>0.90</td>\n",
       "      <td>0.90</td>\n",
       "      <td>2.70</td>\n",
       "      <td>0.0</td>\n",
       "      <td>1.0</td>\n",
       "      <td>0.000000</td>\n",
       "      <td>0.998550</td>\n",
       "      <td>0.001450</td>\n",
       "      <td>0.00</td>\n",
       "      <td>...</td>\n",
       "      <td>NaN</td>\n",
       "      <td>0.000000</td>\n",
       "      <td>0.000000</td>\n",
       "      <td>NaN</td>\n",
       "      <td>0.000000</td>\n",
       "      <td>0.000000</td>\n",
       "      <td>NaN</td>\n",
       "      <td>0.000000</td>\n",
       "      <td>0.000000</td>\n",
       "      <td>3.0</td>\n",
       "    </tr>\n",
       "    <tr>\n",
       "      <th>476</th>\n",
       "      <td>2.0</td>\n",
       "      <td>0.92</td>\n",
       "      <td>0.92</td>\n",
       "      <td>2.76</td>\n",
       "      <td>0.0</td>\n",
       "      <td>1.0</td>\n",
       "      <td>0.000000</td>\n",
       "      <td>1.000000</td>\n",
       "      <td>0.000000</td>\n",
       "      <td>0.00</td>\n",
       "      <td>...</td>\n",
       "      <td>NaN</td>\n",
       "      <td>0.000000</td>\n",
       "      <td>NaN</td>\n",
       "      <td>NaN</td>\n",
       "      <td>0.000000</td>\n",
       "      <td>NaN</td>\n",
       "      <td>NaN</td>\n",
       "      <td>NaN</td>\n",
       "      <td>NaN</td>\n",
       "      <td>3.0</td>\n",
       "    </tr>\n",
       "    <tr>\n",
       "      <th>481</th>\n",
       "      <td>2.0</td>\n",
       "      <td>0.94</td>\n",
       "      <td>0.94</td>\n",
       "      <td>2.82</td>\n",
       "      <td>0.0</td>\n",
       "      <td>1.0</td>\n",
       "      <td>0.000000</td>\n",
       "      <td>1.000000</td>\n",
       "      <td>0.000000</td>\n",
       "      <td>0.00</td>\n",
       "      <td>...</td>\n",
       "      <td>NaN</td>\n",
       "      <td>0.000000</td>\n",
       "      <td>NaN</td>\n",
       "      <td>NaN</td>\n",
       "      <td>0.000000</td>\n",
       "      <td>NaN</td>\n",
       "      <td>NaN</td>\n",
       "      <td>NaN</td>\n",
       "      <td>NaN</td>\n",
       "      <td>3.0</td>\n",
       "    </tr>\n",
       "    <tr>\n",
       "      <th>487</th>\n",
       "      <td>2.0</td>\n",
       "      <td>0.96</td>\n",
       "      <td>0.96</td>\n",
       "      <td>2.88</td>\n",
       "      <td>0.0</td>\n",
       "      <td>1.0</td>\n",
       "      <td>0.000000</td>\n",
       "      <td>1.000000</td>\n",
       "      <td>0.000000</td>\n",
       "      <td>0.00</td>\n",
       "      <td>...</td>\n",
       "      <td>NaN</td>\n",
       "      <td>0.000000</td>\n",
       "      <td>NaN</td>\n",
       "      <td>NaN</td>\n",
       "      <td>0.000000</td>\n",
       "      <td>NaN</td>\n",
       "      <td>NaN</td>\n",
       "      <td>NaN</td>\n",
       "      <td>NaN</td>\n",
       "      <td>3.0</td>\n",
       "    </tr>\n",
       "    <tr>\n",
       "      <th>492</th>\n",
       "      <td>2.0</td>\n",
       "      <td>0.98</td>\n",
       "      <td>0.98</td>\n",
       "      <td>2.94</td>\n",
       "      <td>0.0</td>\n",
       "      <td>1.0</td>\n",
       "      <td>0.000000</td>\n",
       "      <td>1.000000</td>\n",
       "      <td>0.000000</td>\n",
       "      <td>0.00</td>\n",
       "      <td>...</td>\n",
       "      <td>NaN</td>\n",
       "      <td>0.000000</td>\n",
       "      <td>NaN</td>\n",
       "      <td>NaN</td>\n",
       "      <td>0.000000</td>\n",
       "      <td>NaN</td>\n",
       "      <td>NaN</td>\n",
       "      <td>NaN</td>\n",
       "      <td>NaN</td>\n",
       "      <td>3.0</td>\n",
       "    </tr>\n",
       "    <tr>\n",
       "      <th>498</th>\n",
       "      <td>2.0</td>\n",
       "      <td>1.00</td>\n",
       "      <td>1.00</td>\n",
       "      <td>3.00</td>\n",
       "      <td>0.0</td>\n",
       "      <td>1.0</td>\n",
       "      <td>0.000000</td>\n",
       "      <td>1.000000</td>\n",
       "      <td>0.000000</td>\n",
       "      <td>0.00</td>\n",
       "      <td>...</td>\n",
       "      <td>NaN</td>\n",
       "      <td>0.000000</td>\n",
       "      <td>NaN</td>\n",
       "      <td>NaN</td>\n",
       "      <td>0.000000</td>\n",
       "      <td>NaN</td>\n",
       "      <td>NaN</td>\n",
       "      <td>NaN</td>\n",
       "      <td>NaN</td>\n",
       "      <td>3.0</td>\n",
       "    </tr>\n",
       "  </tbody>\n",
       "</table>\n",
       "<p>38 rows × 21 columns</p>\n",
       "</div>"
      ],
      "text/plain": [
       "       r  cost  reward  fine  population_type  gajiucai         x         y  \\\n",
       "252  2.0  0.02    0.02  0.06              0.0       1.0  0.000000  0.515025   \n",
       "256  2.0  0.04    0.04  0.12              0.0       1.0  0.000000  0.486975   \n",
       "262  2.0  0.06    0.06  0.18              0.0       1.0  0.000000  0.407975   \n",
       "267  2.0  0.08    0.08  0.24              0.0       1.0  0.000000  0.378400   \n",
       "277  2.0  0.12    0.12  0.36              0.0       1.0  0.000000  0.336125   \n",
       "282  2.0  0.14    0.14  0.42              0.0       1.0  0.000000  0.363375   \n",
       "287  2.0  0.16    0.16  0.48              0.0       1.0  0.000000  0.346325   \n",
       "301  2.0  0.22    0.22  0.66              0.0       1.0  0.156925  0.000000   \n",
       "307  2.0  0.24    0.24  0.72              0.0       1.0  0.224125  0.000000   \n",
       "312  2.0  0.26    0.26  0.78              0.0       1.0  0.277975  0.000000   \n",
       "318  2.0  0.28    0.28  0.84              0.0       1.0  0.323000  0.000000   \n",
       "322  2.0  0.30    0.30  0.90              0.0       1.0  0.362600  0.000000   \n",
       "327  2.0  0.32    0.32  0.96              0.0       1.0  0.414225  0.000000   \n",
       "332  2.0  0.34    0.34  1.02              0.0       1.0  0.459175  0.000000   \n",
       "353  2.0  0.42    0.42  1.26              0.0       1.0  0.638350  0.000000   \n",
       "357  2.0  0.44    0.44  1.32              0.0       1.0  0.693300  0.000000   \n",
       "361  2.0  0.46    0.46  1.38              0.0       1.0  0.748575  0.000000   \n",
       "367  2.0  0.48    0.48  1.44              0.0       1.0  0.813100  0.000000   \n",
       "373  2.0  0.50    0.50  1.50              0.0       1.0  0.886375  0.000000   \n",
       "377  2.0  0.52    0.52  1.56              0.0       1.0  0.621700  0.228700   \n",
       "382  2.0  0.54    0.54  1.62              0.0       1.0  0.478950  0.362575   \n",
       "387  2.0  0.56    0.56  1.68              0.0       1.0  0.448275  0.400350   \n",
       "392  2.0  0.58    0.58  1.74              0.0       1.0  0.360575  0.505200   \n",
       "398  2.0  0.60    0.60  1.80              0.0       1.0  0.324225  0.537625   \n",
       "402  2.0  0.62    0.62  1.86              0.0       1.0  0.311475  0.556800   \n",
       "407  2.0  0.64    0.64  1.92              0.0       1.0  0.243900  0.633775   \n",
       "412  2.0  0.66    0.66  1.98              0.0       1.0  0.229400  0.653100   \n",
       "417  2.0  0.68    0.68  2.04              0.0       1.0  0.195925  0.692400   \n",
       "452  2.0  0.82    0.82  2.46              0.0       1.0  0.000000  0.995400   \n",
       "457  2.0  0.84    0.84  2.52              0.0       1.0  0.000000  0.995400   \n",
       "462  2.0  0.86    0.86  2.58              0.0       1.0  0.000000  0.997950   \n",
       "467  2.0  0.88    0.88  2.64              0.0       1.0  0.000000  0.997950   \n",
       "472  2.0  0.90    0.90  2.70              0.0       1.0  0.000000  0.998550   \n",
       "476  2.0  0.92    0.92  2.76              0.0       1.0  0.000000  1.000000   \n",
       "481  2.0  0.94    0.94  2.82              0.0       1.0  0.000000  1.000000   \n",
       "487  2.0  0.96    0.96  2.88              0.0       1.0  0.000000  1.000000   \n",
       "492  2.0  0.98    0.98  2.94              0.0       1.0  0.000000  1.000000   \n",
       "498  2.0  1.00    1.00  3.00              0.0       1.0  0.000000  1.000000   \n",
       "\n",
       "            z          p  ...        pc        pd        pm  pc_border  \\\n",
       "252  0.484975       0.00  ...       NaN  0.000000  0.000000        NaN   \n",
       "256  0.513025       0.00  ...       NaN  0.000000  0.000000        NaN   \n",
       "262  0.592025       0.00  ...       NaN  0.000000  0.000000        NaN   \n",
       "267  0.621600       0.00  ...       NaN  0.000000  0.000000        NaN   \n",
       "277  0.663875       0.00  ...       NaN  0.000000  0.000000        NaN   \n",
       "282  0.636625       0.00  ...       NaN  0.000000  0.000000        NaN   \n",
       "287  0.653675       0.00  ...       NaN  0.000000  0.000000        NaN   \n",
       "301  0.843075   31385.00  ...  1.212410       NaN  0.705000   1.200695   \n",
       "307  0.775875   44825.00  ...  1.476118       NaN  1.017935   1.449123   \n",
       "312  0.722025   55595.00  ...  1.729148       NaN  1.259257   1.689460   \n",
       "318  0.677000   64600.00  ...  1.958251       NaN  1.451233   1.901021   \n",
       "322  0.637400   72520.00  ...  2.166209       NaN  1.612069   2.090332   \n",
       "327  0.585775   82845.00  ...  2.393928       NaN  1.842858   2.295902   \n",
       "332  0.540825   91835.00  ...  2.620063       NaN  2.020631   2.511744   \n",
       "353  0.361650  127670.00  ...  3.464584       NaN  2.710169   3.455850   \n",
       "357  0.306700  138660.00  ...  3.712816       NaN  2.909700   3.774557   \n",
       "361  0.251425  149715.00  ...  3.962455       NaN  3.089112   4.087511   \n",
       "367  0.186900  162620.00  ...  4.240536       NaN  3.304013   4.414310   \n",
       "373  0.113625  177275.00  ...  4.560838       NaN  3.425853   4.712530   \n",
       "377  0.149600  114116.80  ...  4.013785  0.362243  1.836263   4.166208   \n",
       "382  0.158475   82242.48  ...  3.709786  0.249118  1.192213   3.833194   \n",
       "387  0.151375   75520.60  ...  3.708677  0.168877  1.043092   3.829809   \n",
       "392  0.134225   57944.44  ...  3.438670  0.205111  0.782943   3.533872   \n",
       "398  0.138150   49725.00  ...  3.370422  0.114355  0.643286   3.450122   \n",
       "402  0.131725   46217.16  ...  3.277192  0.110418  0.555589   3.339716   \n",
       "407  0.122325   33379.04  ...  3.160394  0.018006  0.427092   3.197906   \n",
       "412  0.117500   30259.12  ...  3.007480  0.036087  0.365902   3.012308   \n",
       "417  0.111675   24233.16  ...  2.879878  0.020859  0.243080   2.864861   \n",
       "452  0.004600       0.00  ...       NaN  0.000000  0.000000        NaN   \n",
       "457  0.004600       0.00  ...       NaN  0.000000  0.000000        NaN   \n",
       "462  0.002050       0.00  ...       NaN  0.000000  0.000000        NaN   \n",
       "467  0.002050       0.00  ...       NaN  0.000000  0.000000        NaN   \n",
       "472  0.001450       0.00  ...       NaN  0.000000  0.000000        NaN   \n",
       "476  0.000000       0.00  ...       NaN  0.000000       NaN        NaN   \n",
       "481  0.000000       0.00  ...       NaN  0.000000       NaN        NaN   \n",
       "487  0.000000       0.00  ...       NaN  0.000000       NaN        NaN   \n",
       "492  0.000000       0.00  ...       NaN  0.000000       NaN        NaN   \n",
       "498  0.000000       0.00  ...       NaN  0.000000       NaN        NaN   \n",
       "\n",
       "     pd_border  pm_border  pc_inland  pd_inland  pm_inland  fine_f  \n",
       "252   0.000000   0.000000        NaN   0.000000   0.000000     3.0  \n",
       "256   0.000000   0.000000        NaN   0.000000   0.000000     3.0  \n",
       "262   0.000000   0.000000        NaN   0.000000   0.000000     3.0  \n",
       "267   0.000000   0.000000        NaN   0.000000   0.000000     3.0  \n",
       "277   0.000000   0.000000        NaN   0.000000   0.000000     3.0  \n",
       "282   0.000000   0.000000        NaN   0.000000   0.000000     3.0  \n",
       "287   0.000000   0.000000        NaN   0.000000   0.000000     3.0  \n",
       "301        NaN   0.536897   1.620924        NaN   0.972532     3.0  \n",
       "307        NaN   0.946909   1.919961        NaN   1.102424     3.0  \n",
       "312        NaN   1.327996   2.149144        NaN   1.182236     3.0  \n",
       "318        NaN   1.631547   2.381466        NaN   1.247340     3.0  \n",
       "322        NaN   1.870454   2.568611        NaN   1.289623     3.0  \n",
       "327        NaN   2.155945   2.748831        NaN   1.377513     3.0  \n",
       "332        NaN   2.354977   2.922203        NaN   1.436745     3.0  \n",
       "353        NaN   2.979445   3.478543        NaN   1.634829     3.0  \n",
       "357        NaN   3.136525   3.613937        NaN   1.726143     3.0  \n",
       "361        NaN   3.276785   3.741435        NaN   1.822681     3.0  \n",
       "367        NaN   3.452492   3.854613        NaN   1.923526     3.0  \n",
       "373        NaN   3.560316   3.973151        NaN   1.917473     3.0  \n",
       "377   0.283297   2.047397   3.558470   0.594994   0.709025     3.0  \n",
       "382   0.184373   1.375686   3.365119   0.455056   0.433960     3.0  \n",
       "387   0.122795   1.214424   3.354633   0.331493   0.343375     3.0  \n",
       "392   0.167047   0.906126   3.162063   0.350539   0.257725     3.0  \n",
       "398   0.074648   0.761162   3.155305   0.271990   0.161914     3.0  \n",
       "402   0.077897   0.646204   3.100398   0.240622   0.148342     3.0  \n",
       "407   0.010390   0.502013   3.058807   0.054434   0.054408     3.0  \n",
       "412   0.027126   0.433109   2.995661   0.078105   0.015291     3.0  \n",
       "417   0.022917   0.300915   2.919854   0.010549  -0.052986     3.0  \n",
       "452   0.000000   0.000000        NaN   0.000000   0.000000     3.0  \n",
       "457   0.000000   0.000000        NaN   0.000000   0.000000     3.0  \n",
       "462   0.000000   0.000000        NaN   0.000000   0.000000     3.0  \n",
       "467   0.000000   0.000000        NaN   0.000000   0.000000     3.0  \n",
       "472   0.000000   0.000000        NaN   0.000000   0.000000     3.0  \n",
       "476   0.000000        NaN        NaN        NaN        NaN     3.0  \n",
       "481   0.000000        NaN        NaN        NaN        NaN     3.0  \n",
       "487   0.000000        NaN        NaN        NaN        NaN     3.0  \n",
       "492   0.000000        NaN        NaN        NaN        NaN     3.0  \n",
       "498   0.000000        NaN        NaN        NaN        NaN     3.0  \n",
       "\n",
       "[38 rows x 21 columns]"
      ]
     },
     "execution_count": 11,
     "metadata": {},
     "output_type": "execute_result"
    }
   ],
   "source": [
    "from string import Template\n",
    "df['fine_f'] = df['fine'] / df['cost']\n",
    "df.query(Template('population_type==$pop and gajiucai==$ga and r==$r and 0<cost<1.2 and fine_f==3').substitute(pop=0, ga=1, r=2.))\n"
   ]
  },
  {
   "cell_type": "code",
   "execution_count": 95,
   "id": "9cb1ef08-b730-45e1-bbcc-2534531e2350",
   "metadata": {
    "pycharm": {
     "name": "#%%\n"
    }
   },
   "outputs": [],
   "source": [
    "df = pd.DataFrame([list(k) + list(record) for k, record in records.items()], columns=param_names + ['x', 'y', 'z', 'p', 'ap', 'pc', 'pd', 'pm', 'pc_border', 'pd_border', 'pm_border', 'pc_inland', 'pd_inland', 'pm_inland'])\n",
    "        "
   ]
  },
  {
   "cell_type": "code",
   "execution_count": 57,
   "id": "5ef411d6-f59b-48d4-966a-c476a503bb9a",
   "metadata": {
    "pycharm": {
     "name": "#%%\n"
    }
   },
   "outputs": [],
   "source": [
    "import pandas as pd\n",
    "import datetime\n",
    "import os\n",
    "os.makedirs('r_0-1_cost_0-0.6', exist_ok=True)\n",
    "for records in records_n:\n",
    "    name = str(datetime.datetime.now())\n",
    "\n",
    "    df = pd.DataFrame([list(k) + list(record[0]) for k, record in records.items()], columns=param_names + ['x', 'y', 'z', 'p', 'ap', 'pc', 'pd', 'pm'])\n",
    "    df = df.sort_values(by=['r', 'cost'], ignore_index=True)\n",
    "\n",
    "    df.to_csv('r_0-1_cost_0-0.6/' + str(datetime.datetime.now()) + '.csv')"
   ]
  },
  {
   "cell_type": "code",
   "execution_count": 60,
   "id": "fb3803d6-5d3c-4180-80aa-d871d5c21f46",
   "metadata": {
    "pycharm": {
     "name": "#%%\n"
    }
   },
   "outputs": [],
   "source": [
    "import pickle\n",
    "with open(str(datetime.datetime.now()) + '.pickle', 'wb') as f:\n",
    "    pickle.dump(records_n, f)"
   ]
  },
  {
   "cell_type": "code",
   "execution_count": 55,
   "id": "e9122b50-3fbe-4fc2-a96d-3636b65e8100",
   "metadata": {
    "pycharm": {
     "name": "#%%\n"
    }
   },
   "outputs": [],
   "source": [
    "import os\n",
    "os.makedirs('r_0-1_cost_0-0.6', exist_ok=True)"
   ]
  }
 ],
 "metadata": {
  "kernelspec": {
   "display_name": "Python 3 (ipykernel)",
   "language": "python",
   "name": "python3"
  },
  "language_info": {
   "codemirror_mode": {
    "name": "ipython",
    "version": 3
   },
   "file_extension": ".py",
   "mimetype": "text/x-python",
   "name": "python",
   "nbconvert_exporter": "python",
   "pygments_lexer": "ipython3",
   "version": "3.9.12"
  },
  "toc-autonumbering": false,
  "toc-showcode": false,
  "toc-showmarkdowntxt": false,
  "toc-showtags": false
 },
 "nbformat": 4,
 "nbformat_minor": 5
}